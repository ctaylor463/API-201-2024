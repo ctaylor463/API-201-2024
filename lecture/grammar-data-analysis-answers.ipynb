{
  "cells": [
    {
      "cell_type": "markdown",
      "metadata": {
        "id": "view-in-github",
        "colab_type": "text"
      },
      "source": [
        "<a href=\"https://colab.research.google.com/github/5harad/API-201-2023/blob/main/lecture/grammar-data-analysis-answers.ipynb\" target=\"_parent\"><img src=\"https://colab.research.google.com/assets/colab-badge.svg\" alt=\"Open In Colab\"/></a>"
      ]
    },
    {
      "cell_type": "markdown",
      "metadata": {
        "id": "7XJoTaulWH-B"
      },
      "source": [
        "# **API-201: The grammar of data analysis**\n",
        "\n",
        "In this class session, we'll see how we can accomplish sophisticated data analysis by cleverly combining just a few basic operations. To do so, we'll use the R library `tidyverse`"
      ]
    },
    {
      "cell_type": "markdown",
      "source": [
        "**Getting started**\n",
        "\n",
        "Before you start, create a copy of this Jupyter notebook in your own Google Drive by clicking `Copy to Drive` in the menubar. If you do not do this your work will not be saved!\n",
        "\n",
        "We recommend completing this problem set in Google Chrome."
      ],
      "metadata": {
        "id": "GGjkcgBfWkxO"
      }
    },
    {
      "cell_type": "markdown",
      "source": [
        "Run the cell below to set some formatting options that will make it easier for us to explore and analyze data."
      ],
      "metadata": {
        "id": "YlZFmiufhkdi"
      }
    },
    {
      "cell_type": "code",
      "execution_count": null,
      "metadata": {
        "id": "ZSsswzx_WH-C"
      },
      "outputs": [],
      "source": [
        "# Some initial setup\n",
        "options(digits = 3, repr.matrix.max.rows = 10, repr.matrix.max.cols = 100)"
      ]
    },
    {
      "cell_type": "markdown",
      "metadata": {
        "id": "ot1iJGGTWH-D"
      },
      "source": [
        "In this section, and throughout most of the course, we will be using packages that are part of the [`tidyverse`](https://www.tidyverse.org/).\n",
        "\n",
        "The [tidyverse](https://www.tidyverse.org) is a collection of actively developed `R` packages that follow a certain principle of writing code.\n",
        "Here, we will primarily focus on the part of `tidyverse` which deals with data manipulation.\n",
        "\n",
        "Run the cell below to import the `tidyverse` library."
      ]
    },
    {
      "cell_type": "code",
      "execution_count": null,
      "metadata": {
        "id": "W1Gk1kfcWH-D"
      },
      "outputs": [],
      "source": [
        "# First, we load the library\n",
        "library(tidyverse)"
      ]
    },
    {
      "cell_type": "markdown",
      "source": [
        "### The data\n",
        "\n",
        "First, we will start by reading some data.\n",
        "There are many functions for reading various data formats into the `R` environment as a table of data (or, `data.frame`).\n",
        "For example, either `read_csv` (from `tidyverse`) or `read.csv` (base `R`) can be used to read a `csv` file (e.g., a file where each line represents a row in the table, and the columns are separated by a `,`).\n",
        "\n",
        "For this course, we have prepared a table of data in the `rds` format, a format that `R` uses to efficiently store data.\n",
        "We can read the `sqf_sample.rds` file into the current `R` session with the `readRDS` function.\n",
        "Let's name this table `stop_df`.\n",
        "\n",
        "The loaded data frame, `stop_df`, is a sample of stops in NYC, recorded on a\n",
        "[UF-250 form][uf250_link]. (We consider a random sample of 1M stops out of a total of 3.8M in the full dataset.)\n",
        "\n",
        "Each row corresponds to a stop that an officer made, and the columns represent various entries in the [UF-250 form][uf250_link].\n",
        "\n",
        "[uf250_link]: https://www.prisonlegalnews.org/media/publications/Blank%20UF-250%20Form%20-%20Stop%2C%20Question%20and%20Frisk%20Report%20Worksheet%2C%20NYPD%2C%202016.pdf"
      ],
      "metadata": {
        "id": "w_i_Z4jfhNgI"
      }
    },
    {
      "cell_type": "code",
      "execution_count": null,
      "metadata": {
        "id": "Asx5S7uIWH-E"
      },
      "outputs": [],
      "source": [
        "# Read the data\n",
        "fname <- \"https://5harad.com/datasets/API201/sqf_sample.rds\"\n",
        "stop_df <- readRDS(url(fname))"
      ]
    },
    {
      "cell_type": "markdown",
      "source": [
        "To start getting a sense of data, we can look at the first few rows with the `head` function."
      ],
      "metadata": {
        "id": "kaLObp_3gviT"
      }
    },
    {
      "cell_type": "code",
      "source": [
        "head(stop_df)"
      ],
      "metadata": {
        "id": "Ay48U-nJgG7S"
      },
      "execution_count": null,
      "outputs": []
    },
    {
      "cell_type": "markdown",
      "metadata": {
        "id": "Y17gYTG0WH-F"
      },
      "source": [
        "Below is a list of columns in the data, roughly corresponding to the [UF-250 form][uf250_link]:\n",
        "\n",
        "* Base information regarding stop:\n",
        "    * `id`, `serial`, `year`, `date`, `day`, `time`, `hour`, `precinct`, `location_housing`,\n",
        "      `suspected_crime`, `lat`, `lon`, `xcoord`, `ycoord`\n",
        "\n",
        "* Circumstances which led to the stop:\n",
        "    * `stopped_bc_object`, `stopped_bc_desc`, `stopped_bc_casing`, `stopped_bc_lookout`, `stopped_bc_clothing`, `stopped_bc_drugs`, `stopped_bc_furtive`, `stopped_bc_violent`, `stopped_bc_bulge`, `stopped_bc_other`\n",
        "    \n",
        "* Demographics of the stopped individual:\n",
        "    * `subject_dob`, `subject_id_type`, `subject_sex`, `subject_race`,\n",
        "      `subject_hispanic`, `subject_age`, `subject_height`, `subject_weight`,\n",
        "      `subject_hair`, `subject_eye`, `subject_build`\n",
        "\n",
        "* Whether physical force was used:\n",
        "    * `force_hands`, `force_wall`, `force_ground`, `force_drawn`,\n",
        "      `force_pointed`, `force_baton`, `force_handcuffs`,\n",
        "      `force_pepper`, `force_other`\n",
        "\n",
        "* Was suspect arrested?: `arrested`\n",
        "    * if yes: `arrested_reason`\n",
        "\n",
        "* Was summons issued?: `summons_issued`\n",
        "\n",
        "* Officer in uniform?: `officer_uniform`, `officer_verbal`, `officer_shield`\n",
        "\n",
        "* Was person frisked?: `frisked`\n",
        "    * if yes: `frisked_bc_suspected_crime`, `frisked_bc_weapons`, `frisked_bc_attire`, `frisked_bc_actual_crime`, `frisked_bc_noncompliance`, `frisked_bc_threats`, `frisked_bc_prior`, `frisked_bc_furtive`, `frisked_bc_bulge`\n",
        "\n",
        "* Was person searched?: `searched`,\n",
        "    * if yes: `searched_hardobject`, `searched_outline`,\n",
        "      `searched_admission`, `searched_other`\n",
        "\n",
        "* Was weapon found?: `found_weapon`\n",
        "    * if yes: `found_gun`, `found_pistol`, `found_rifle`, `found_assault`,\n",
        "      `found_knife`, `found_machinegun`, `found_other`\n",
        "      \n",
        "* Was other contraband found?: `found_contraband`\n",
        "\n",
        "* Additional circumstances/factors\n",
        "    * `additional_report`, `additional_investigation`, `additional_proximity`,\n",
        "      `additional_evasive`, `additional_associating`, `additional_direction`,\n",
        "      `additional_highcrime`, `additional_time`, `additional_sights`,\n",
        "      `additional_other`\n",
        "\n",
        "* Additional reports prepared: `extra_reports`\n",
        "\n",
        "* Whether the stop was a result of a radio run: `radio_run`\n",
        "\n",
        "* Was the stop made inside or outside: `inside_outside`\n",
        "\n",
        "* Period of observation (minutes): `observation_period`, `stop_length`\n",
        "\n",
        "* Type of ID the person had (photo, refused, verified, other): `identification`\n",
        "\n",
        "* Local hit rate: `local_hit_rate`, defined as the average hit rate for drug and cpw stops at the location of the stop for the previous year, using gaussian kernel averaging. NA if it's other type of stops.\n",
        "\n",
        "[uf250_link]: https://www.prisonlegalnews.org/media/publications/Blank%20UF-250%20Form%20-%20Stop%2C%20Question%20and%20Frisk%20Report%20Worksheet%2C%20NYPD%2C%202016.pdf\n",
        "      "
      ]
    },
    {
      "cell_type": "markdown",
      "metadata": {
        "id": "z9Dox9vUWH-G"
      },
      "source": [
        "## Introduction to `tidyverse` verbs\n",
        "\n",
        "In the world of `tidyverse`, a _verb_ is a function that\n",
        "\n",
        "* takes a data frame as its first argument, and\n",
        "* returns another data frame as a result\n",
        "\n",
        "Any function that meets this criterion, even if it's not necessarily a function in the `tidyverse` package, can be considered a _verb_.\n",
        "\n",
        "For example, the `head()` function that we used above, if applied to a data frame, will return the first few rows of that data frame. In this sense, the `head()` function is a _verb_."
      ]
    },
    {
      "cell_type": "markdown",
      "metadata": {
        "id": "sN38OjuGWH-H"
      },
      "source": [
        "The **core idea** of `tidyverse` is that a vast majority of data manipulation needs can be satisfied through a combination of five verbs and a preposition.\n",
        "\n",
        "We can think of this paradigm as the **grammar of data manipulation**.  \n",
        "\n",
        "verb                 | action\n",
        "-------------------- | ---------\n",
        "`filter(df, ...)`    | select a subset of _rows_ by some specified condition\n",
        "`select(df, ...)`    | select a subset of _columns_\n",
        "`mutate(df, ...)`    | create a _new column_ (often as a function of existing columns)\n",
        "`arrange(df, ...)`   | reorder (sort) _rows_ according to values of specific _columns_\n",
        "`summarize(df, ...)` | aggregate and reduce a vector (column) to a single value\n",
        "\n",
        "<br>\n",
        "   \n",
        "preposition                 | action\n",
        "-------------------- | ---------\n",
        "`group_by(df, ...)`    | prepare the data so that verbs can be applied to each group\n",
        "\n",
        "\n",
        "\n",
        "We will explore each of these verbs (and some additional variations within each category) below."
      ]
    },
    {
      "cell_type": "markdown",
      "metadata": {
        "id": "CCxP3aK7WH-H"
      },
      "source": [
        "### `filter` (1/5)\n",
        "\n",
        "The `filter(df, ...)` verb is used to select a subset of _rows_ that satisfy the conditions specified in `...`.\n",
        "The conditions must be written in a form that would evaluate to either `TRUE` or `FALSE`.\n",
        "\n",
        "For example, the cell below returns a data frame of stops in precinct `22`."
      ]
    },
    {
      "cell_type": "code",
      "execution_count": null,
      "metadata": {
        "id": "SaWUVTU8WH-H"
      },
      "outputs": [],
      "source": [
        "filter(stop_df, precinct == 22)"
      ]
    },
    {
      "cell_type": "markdown",
      "source": [
        "In the `filter` command above, we used the `==` sign to specify that we wanted rows for which the precinct numbers were exactly equal to 22. We could analogously use the symbols `>`, `>=`, `<`, and `<=` to specify precincts greater than, greater than or equal to, less than, and less than or equal to some number.\n",
        "\n",
        "Because the output has a lot of rows — too many to print — `R` only displays the first few and the last few, with `...` indicating the omitted rows.\n",
        "\n",
        "Importantly, applying a verb to a data frame **does not alter** the original data frame. This is generally a very good design choice (in computer science we call this the no-side-effects principle). So if you want to save the output, you have to explicitly assign it to a variable."
      ],
      "metadata": {
        "id": "1btDtsEMmjh_"
      }
    },
    {
      "cell_type": "markdown",
      "metadata": {
        "id": "TQ7ddcz8WH-H"
      },
      "source": [
        "Multiple conditions can also be specified in the `filter` function.\n",
        "\n",
        "For example, the cell below returns a data frame of stops in precinct `22` in which a weapon was found."
      ]
    },
    {
      "cell_type": "code",
      "execution_count": null,
      "metadata": {
        "id": "u-TJHSiuWH-H"
      },
      "outputs": [],
      "source": [
        "filter(stop_df, precinct == 22, found_weapon == TRUE)\n",
        "\n",
        "# Note that we could also write\n",
        "#   filter(stop_df, precinct == 22, found_weapon)\n",
        "# since the values of found_weapon are already either TRUE or FALSE"
      ]
    },
    {
      "cell_type": "markdown",
      "metadata": {
        "id": "NdJB-QisWH-H"
      },
      "source": [
        "By default, `filter()` will combine multiple conditions as `AND` operations.\n",
        "In the example above, we are returned stops where `precinct == 22` _**AND**_ `found_weapon == TRUE`.\n",
        "\n",
        "We can specify an `OR` condition by using the `|` operator.\n",
        "\n",
        "For example, the cell below return stops in precinct `22` where either a weapon _**OR**_ contraband was found."
      ]
    },
    {
      "cell_type": "code",
      "execution_count": null,
      "metadata": {
        "id": "67lYWNZ3WH-H"
      },
      "outputs": [],
      "source": [
        "filter(stop_df,\n",
        "       precinct == 22,\n",
        "       found_weapon == TRUE | found_contraband == TRUE)\n",
        "\n",
        "# Note that, within a set of parentheses, you can have as many line breaks as you want.\n",
        "# It's generally easier to read (and modify) if you have each condition on a new line.\n",
        "# For example, if you quickly wanted to check what the result looks like for _all_ precincts,\n",
        "# in the above code, you could just \"comment out\" the precinct == 22 condition by adding a \"#\" at the begining of the line"
      ]
    },
    {
      "cell_type": "markdown",
      "metadata": {
        "id": "fS0a03tQWH-I"
      },
      "source": [
        "We can use the `%in%` operator to filter to values that match a collection of values.\n",
        "\n",
        "For example, the cell below return stops in which the suspected crime was `burglary`, `robbery`, or `grand larceny`."
      ]
    },
    {
      "cell_type": "code",
      "execution_count": null,
      "metadata": {
        "id": "g_YXg0IVWH-I"
      },
      "outputs": [],
      "source": [
        "filter(stop_df,\n",
        "       suspected_crime %in% c(\"burglary\", \"robbery\", \"grand larceny\"))"
      ]
    },
    {
      "cell_type": "markdown",
      "metadata": {
        "id": "4lyPWEKcWH-I"
      },
      "source": [
        "### Exercise: `filter()`\n",
        "\n",
        "Find all stops that took place in `transit`(`location_housing` is `transit`), where the `suspected_crime` was criminal possession of a weapon (`cpw`), and a weapon was _not_ found (`found_weapon` is `FALSE`)."
      ]
    },
    {
      "cell_type": "code",
      "execution_count": null,
      "metadata": {
        "id": "MuYXKkcOWH-I"
      },
      "outputs": [],
      "source": [
        "# Your answer here!\n",
        "\n",
        "# START solution\n",
        "filter(stop_df,\n",
        "       location_housing == \"transit\",\n",
        "       suspected_crime == \"cpw\",\n",
        "       found_weapon == FALSE)\n",
        "# END solution"
      ]
    },
    {
      "cell_type": "markdown",
      "metadata": {
        "id": "x_1-4TyqWH-I"
      },
      "source": [
        "### `select` (2/5)\n",
        "\n",
        "Use `select(df, ...)` to limit a data frame to the specified columns."
      ]
    },
    {
      "cell_type": "code",
      "execution_count": null,
      "metadata": {
        "id": "pNf1FNBoWH-I"
      },
      "outputs": [],
      "source": [
        "select(stop_df, year, precinct, suspected_crime)"
      ]
    },
    {
      "cell_type": "markdown",
      "metadata": {
        "id": "DP452H_AWH-J"
      },
      "source": [
        "`tidyverse` also provides some useful helper functions to `select` columns that match specific criteria. For example, `starts_with(x)` lets us select columns that start with the string `x`.\n",
        "\n",
        "For example, the cell below returns all the columns indicating what was found."
      ]
    },
    {
      "cell_type": "code",
      "execution_count": null,
      "metadata": {
        "id": "kdOUShqFWH-J"
      },
      "outputs": [],
      "source": [
        "select(stop_df, starts_with(\"found_\"))"
      ]
    },
    {
      "cell_type": "markdown",
      "metadata": {
        "id": "GyT3WZjCWH-J"
      },
      "source": [
        "### Exercise: `select()`\n",
        "\n",
        "1. Based on the UF-250 form, select the columns from `stop_df` that describe the demographics of the stopped individual."
      ]
    },
    {
      "cell_type": "code",
      "execution_count": null,
      "metadata": {
        "id": "2ioALMllWH-J"
      },
      "outputs": [],
      "source": [
        "# Your answer here!\n",
        "\n",
        "# START solution\n",
        "select(stop_df, starts_with(\"subject_\"))\n",
        "# END solution"
      ]
    },
    {
      "cell_type": "markdown",
      "metadata": {
        "id": "2eEKxcdeWH-J"
      },
      "source": [
        "### `mutate` (3/5)\n",
        "\n",
        "Use `mutate(df, ...)` to create new columns, usually as a function of existing columns.\n",
        "\n",
        "Suppose we wish to create a column called `is_cpw`, indicating whether the `suspected_crime` for each stop was `cpw` (criminal possession of a weapon) or not.\n",
        "We would write,"
      ]
    },
    {
      "cell_type": "code",
      "execution_count": null,
      "metadata": {
        "id": "Sx7iUG3yWH-J"
      },
      "outputs": [],
      "source": [
        "mutate(stop_df, is_cpw = (suspected_crime == \"cpw\"))\n",
        "# Note that the new column will be the very last column in the data frame"
      ]
    },
    {
      "cell_type": "markdown",
      "metadata": {
        "id": "0f06ueTqWH-J"
      },
      "source": [
        "### Exercise: `mutate()`\n",
        "\n",
        "Create a column called `is_am` that indicates whether the stop occurred in the morning (prior to 12) or not. The values of the column should be either `TRUE` or `FALSE`."
      ]
    },
    {
      "cell_type": "code",
      "execution_count": null,
      "metadata": {
        "id": "hBKnNkr2WH-J"
      },
      "outputs": [],
      "source": [
        "# Your answer here!\n",
        "\n",
        "# START solution\n",
        "mutate(stop_df, is_am = (hour < 12))\n",
        "# END solution"
      ]
    },
    {
      "cell_type": "markdown",
      "metadata": {
        "id": "zg54RQ-lWH-K"
      },
      "source": [
        "### `arrange` (4/5)\n",
        "\n",
        "Use `arrange(df, ...)` to reorder the rows of a data frame by the value of specified columns.\n",
        "Multiple conditions are arranged from left to right."
      ]
    },
    {
      "cell_type": "code",
      "execution_count": null,
      "metadata": {
        "id": "xnsYiBEYWH-K"
      },
      "outputs": [],
      "source": [
        "arrange(stop_df, date, time)"
      ]
    },
    {
      "cell_type": "markdown",
      "metadata": {
        "id": "jH7SM7ecWH-K"
      },
      "source": [
        "Note that the `NA`s in the column denote missing values, and appear at the end of sorted tables."
      ]
    },
    {
      "cell_type": "markdown",
      "source": [
        "### Exercise: `arrange()`\n",
        "\n",
        "Order `stop_df` in _descending_ order by precinct, with the precincts with the largest numbers appearing first in the list.\n",
        "\n",
        "Hint: To sort by `col_name` in descending order, you can write `desc(col_name)` in `arrange`."
      ],
      "metadata": {
        "id": "0dkIjGqhDxVI"
      }
    },
    {
      "cell_type": "code",
      "source": [
        "# Your answer here!\n",
        "\n",
        "# START solution\n",
        "arrange(stop_df, desc(precinct))\n",
        "# END solution"
      ],
      "metadata": {
        "id": "bhTQotOTEwBa"
      },
      "execution_count": null,
      "outputs": []
    },
    {
      "cell_type": "markdown",
      "metadata": {
        "id": "bzpbBfCNWH-K"
      },
      "source": [
        "### `summarize` (5/5)\n",
        "\n",
        "Use `summarize(df, ...)` to aggregate multiple rows into a single row. Unlike `mutate()`, functions that are used in `summarize()` must return a single value (i.e., \"aggregate\" the provided vector)\n",
        "\n",
        "For example, to find the `mean` height of all stopped individuals, we can run the cell below."
      ]
    },
    {
      "cell_type": "code",
      "execution_count": null,
      "metadata": {
        "id": "GS6bcRKNWH-K"
      },
      "outputs": [],
      "source": [
        "summarize(stop_df, avg_height = mean(subject_height))"
      ]
    },
    {
      "cell_type": "markdown",
      "metadata": {
        "id": "XAiUO_uTWH-K"
      },
      "source": [
        "`tidyverse` also provides a special function `n()` which returns the number of rows within the input to a verb.\n",
        "\n",
        "For example, to count how many stops (rows) there are in total, we can run the following cell."
      ]
    },
    {
      "cell_type": "code",
      "execution_count": null,
      "metadata": {
        "id": "97kO7r89WH-K"
      },
      "outputs": [],
      "source": [
        "summarize(stop_df, N = n())"
      ]
    },
    {
      "cell_type": "markdown",
      "metadata": {
        "id": "GBJNJomeWH-K"
      },
      "source": [
        "### Exercise: `summarize()`\n",
        "\n",
        "Find the proportion of stops that resulted in the recovery of a weapon. Is the proportion larger or smaller than you expected?\n",
        "\n"
      ]
    },
    {
      "cell_type": "code",
      "execution_count": null,
      "metadata": {
        "id": "l2ZxyLbnWH-K"
      },
      "outputs": [],
      "source": [
        "# Your answer here!\n",
        "\n",
        "# START solution\n",
        "summarize(stop_df, num_weapons = sum(found_weapon)/n())\n",
        "# END solution"
      ]
    },
    {
      "cell_type": "markdown",
      "metadata": {
        "id": "C3OvwIPkWH-K"
      },
      "source": [
        "### Grouping (Split-apply-combine)\n",
        "\n",
        "Now that we've covered the five core verbs, we should be able to manipulate data to our heart's desire, yes?\n",
        "\n",
        "Then, how about computing the number of stops for each `subject_race`?\n"
      ]
    },
    {
      "cell_type": "markdown",
      "metadata": {
        "id": "aagMXBjdWH-K"
      },
      "source": [
        "A natural, but _**tedious**_ way to compute this would look something like this:"
      ]
    },
    {
      "cell_type": "code",
      "execution_count": null,
      "metadata": {
        "id": "z0khQTcQWH-K"
      },
      "outputs": [],
      "source": [
        "# NOTE: Code in this cell is intended to be an example of a BAD way to compute\n",
        "# this. This is purely for illustrative purposes, and should NEVER EVER be\n",
        "# re-used, in any context. Never.\n",
        "white_stops <- filter(stop_df, subject_race == \"white\")\n",
        "black_stops <- filter(stop_df, subject_race == \"black\")\n",
        "hispanic_stops <- filter(stop_df, subject_race == \"hispanic\")\n",
        "\n",
        "N_white <- summarize(white_stops, N = n())\n",
        "N_black <- summarize(black_stops, N = n())\n",
        "N_hispanic <- summarize(hispanic_stops, N = n())\n",
        "\n",
        "N_white\n",
        "N_black\n",
        "N_hispanic"
      ]
    },
    {
      "cell_type": "markdown",
      "metadata": {
        "id": "ChtDKuaLWH-K"
      },
      "source": [
        "This style of code can easily get out of hand!\n",
        "For example, what happens if we get a new dataset that includes 8 different race categories?\n",
        "\n",
        "As horrible as the above code is, it is useful for highlighting a common pattern that emerges when manipulating data:\n",
        "\n",
        "1. **Split**: The data are split into smaller pieces of data, according to one (or more) column(s).\n",
        "   In this case, we've split the data by the `subject_race` column.\n",
        "1. **Apply**: Some operation is applied to each of the smaller pieces.\n",
        "   In this case, we've simply counted the number of rows of each piece using `summarize()` and `n()`.\n",
        "1. **Combine**: The results of the previous **apply** are combined to some final data structure.\n",
        "   In the above case, for simplicity, we've just printed the individual numbers; but we usually want to keep everything in the form of a data frame."
      ]
    },
    {
      "cell_type": "markdown",
      "metadata": {
        "id": "zJYb0xRmWH-K"
      },
      "source": [
        "This pattern in data manipulation is so common, that there is a `tidyverse` function for it: `group_by`.\n",
        "\n",
        "On it's own, `group_by` makes no visible changes to a data frame, other than marking the data frame as being \"grouped\".\n",
        "The difference is only made apparent when we apply some other verb to a grouped data frame.\n",
        "\n",
        "Remember that the `tidyverse` functions don't change the original data frame (this is good thing!). So, for now, we need to save the \"grouped\" data as a new variable for our changes to have an effect (but we'll see a more convenient approach to this later)."
      ]
    },
    {
      "cell_type": "code",
      "execution_count": null,
      "metadata": {
        "id": "LylicoEWWH-L"
      },
      "outputs": [],
      "source": [
        "stops_by_race <- group_by(stop_df, subject_race)\n",
        "\n",
        "# Note that the two data frames, on the surface, seem identical.\n",
        "stop_df\n",
        "stops_by_race"
      ]
    },
    {
      "cell_type": "code",
      "execution_count": null,
      "metadata": {
        "id": "gd4EVpqiWH-L"
      },
      "outputs": [],
      "source": [
        "# But we can see a difference when applying, for example, a summarize\n",
        "summarize(stop_df, N = n())"
      ]
    },
    {
      "cell_type": "code",
      "execution_count": null,
      "metadata": {
        "id": "tBhLPgl7WH-L"
      },
      "outputs": [],
      "source": [
        "summarize(stops_by_race, N = n())"
      ]
    },
    {
      "cell_type": "markdown",
      "metadata": {
        "id": "Ce5uko_7WH-L"
      },
      "source": [
        "As shown in the simple example above, when a `tidyverse` verb is applied to a \"grouped\" data frame,\n",
        "`tidyverse` internally **splits**, **applies**, and **combines** the data, finally returning results for\n",
        "_each of the unique values that are found in the columns by which the data frame is grouped_.\n",
        "\n",
        "This can be a lot to process!\n",
        "But once you get used to it (via trying a bunch of manipulation tasks and seeing some more examples), you'll find it extremely convenient and powerful."
      ]
    },
    {
      "cell_type": "markdown",
      "metadata": {
        "id": "SMiarTxeWH-L"
      },
      "source": [
        "### Exercise: `group_by()`\n",
        "\n",
        "Calculate the proportion of stopped people who are frisked (`frisked`) and arrested (`arrested`) for each race group."
      ]
    },
    {
      "cell_type": "code",
      "execution_count": null,
      "metadata": {
        "id": "ToeR3kfRWH-L"
      },
      "outputs": [],
      "source": [
        "# Your answer here!\n",
        "\n",
        "# START solution\n",
        "race_group <- group_by(stop_df, subject_race)\n",
        "summarize(race_group,\n",
        "          frisk_rate = mean(frisked),\n",
        "          arrest_rate = mean(arrested)\n",
        "         )\n",
        "# END solution"
      ]
    },
    {
      "cell_type": "markdown",
      "metadata": {
        "id": "1esO5bSoWH-L"
      },
      "source": [
        "### Multiple (chained) operations\n",
        "\n",
        "As we saw above, we would often like to apply multiple operations (verbs) to a data frame.\n",
        "However, by design, verbs do not save intermediate changes to the original data frame, so for each operation we would have to assign the result to a new data frame.\n",
        "\n",
        "Even for a reasonable number of operations, this can get quite messy (i.e., we'd end up with so many names and data frames that we only use as intermediate steps)."
      ]
    },
    {
      "cell_type": "markdown",
      "metadata": {
        "id": "upTEEjvwWH-L"
      },
      "source": [
        "Fortunately, there's a better way!\n",
        "\n",
        "The `%>%` symbol — called the _pipe_ operator — lets us chain operations together without saving the intermediate results. It works by taking the output of one verb and using that as the starting point of the next.\n",
        "\n",
        "For example, the code below is a more succint way to compute the proportion of people in each race group who are frisked and arrested."
      ]
    },
    {
      "cell_type": "code",
      "execution_count": null,
      "metadata": {
        "id": "gUVu_E2eWH-L"
      },
      "outputs": [],
      "source": [
        "stop_df %>%\n",
        "    group_by(subject_race) %>%\n",
        "    summarize(\n",
        "      frisk_rate = mean(frisked),\n",
        "      arrest_rate = mean(arrested)\n",
        "    )"
      ]
    },
    {
      "cell_type": "markdown",
      "metadata": {
        "id": "kMRBtw7JWH-L"
      },
      "source": [
        "Note the intentional style of: (1) starting from the data frame (instead of a verb that explicitly includes the data frame); and (2) keeping each verb on its own line.\n",
        "This not only makes it easier to read, but also easier to maintain and modify."
      ]
    },
    {
      "cell_type": "markdown",
      "source": [
        "We can also group by multiple categories, as in the following example where we compute frisk and arrest rates for each precinct and race group."
      ],
      "metadata": {
        "id": "1_MPw_9ZX00h"
      }
    },
    {
      "cell_type": "code",
      "source": [
        "stop_df %>%\n",
        "    group_by(precinct, subject_race) %>%\n",
        "    summarize(\n",
        "      frisk_rate = mean(frisked),\n",
        "      arrest_rate = mean(arrested)\n",
        "    )"
      ],
      "metadata": {
        "id": "V6HjUEtSXqP-"
      },
      "execution_count": null,
      "outputs": []
    },
    {
      "cell_type": "markdown",
      "metadata": {
        "id": "atIZ9ZCaWH-L"
      },
      "source": [
        "### Exercise: Putting it all together\n",
        "\n",
        "Create a data frame called `hit_rates` that contains three columns:\n",
        "  - `precinct`\n",
        "  - `subject_race`\n",
        "  - `hit_rate` (i.e., the proportion of stops that resulted in the recovery of a weapon).\n",
        "\n",
        "When creating the data frame, limit to stops in which:\n",
        "  - the suspected crime (`suspected_crime`) was criminal possession of a weapon (`cpw`), and\n",
        "  - the race of the stopped individual (`subject_race`) was White (`white`), Black (`black`), or Hispanic (`hispanic`).\n",
        "\n"
      ]
    },
    {
      "cell_type": "code",
      "execution_count": null,
      "metadata": {
        "id": "XF-qIsyWWH-M"
      },
      "outputs": [],
      "source": [
        "# Your answer here!\n",
        "\n",
        "# START solution\n",
        "hit_rates <- stop_df %>%\n",
        "  filter(suspected_crime == 'cpw', subject_race %in% c('white','black','hispanic')) %>%\n",
        "  group_by(precinct, subject_race) %>%\n",
        "  summarize(\n",
        "    hit_rate = mean(found_weapon)\n",
        "  )\n",
        "hit_rates\n",
        "# END"
      ]
    },
    {
      "cell_type": "markdown",
      "source": [
        "Run the code below to plot your results.\n",
        "\n",
        "How do you interpret the results? What does the plot tell you about discrimination in stop-and-frisk?"
      ],
      "metadata": {
        "id": "0h71NF7y6Gtw"
      }
    },
    {
      "cell_type": "code",
      "source": [
        "hit_rates %>%\n",
        "  pivot_wider(names_from = subject_race, values_from = hit_rate) %>%\n",
        "  pivot_longer(c(black, hispanic), names_to = \"race\", values_to = \"hit_rate\") %>%\n",
        "  mutate(race = str_to_title(race)) %>%\n",
        "  ggplot(aes(x=hit_rate, y=white)) +\n",
        "  geom_point() +\n",
        "  facet_grid(.~race) +\n",
        "  scale_x_continuous('Hit rate for people of color', limits=c(0,0.3)) +\n",
        "  scale_y_continuous('Hit rate for White individuals', limits=c(0,0.3)) +\n",
        "  geom_abline(slope=1, intercept=0, linetype='dashed')"
      ],
      "metadata": {
        "id": "qn2xmlVB4xZf"
      },
      "execution_count": null,
      "outputs": []
    },
    {
      "cell_type": "markdown",
      "source": [
        "### Joining datasets\n",
        "\n",
        "Often we need to combine multiple datasets to carry out an analysis. We can do this with various types of `join` operations (e.g., an `inner_join`, `left_join`, and a `full_join`). You can read more about the differences between these in [R4DS](https://r4ds.hadley.nz/joins#how-do-joins-work)."
      ],
      "metadata": {
        "id": "psL9mn8rI2J4"
      }
    },
    {
      "cell_type": "markdown",
      "source": [
        "For a final exercise, we'll compute the _stop rate_ (i.e., the number of stops divided by the number of residents) for each precinct in New York City.\n",
        "\n",
        "To do so, we'll use 2010 precinct-level population data [compiled by John Keefe](https://johnkeefe.net/nyc-police-precinct-and-census-data). To help you visualize the geography of NYC, here is a map with each police precinct labeled (from [Golub et al., 2006](https://www.researchgate.net/figure/fig1_247923137))."
      ],
      "metadata": {
        "id": "v7z6zOPRJsqc"
      }
    },
    {
      "cell_type": "markdown",
      "source": [
        "![figure-fig1.png](data:image/png;base64,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)"
      ],
      "metadata": {
        "id": "j8d0NL2uKlPh"
      }
    },
    {
      "cell_type": "markdown",
      "source": [
        "Run the cell below to load the precinct-level population data."
      ],
      "metadata": {
        "id": "BJ5ycG0yPq5j"
      }
    },
    {
      "cell_type": "code",
      "source": [
        "# load the precinct-level population data\n",
        "fname <- \"https://5harad.com/datasets/API201/nyc_precinct_pop.csv\"\n",
        "precinct_pop <- read_csv(fname, col_types = cols(precinct = col_factor()))\n",
        "\n",
        "head(precinct_pop)"
      ],
      "metadata": {
        "id": "kP7nSI7sML0t"
      },
      "execution_count": null,
      "outputs": []
    },
    {
      "cell_type": "markdown",
      "source": [
        "### Exercise: Stop rates\n",
        "\n",
        "Compute the stop rate for each precinct, and order the results in decreasing order of stop rate. Your final data frame should have four columns: `precinct`, `num_stops`, `population`, and `stop_rate`.\n",
        "\n",
        "What patterns do you observe? Do you think stop rate computed in this way is a good measure of police activity? What are some limitations of this measure?\n",
        "\n",
        "Hint: Remember that you can use `n()` within `summarize` to count the number of observations in a group."
      ],
      "metadata": {
        "id": "g4UxS2WMPytB"
      }
    },
    {
      "cell_type": "code",
      "source": [
        "# Your answer here!\n",
        "\n",
        "# START solution\n",
        "stop_df %>%\n",
        "  group_by(precinct) %>%\n",
        "  summarize(num_stops = n()) %>%\n",
        "  left_join(precinct_pop, by = 'precinct') %>%\n",
        "  mutate(stop_rate = num_stops / population) %>%\n",
        "  arrange(desc(stop_rate))\n",
        "# END"
      ],
      "metadata": {
        "id": "zA9VlBgsMtEU"
      },
      "execution_count": null,
      "outputs": []
    },
    {
      "cell_type": "markdown",
      "metadata": {
        "id": "PflMdfNWWH-M"
      },
      "source": [
        "## End notes\n",
        "\n",
        "There are many, MANY more verbs that we simply did not have the time to cover here, but are immensely useful.\n",
        "Some examples are:\n",
        "\n",
        "* `rename(df, ...)`: rename columns\n",
        "* `slice(df, ...)`: select rows of a data frame by index, instead of some condition\n",
        "* `top_n(df, N, col)`: retrieve the top N rows for values in some specified column\n",
        "\n",
        "One great resource for learning about `tidyverse` and using it to work with data is Hadley Wickham's online book: [R for Data Science](https://r4ds.had.co.nz/).\n",
        "(Hadley Wickham is also the original author for many of the packages in `tidyverse`.)"
      ]
    }
  ],
  "metadata": {
    "kernelspec": {
      "display_name": "R",
      "language": "R",
      "name": "ir"
    },
    "language_info": {
      "codemirror_mode": "r",
      "file_extension": ".r",
      "mimetype": "text/x-r-source",
      "name": "R",
      "pygments_lexer": "r",
      "version": "3.6.3"
    },
    "colab": {
      "provenance": [],
      "private_outputs": true,
      "include_colab_link": true
    },
    "gpuClass": "standard"
  },
  "nbformat": 4,
  "nbformat_minor": 0
}