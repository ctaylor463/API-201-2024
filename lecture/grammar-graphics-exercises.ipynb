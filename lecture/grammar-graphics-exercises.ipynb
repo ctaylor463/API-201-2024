{
  "cells": [
    {
      "cell_type": "markdown",
      "metadata": {
        "id": "view-in-github",
        "colab_type": "text"
      },
      "source": [
        "<a href=\"https://colab.research.google.com/github/5harad/API-201-2023/blob/main/lecture/grammar-graphics-exercises.ipynb\" target=\"_parent\"><img src=\"https://colab.research.google.com/assets/colab-badge.svg\" alt=\"Open In Colab\"/></a>"
      ]
    },
    {
      "cell_type": "markdown",
      "id": "c8f6d4f7",
      "metadata": {
        "id": "c8f6d4f7"
      },
      "source": [
        "# **API-201: The grammar of graphics**\n",
        "\n",
        "In this class session, we'll see how we can accomplish sophisticated data visualization using the *grammar of graphics*. In the process, we'll recreate many of the plots that saw in our last class.\n",
        "\n",
        "But a word of caution: there is a conceptual elegance to how visualization works in `tidyverse`, but the details can get messy. It is possible to create almost any plot you'd like, but it's not necessarily straightforward. Trial and error (and Google!) is your friend!"
      ]
    },
    {
      "cell_type": "markdown",
      "source": [
        "**Getting started**\n",
        "\n",
        "Before you start, create a copy of this Jupyter notebook in your own Google Drive by clicking `Copy to Drive` in the menubar. If you do not do this your work will not be saved!\n",
        "\n",
        "We recommend completing this problem set in Google Chrome."
      ],
      "metadata": {
        "id": "L77kDs7w56ZD"
      },
      "id": "L77kDs7w56ZD"
    },
    {
      "cell_type": "markdown",
      "id": "9236e1b7",
      "metadata": {
        "id": "9236e1b7"
      },
      "source": [
        "We begin by loading the various libraries that we'll use."
      ]
    },
    {
      "cell_type": "code",
      "execution_count": null,
      "id": "1b211e6c",
      "metadata": {
        "id": "1b211e6c"
      },
      "outputs": [],
      "source": [
        "library(tidyverse)\n",
        "library(scales)"
      ]
    },
    {
      "cell_type": "markdown",
      "id": "b7b40272-6392-4b64-995e-47f5c303c57e",
      "metadata": {
        "id": "b7b40272-6392-4b64-995e-47f5c303c57e"
      },
      "source": [
        "## Part 1: Intergenerational mobility\n",
        "\n",
        "This illustration is inspired by: https://www.youtube.com/watch?v=fSgEeI2Xpdc. Original data is from the paper Alesina, A, S Hohmann, S Michalopoulos and E Papaioannou (2019a), “Intergenerational mobility in Africa”, CEPR Discussion Paper 13497.\n",
        "\n",
        "Run the cell below to load the data."
      ]
    },
    {
      "cell_type": "code",
      "execution_count": null,
      "id": "da66dd85-5c94-4bea-bf04-611f93436828",
      "metadata": {
        "id": "da66dd85-5c94-4bea-bf04-611f93436828"
      },
      "outputs": [],
      "source": [
        "# We start by loading the data\n",
        "# from https://onlinelibrary.wiley.com/doi/epdf/10.3982/ECTA17018\n",
        "mobility <-\n",
        "    tribble(\n",
        "        ~country, ~avg, ~districts, ~median,   ~sd,  ~min,  ~max,\n",
        "        \"South Africa\",  0.79,        216,     0.8, 0.075, 0.555, 0.896,\n",
        "        \"Botswana\",   0.7,         23,   0.714, 0.079, 0.554, 0.909,\n",
        "        \"Zimbabwe\",  0.63,         88,   0.726, 0.148,   0.4,     1,\n",
        "        \"Nigeria\",  0.64,         37,   0.765, 0.201,  0.33, 0.963,\n",
        "        \"Egypt\",  0.65,        236,   0.694, 0.105, 0.418, 0.914,\n",
        "        \"Tanzania\",   0.6,        113,   0.611, 0.094, 0.408, 0.854,\n",
        "        \"Ghana\",  0.58,        110,    0.65, 0.158, 0.181,  0.82,\n",
        "        \"Cameroon\",  0.52,        230,   0.588, 0.203, 0.088, 0.896,\n",
        "        \"Kenya\",  0.45,        173,   0.514, 0.187, 0.048, 0.873,\n",
        "        \"Zambia\",  0.49,         72,   0.467, 0.127, 0.284, 0.785,\n",
        "        \"Morocco\",  0.43,         59,   0.424, 0.145,  0.16, 0.723,\n",
        "        \"Lesotho\",  0.44,         10,   0.437,  0.06, 0.317, 0.492,\n",
        "        \"Uganda\",  0.37,        161,   0.382, 0.128, 0.015, 0.696,\n",
        "        \"Benin\",  0.41,         77,   0.381, 0.132, 0.111, 0.649,\n",
        "        \"Rwanda\",  0.29,         30,    0.28, 0.063,  0.22, 0.469,\n",
        "        \"Senegal\",  0.29,         34,   0.209, 0.164, 0.078, 0.616,\n",
        "        \"Sierra Leone\",  0.26,        107,   0.185, 0.149, 0.032, 0.694,\n",
        "        \"Ethiopia\",  0.13,         97,   0.119, 0.235,     0, 0.865,\n",
        "        \"Malawi\",  0.16,        227,   0.163, 0.115, 0.052, 0.643,\n",
        "        \"Liberia\",  0.22,         47,    0.18,  0.08, 0.034, 0.345,\n",
        "        \"Guinea\",  0.23,         34,   0.179, 0.085, 0.063, 0.491,\n",
        "        \"Sudan\",  0.11,        129,   0.097, 0.144, 0.001, 0.551,\n",
        "        \"Mali\",  0.21,        242,   0.128, 0.096, 0.013, 0.578,\n",
        "        \"Burkina Faso\",  0.17,         45,   0.123,  0.08, 0.029, 0.526,\n",
        "        \"Mozambique\",   0.1,        144,   0.064, 0.086, 0.015, 0.707,\n",
        "        \"South Sudan\",  0.04,         72,   0.024, 0.056,     0, 0.319\n",
        "    )"
      ]
    },
    {
      "cell_type": "markdown",
      "source": [
        "We'll start by making a simple dot plot showing intergenerational mobility by country.\n",
        "\n",
        "Notice that we use `aes` to specify how to map the data to plotting parameters."
      ],
      "metadata": {
        "id": "ZlsMIFvzdiDG"
      },
      "id": "ZlsMIFvzdiDG"
    },
    {
      "cell_type": "code",
      "source": [
        "ggplot(mobility, aes(x = avg, y = country)) +\n",
        "  geom_point()"
      ],
      "metadata": {
        "id": "qBH2qHcY9GaC"
      },
      "id": "qBH2qHcY9GaC",
      "execution_count": null,
      "outputs": []
    },
    {
      "cell_type": "markdown",
      "source": [
        "### Exercise\n",
        "\n",
        "To create a bar plot instead of a dot plot, replace `geom_point` with `geom_col`.\n",
        "\n"
      ],
      "metadata": {
        "id": "OihEWurGd8tj"
      },
      "id": "OihEWurGd8tj"
    },
    {
      "cell_type": "code",
      "source": [
        "# Your answer here!\n",
        "\n"
      ],
      "metadata": {
        "id": "ebhuDkr39nh8"
      },
      "id": "ebhuDkr39nh8",
      "execution_count": null,
      "outputs": []
    },
    {
      "cell_type": "markdown",
      "source": [
        "### Exercise\n",
        "\n",
        "By default, categorical data (e.g., country names) are ordered alphabetically. We can recorder data with `fct_reorder`:\n",
        "> fct_reorder(vector, val)\n",
        "specifies that the levels of `vector` are sorted in increasing order of `val`.\n",
        "\n",
        "Modify the plot above so that countries are appropriately ordered.\n",
        "\n",
        "Hint: replace `y = country` with `y = fct_reorder(...)`, selecting the right parameters for `fct_reorder`."
      ],
      "metadata": {
        "id": "eQUus0rxeMcK"
      },
      "id": "eQUus0rxeMcK"
    },
    {
      "cell_type": "code",
      "source": [
        "# Your answer here!\n",
        "\n"
      ],
      "metadata": {
        "id": "doqOuYLG9sRN"
      },
      "id": "doqOuYLG9sRN",
      "execution_count": null,
      "outputs": []
    },
    {
      "cell_type": "markdown",
      "source": [
        "### Exercise\n",
        "\n",
        "We can additionally color the bars such that their color indicates intergenerational mobility. (Though that's not necessarily a good idea!)\n",
        "\n",
        "To do so, we add `fill = variable` to the aesthetic mapping, where `variable` is the name of the variable that `fill` (i.e., the color of the bars) should correspond to. Modify your code above to make this change."
      ],
      "metadata": {
        "id": "ySYr6sGyg-vd"
      },
      "id": "ySYr6sGyg-vd"
    },
    {
      "cell_type": "code",
      "source": [
        "# Your answer here!\n",
        "\n"
      ],
      "metadata": {
        "id": "9xXv8XfOg6zh"
      },
      "id": "9xXv8XfOg6zh",
      "execution_count": null,
      "outputs": []
    },
    {
      "cell_type": "markdown",
      "source": [
        "By default, the axes (and legend) take their names from the variables in the data frame. We can change the default names with the family of `scale` commands -- the scale commands also let us change other aspects of the \"scales\", like their range, but we'll focus on their names now.\n",
        "\n",
        "There are a variety of scale commands, like\n",
        "- `scale_x_continuous`\n",
        "- `scale_y_continuous`\n",
        "- `scale_fill_continuous`\n",
        "- `scale_x_discrete`\n",
        "- `scale_y_discrete`\n",
        "- `scale_fill_discrete`\n",
        "\n",
        "The first part of the name (e.g., `x`, `y`, and `fill`) reference the dimension of the data that we're interested in, and the second part (e.g., `continuous` and `discrete`) specify what type of data we're talking about.\n",
        "\n",
        "In our case, we can use `scale_x_continuous(name = 'Intergenerational mobility')` to specify that the horizontal access should be labeled \"Intergenerational mobility\".\n",
        "\n",
        "### Exercise\n",
        "\n",
        "Update the plot above so that the horizontal axis and legend are labelled \"Intergenerational mobility\" and the vertical axis has no name. You can set `name = NULL` to remove the name."
      ],
      "metadata": {
        "id": "il9Ai1zLwOgZ"
      },
      "id": "il9Ai1zLwOgZ"
    },
    {
      "cell_type": "code",
      "source": [
        "# Your answer here!\n",
        "\n"
      ],
      "metadata": {
        "id": "d5vfDHkN94h0"
      },
      "id": "d5vfDHkN94h0",
      "execution_count": null,
      "outputs": []
    },
    {
      "cell_type": "markdown",
      "source": [
        "### Exercise\n",
        "\n",
        "We can set the general appearance of a plot with the family of `theme` commands. For example, `theme_bw()` is a common choice that gives a white background. Try it yourself!"
      ],
      "metadata": {
        "id": "I-sv4BfrzQqv"
      },
      "id": "I-sv4BfrzQqv"
    },
    {
      "cell_type": "code",
      "source": [
        "# Your answer here!\n",
        "\n"
      ],
      "metadata": {
        "id": "tTG9Q_W1_eVj"
      },
      "id": "tTG9Q_W1_eVj",
      "execution_count": null,
      "outputs": []
    },
    {
      "cell_type": "markdown",
      "id": "35b6dcbe-7f9a-4da5-a399-e55ce7f919a2",
      "metadata": {
        "id": "35b6dcbe-7f9a-4da5-a399-e55ce7f919a2"
      },
      "source": [
        "## Part 2: Global surface temperatures"
      ]
    },
    {
      "cell_type": "markdown",
      "source": [
        "Now on to global temperatures over time. Run the cell below to get started."
      ],
      "metadata": {
        "id": "9exkvHLu4lsQ"
      },
      "id": "9exkvHLu4lsQ"
    },
    {
      "cell_type": "code",
      "execution_count": null,
      "id": "aa287765-0667-4917-8710-8769e1eceb87",
      "metadata": {
        "id": "aa287765-0667-4917-8710-8769e1eceb87"
      },
      "outputs": [],
      "source": [
        "fname <- \"https://5harad.com/datasets/API201/globaltemps.csv\"\n",
        "globaltemps <- read_csv(url(fname))\n",
        "\n",
        "head(globaltemps)"
      ]
    },
    {
      "cell_type": "markdown",
      "source": [
        "### Exercise\n",
        "\n",
        "Create a dot plot of global temperatures over time. Be sure to appropriately label the axes."
      ],
      "metadata": {
        "id": "5ZqwBTeO525_"
      },
      "id": "5ZqwBTeO525_"
    },
    {
      "cell_type": "code",
      "execution_count": null,
      "id": "14533a46",
      "metadata": {
        "id": "14533a46"
      },
      "outputs": [],
      "source": [
        "# Your answer here!\n",
        "\n"
      ]
    },
    {
      "cell_type": "markdown",
      "source": [
        "### Exercise\n",
        "\n",
        "Connect the points in the plot above by adding `geom_line()`. (If you just want the line, and no points, you can also remove `geom_point()`."
      ],
      "metadata": {
        "id": "POUUCz_87YiN"
      },
      "id": "POUUCz_87YiN"
    },
    {
      "cell_type": "code",
      "source": [
        "# Your answer here!\n",
        "\n"
      ],
      "metadata": {
        "id": "852kKYWv7JvM"
      },
      "id": "852kKYWv7JvM",
      "execution_count": null,
      "outputs": []
    },
    {
      "cell_type": "markdown",
      "source": [
        "### Exercise\n",
        "Now rescale the vertical axis to make it look like there was little change over time. (You shouldn't do this in practice, as it can mislead readers, like we discussed in class!)\n",
        "\n",
        "You can do this by passing in the argument `limits = c(lower, upper)` to a `scale` command to specify the range of an axis, where `lower` and `upper` are numbers that you specify. For example, `limits = c(-5, 1)` sets the range to go from -5 to 1."
      ],
      "metadata": {
        "id": "80KhKF-e6kxL"
      },
      "id": "80KhKF-e6kxL"
    },
    {
      "cell_type": "code",
      "source": [
        "# Your answer here!\n",
        "\n"
      ],
      "metadata": {
        "id": "Vi8NboTVOxIN"
      },
      "id": "Vi8NboTVOxIN",
      "execution_count": null,
      "outputs": []
    },
    {
      "cell_type": "markdown",
      "id": "e908bc6f",
      "metadata": {
        "id": "e908bc6f"
      },
      "source": [
        "## Part 3: Flight delays"
      ]
    },
    {
      "cell_type": "markdown",
      "source": [
        "Next we'll create a plot of airline delays. Run the following two cells to load and parse the data."
      ],
      "metadata": {
        "id": "ssbVa6zF0fAO"
      },
      "id": "ssbVa6zF0fAO"
    },
    {
      "cell_type": "code",
      "source": [
        "# load the data\n",
        "install.packages('nycflights13')\n",
        "library(nycflights13)"
      ],
      "metadata": {
        "id": "2K6neohrC4MI"
      },
      "id": "2K6neohrC4MI",
      "execution_count": null,
      "outputs": []
    },
    {
      "cell_type": "code",
      "execution_count": null,
      "id": "c62617b9",
      "metadata": {
        "id": "c62617b9"
      },
      "outputs": [],
      "source": [
        "# prepare the data\n",
        "national <- c('JetBlue', 'Southwest', 'United', 'American', 'Delta', 'US')\n",
        "regional <- c('ExpressJet', 'Envoy', 'Endeavor')\n",
        "\n",
        "flight_delays <- flights %>%\n",
        "    mutate(delayed = (arr_delay > 15)) %>%\n",
        "    group_by(carrier) %>%\n",
        "    summarize(p_delayed = mean(delayed, na.rm=TRUE)) %>%\n",
        "    left_join(airlines, by = 'carrier') %>%\n",
        "    mutate(short_name = word(name, 1)) %>%\n",
        "    filter(short_name %in% c(national, regional)) %>%\n",
        "    mutate(carrier_type = if_else(short_name %in% national, 'National', 'Regional'))\n",
        "\n",
        "flight_delays"
      ]
    },
    {
      "cell_type": "markdown",
      "source": [
        "### Exercise\n",
        "\n",
        "Create a dot plot using the `flight_delays` data such that:\n",
        "- The vertical axis lists airlines, with their delay percentages shown on the horiztontal axis;\n",
        "- The points are colored so as to indicate whether an airline is a national or regional carrier;\n",
        "- The axes are appropriately named and ordered.\n",
        "\n",
        "A couple of tips:\n",
        "- To color points, we use `color` as opposed to `fill` (which we used for bars). What is the corresponding name of the `scale` to name the legend?\n",
        "- You can pass in the argument `label=percent` to a `scale` command to format numbers as percentages rather than decimals."
      ],
      "metadata": {
        "id": "b46_yjSl1spL"
      },
      "id": "b46_yjSl1spL"
    },
    {
      "cell_type": "code",
      "execution_count": null,
      "id": "9521f5f5",
      "metadata": {
        "id": "9521f5f5"
      },
      "outputs": [],
      "source": [
        "# Your answer here!\n",
        "\n"
      ]
    },
    {
      "cell_type": "markdown",
      "source": [
        "## Part 4: Voter intent (on Xbox!)"
      ],
      "metadata": {
        "id": "K1NPHd6PP1eZ"
      },
      "id": "K1NPHd6PP1eZ"
    },
    {
      "cell_type": "markdown",
      "source": [
        "Finally, we'll examine candidate preferences collected on the Xbox gaming platform during the 2012 presidential election.\n",
        "\n",
        "(It might seem like a really bad idea to run such a survey on Xbox, but later in the course we'll see how you can adjust such survey data to be more representative of likely voters.)\n",
        "\n",
        "Run the cell below to start."
      ],
      "metadata": {
        "id": "ucrqOF7k8KXt"
      },
      "id": "ucrqOF7k8KXt"
    },
    {
      "cell_type": "code",
      "source": [
        "load(url(\"https://5harad.com/datasets/API201/voter_intent.Rdata\"))\n",
        "head(voter_intent)"
      ],
      "metadata": {
        "id": "d_8wOm_aP5js"
      },
      "id": "d_8wOm_aP5js",
      "execution_count": null,
      "outputs": []
    },
    {
      "cell_type": "markdown",
      "source": [
        "### Exercise\n",
        "\n",
        "Create a time series (i.e., a line plot) that shows support of Obama over time. Ensure the axes are appropriately named, let the range of the vertical axis to go from 35% to 55%, and format the tick marks as percentages.\n",
        "\n",
        "In this case, the `date` column is already formatted in R's internal `date` format. Since we're plotting `date` on the horizontal axis, its corresponding scale can be referenced with the `scale_x_date` command."
      ],
      "metadata": {
        "id": "mzUlFEqrBKaP"
      },
      "id": "mzUlFEqrBKaP"
    },
    {
      "cell_type": "code",
      "source": [
        "# Your answer here!\n",
        "\n"
      ],
      "metadata": {
        "id": "plL6QDajSVXy"
      },
      "id": "plL6QDajSVXy",
      "execution_count": null,
      "outputs": []
    },
    {
      "cell_type": "code",
      "source": [
        "demographic_dist"
      ],
      "metadata": {
        "id": "PZdi9s3zTHNb"
      },
      "id": "PZdi9s3zTHNb",
      "execution_count": null,
      "outputs": []
    },
    {
      "cell_type": "markdown",
      "source": [
        "As a final exercise, we'll compare the demographic composition of the Xbox respondents to the American electorate (in the previous election, in 2008). Each row in the dataframe contains the number of Xbox respondents in various demographic groups (with `source` equal to `Xbox`), as well as the expected number of people in those groups in a large random sample of voters from the 2008 election (with `source` equal to `2008 Electorate`).\n",
        "\n",
        "The demographic groups are organized into categories (`cat`), with percentages (`p`) computed within each category to sum to 100%. So, for example, the `p` column gives the percentage of respondents across race groups, and, separately, the percentage of respondents across education levels."
      ],
      "metadata": {
        "id": "IEJJAeoaCnrA"
      },
      "id": "IEJJAeoaCnrA"
    },
    {
      "cell_type": "markdown",
      "source": [
        "### Exercise\n",
        "\n",
        "Create a bar plot with the demographic groups on the horizontal axis and the percentages of each group within its category on the vertical axis.\n",
        "\n",
        "For each group, create two bars -- one for Xbox respondents and one for the 2008 electorate -- by appropriately setting the `fill` parameter in `aes`. To position the bars side-by-side (as opposed to stacked), set `position='dodge'` in `geom_col`.\n",
        "\n",
        "Tip: You can angel the axis labels, so they don't overlap, with this command:\n",
        "> theme(axis.text.x=element_text(angle=45, hjust=1, vjust=1))\n",
        "\n",
        "But note that this command should come _after_ theme_bw(), otherwise it will be overridden by the general plot style."
      ],
      "metadata": {
        "id": "q6ufwtDdMq7G"
      },
      "id": "q6ufwtDdMq7G"
    },
    {
      "cell_type": "code",
      "source": [
        "# Your answer here!\n",
        "\n"
      ],
      "metadata": {
        "id": "Yi9PePijMdzh"
      },
      "id": "Yi9PePijMdzh",
      "execution_count": null,
      "outputs": []
    },
    {
      "cell_type": "markdown",
      "source": [
        "### Exercise\n",
        "\n",
        "As a last step, we'll separate the demographic groups by category. We can do with `facet_grid`. The general syntax is `facet_grid(~variable)`, where `variable` is the name of the column to facet the plot by. To make the plot more readable, you can additionally add the parameters `scales=\"free_x\"` and `space=\"free\"` to `facet_grid`; these parameters ensure that the facets are appropriately sized, regardless of the number of groups in each category."
      ],
      "metadata": {
        "id": "7znaUeMDPOYn"
      },
      "id": "7znaUeMDPOYn"
    },
    {
      "cell_type": "code",
      "source": [
        "# Your answer here!\n",
        "\n"
      ],
      "metadata": {
        "id": "9R0rvj0hT_DB"
      },
      "id": "9R0rvj0hT_DB",
      "execution_count": null,
      "outputs": []
    }
  ],
  "metadata": {
    "kernelspec": {
      "display_name": "R",
      "language": "R",
      "name": "ir"
    },
    "language_info": {
      "codemirror_mode": "r",
      "file_extension": ".r",
      "mimetype": "text/x-r-source",
      "name": "R",
      "pygments_lexer": "r",
      "version": "4.1.3"
    },
    "colab": {
      "provenance": [],
      "name": "grammar-graphics-exercises.ipynb",
      "include_colab_link": true
    }
  },
  "nbformat": 4,
  "nbformat_minor": 5
}