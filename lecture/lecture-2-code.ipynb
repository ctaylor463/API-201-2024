{
  "cells": [
    {
      "cell_type": "markdown",
      "metadata": {
        "id": "view-in-github",
        "colab_type": "text"
      },
      "source": [
        "<a href=\"https://colab.research.google.com/github/5harad/API-201-2023/blob/main/lecture/lecture-2-code.ipynb\" target=\"_parent\"><img src=\"https://colab.research.google.com/assets/colab-badge.svg\" alt=\"Open In Colab\"/></a>"
      ]
    },
    {
      "cell_type": "markdown",
      "id": "c8f6d4f7",
      "metadata": {
        "id": "c8f6d4f7"
      },
      "source": [
        "# Lecture 2: Intro to R"
      ]
    },
    {
      "cell_type": "markdown",
      "id": "c8813e64",
      "metadata": {
        "id": "c8813e64"
      },
      "source": [
        "## Part 1: Fundamentals\n",
        "\n",
        "---\n",
        "\n"
      ]
    },
    {
      "cell_type": "code",
      "source": [
        "age <- 25\n",
        "age"
      ],
      "metadata": {
        "colab": {
          "base_uri": "https://localhost:8080/",
          "height": 34
        },
        "id": "UdQylLjU1rKF",
        "outputId": "eba5add9-f885-4acb-e7f8-20cca43f1ece"
      },
      "id": "UdQylLjU1rKF",
      "execution_count": 1,
      "outputs": [
        {
          "output_type": "display_data",
          "data": {
            "text/html": [
              "25"
            ],
            "text/markdown": "25",
            "text/latex": "25",
            "text/plain": [
              "[1] 25"
            ]
          },
          "metadata": {}
        }
      ]
    },
    {
      "cell_type": "code",
      "source": [
        "dogs <- c('wolfie', 'bmo')\n",
        "dogs"
      ],
      "metadata": {
        "colab": {
          "base_uri": "https://localhost:8080/",
          "height": 34
        },
        "id": "x3VKpX4W1t75",
        "outputId": "67a28816-3a2d-4651-e740-eb795a76f1b5"
      },
      "id": "x3VKpX4W1t75",
      "execution_count": 2,
      "outputs": [
        {
          "output_type": "display_data",
          "data": {
            "text/html": [
              "<style>\n",
              ".list-inline {list-style: none; margin:0; padding: 0}\n",
              ".list-inline>li {display: inline-block}\n",
              ".list-inline>li:not(:last-child)::after {content: \"\\00b7\"; padding: 0 .5ex}\n",
              "</style>\n",
              "<ol class=list-inline><li>'wolfie'</li><li>'bmo'</li></ol>\n"
            ],
            "text/markdown": "1. 'wolfie'\n2. 'bmo'\n\n\n",
            "text/latex": "\\begin{enumerate*}\n\\item 'wolfie'\n\\item 'bmo'\n\\end{enumerate*}\n",
            "text/plain": [
              "[1] \"wolfie\" \"bmo\"   "
            ]
          },
          "metadata": {}
        }
      ]
    },
    {
      "cell_type": "code",
      "source": [
        "cats <- c('blue', 'elmo')\n",
        "cats"
      ],
      "metadata": {
        "colab": {
          "base_uri": "https://localhost:8080/",
          "height": 34
        },
        "id": "qnILGdgl1xud",
        "outputId": "ac9af1d6-a2fd-4c7e-d829-6a07fc502b68"
      },
      "id": "qnILGdgl1xud",
      "execution_count": 3,
      "outputs": [
        {
          "output_type": "display_data",
          "data": {
            "text/html": [
              "<style>\n",
              ".list-inline {list-style: none; margin:0; padding: 0}\n",
              ".list-inline>li {display: inline-block}\n",
              ".list-inline>li:not(:last-child)::after {content: \"\\00b7\"; padding: 0 .5ex}\n",
              "</style>\n",
              "<ol class=list-inline><li>'blue'</li><li>'elmo'</li></ol>\n"
            ],
            "text/markdown": "1. 'blue'\n2. 'elmo'\n\n\n",
            "text/latex": "\\begin{enumerate*}\n\\item 'blue'\n\\item 'elmo'\n\\end{enumerate*}\n",
            "text/plain": [
              "[1] \"blue\" \"elmo\""
            ]
          },
          "metadata": {}
        }
      ]
    },
    {
      "cell_type": "code",
      "source": [
        "pets <- c(dogs, cats)\n",
        "pets"
      ],
      "metadata": {
        "colab": {
          "base_uri": "https://localhost:8080/",
          "height": 34
        },
        "id": "DULKa8rY2FzI",
        "outputId": "0283fffd-6481-460b-8d58-aa9c2c0ec725"
      },
      "id": "DULKa8rY2FzI",
      "execution_count": 4,
      "outputs": [
        {
          "output_type": "display_data",
          "data": {
            "text/html": [
              "<style>\n",
              ".list-inline {list-style: none; margin:0; padding: 0}\n",
              ".list-inline>li {display: inline-block}\n",
              ".list-inline>li:not(:last-child)::after {content: \"\\00b7\"; padding: 0 .5ex}\n",
              "</style>\n",
              "<ol class=list-inline><li>'wolfie'</li><li>'bmo'</li><li>'blue'</li><li>'elmo'</li></ol>\n"
            ],
            "text/markdown": "1. 'wolfie'\n2. 'bmo'\n3. 'blue'\n4. 'elmo'\n\n\n",
            "text/latex": "\\begin{enumerate*}\n\\item 'wolfie'\n\\item 'bmo'\n\\item 'blue'\n\\item 'elmo'\n\\end{enumerate*}\n",
            "text/plain": [
              "[1] \"wolfie\" \"bmo\"    \"blue\"   \"elmo\"  "
            ]
          },
          "metadata": {}
        }
      ]
    },
    {
      "cell_type": "code",
      "source": [
        "(2+3)*5/4"
      ],
      "metadata": {
        "colab": {
          "base_uri": "https://localhost:8080/",
          "height": 34
        },
        "id": "0uIagTtu2MNn",
        "outputId": "6ccba955-256e-4633-ec3a-ffcc2d775a66"
      },
      "id": "0uIagTtu2MNn",
      "execution_count": 5,
      "outputs": [
        {
          "output_type": "display_data",
          "data": {
            "text/html": [
              "6.25"
            ],
            "text/markdown": "6.25",
            "text/latex": "6.25",
            "text/plain": [
              "[1] 6.25"
            ]
          },
          "metadata": {}
        }
      ]
    },
    {
      "cell_type": "code",
      "source": [
        "my_var <- c(TRUE, FALSE)\n",
        "my_var"
      ],
      "metadata": {
        "colab": {
          "base_uri": "https://localhost:8080/",
          "height": 34
        },
        "id": "JWZ_SS2e2Ml_",
        "outputId": "5a2bdc6e-edf7-41b3-86d7-c808b0e63706"
      },
      "id": "JWZ_SS2e2Ml_",
      "execution_count": 6,
      "outputs": [
        {
          "output_type": "display_data",
          "data": {
            "text/html": [
              "<style>\n",
              ".list-inline {list-style: none; margin:0; padding: 0}\n",
              ".list-inline>li {display: inline-block}\n",
              ".list-inline>li:not(:last-child)::after {content: \"\\00b7\"; padding: 0 .5ex}\n",
              "</style>\n",
              "<ol class=list-inline><li>TRUE</li><li>FALSE</li></ol>\n"
            ],
            "text/markdown": "1. TRUE\n2. FALSE\n\n\n",
            "text/latex": "\\begin{enumerate*}\n\\item TRUE\n\\item FALSE\n\\end{enumerate*}\n",
            "text/plain": [
              "[1]  TRUE FALSE"
            ]
          },
          "metadata": {}
        }
      ]
    },
    {
      "cell_type": "code",
      "source": [
        "2 == 3"
      ],
      "metadata": {
        "colab": {
          "base_uri": "https://localhost:8080/",
          "height": 34
        },
        "id": "m7xv-J4t2Ta1",
        "outputId": "2a57fc61-d494-407c-de66-997ef213ab4d"
      },
      "id": "m7xv-J4t2Ta1",
      "execution_count": 7,
      "outputs": [
        {
          "output_type": "display_data",
          "data": {
            "text/html": [
              "FALSE"
            ],
            "text/markdown": "FALSE",
            "text/latex": "FALSE",
            "text/plain": [
              "[1] FALSE"
            ]
          },
          "metadata": {}
        }
      ]
    },
    {
      "cell_type": "code",
      "source": [
        "3 >= 1"
      ],
      "metadata": {
        "colab": {
          "base_uri": "https://localhost:8080/",
          "height": 34
        },
        "id": "GaLp7IA02XX6",
        "outputId": "e9424d8c-a4d9-4f22-ba8a-2807d3b65efb"
      },
      "id": "GaLp7IA02XX6",
      "execution_count": 8,
      "outputs": [
        {
          "output_type": "display_data",
          "data": {
            "text/html": [
              "TRUE"
            ],
            "text/markdown": "TRUE",
            "text/latex": "TRUE",
            "text/plain": [
              "[1] TRUE"
            ]
          },
          "metadata": {}
        }
      ]
    },
    {
      "cell_type": "code",
      "source": [
        "seq(5,10)"
      ],
      "metadata": {
        "colab": {
          "base_uri": "https://localhost:8080/",
          "height": 34
        },
        "id": "-w9l-SXN2l_E",
        "outputId": "51d49937-0765-4d6c-8de6-764d070d6211"
      },
      "id": "-w9l-SXN2l_E",
      "execution_count": 9,
      "outputs": [
        {
          "output_type": "display_data",
          "data": {
            "text/html": [
              "<style>\n",
              ".list-inline {list-style: none; margin:0; padding: 0}\n",
              ".list-inline>li {display: inline-block}\n",
              ".list-inline>li:not(:last-child)::after {content: \"\\00b7\"; padding: 0 .5ex}\n",
              "</style>\n",
              "<ol class=list-inline><li>5</li><li>6</li><li>7</li><li>8</li><li>9</li><li>10</li></ol>\n"
            ],
            "text/markdown": "1. 5\n2. 6\n3. 7\n4. 8\n5. 9\n6. 10\n\n\n",
            "text/latex": "\\begin{enumerate*}\n\\item 5\n\\item 6\n\\item 7\n\\item 8\n\\item 9\n\\item 10\n\\end{enumerate*}\n",
            "text/plain": [
              "[1]  5  6  7  8  9 10"
            ]
          },
          "metadata": {}
        }
      ]
    },
    {
      "cell_type": "code",
      "source": [
        "5:10"
      ],
      "metadata": {
        "colab": {
          "base_uri": "https://localhost:8080/",
          "height": 34
        },
        "id": "p9F2cyS02mUw",
        "outputId": "da640ddf-98f3-44ee-b7f9-413e9d45db64"
      },
      "id": "p9F2cyS02mUw",
      "execution_count": 10,
      "outputs": [
        {
          "output_type": "display_data",
          "data": {
            "text/html": [
              "<style>\n",
              ".list-inline {list-style: none; margin:0; padding: 0}\n",
              ".list-inline>li {display: inline-block}\n",
              ".list-inline>li:not(:last-child)::after {content: \"\\00b7\"; padding: 0 .5ex}\n",
              "</style>\n",
              "<ol class=list-inline><li>5</li><li>6</li><li>7</li><li>8</li><li>9</li><li>10</li></ol>\n"
            ],
            "text/markdown": "1. 5\n2. 6\n3. 7\n4. 8\n5. 9\n6. 10\n\n\n",
            "text/latex": "\\begin{enumerate*}\n\\item 5\n\\item 6\n\\item 7\n\\item 8\n\\item 9\n\\item 10\n\\end{enumerate*}\n",
            "text/plain": [
              "[1]  5  6  7  8  9 10"
            ]
          },
          "metadata": {}
        }
      ]
    },
    {
      "cell_type": "code",
      "source": [
        "long_list <- seq(1,100)\n",
        "head(long_list)"
      ],
      "metadata": {
        "colab": {
          "base_uri": "https://localhost:8080/",
          "height": 34
        },
        "id": "nhqkxVu02orU",
        "outputId": "90e884a7-d047-4d0e-ac47-bad323d61c9a"
      },
      "id": "nhqkxVu02orU",
      "execution_count": 11,
      "outputs": [
        {
          "output_type": "display_data",
          "data": {
            "text/html": [
              "<style>\n",
              ".list-inline {list-style: none; margin:0; padding: 0}\n",
              ".list-inline>li {display: inline-block}\n",
              ".list-inline>li:not(:last-child)::after {content: \"\\00b7\"; padding: 0 .5ex}\n",
              "</style>\n",
              "<ol class=list-inline><li>1</li><li>2</li><li>3</li><li>4</li><li>5</li><li>6</li></ol>\n"
            ],
            "text/markdown": "1. 1\n2. 2\n3. 3\n4. 4\n5. 5\n6. 6\n\n\n",
            "text/latex": "\\begin{enumerate*}\n\\item 1\n\\item 2\n\\item 3\n\\item 4\n\\item 5\n\\item 6\n\\end{enumerate*}\n",
            "text/plain": [
              "[1] 1 2 3 4 5 6"
            ]
          },
          "metadata": {}
        }
      ]
    },
    {
      "cell_type": "code",
      "source": [
        "length(long_list)"
      ],
      "metadata": {
        "colab": {
          "base_uri": "https://localhost:8080/",
          "height": 34
        },
        "id": "csDKg3zYfgi_",
        "outputId": "a9b75c34-127e-4642-c3d2-540f07b7a72f"
      },
      "id": "csDKg3zYfgi_",
      "execution_count": 12,
      "outputs": [
        {
          "output_type": "display_data",
          "data": {
            "text/html": [
              "100"
            ],
            "text/markdown": "100",
            "text/latex": "100",
            "text/plain": [
              "[1] 100"
            ]
          },
          "metadata": {}
        }
      ]
    },
    {
      "cell_type": "code",
      "source": [
        "my_vec <- seq(5,10)\n",
        "my_vec"
      ],
      "metadata": {
        "colab": {
          "base_uri": "https://localhost:8080/",
          "height": 34
        },
        "id": "jxPd69dY2xAJ",
        "outputId": "cf017a30-249d-4c22-9fa3-ccabed5ed511"
      },
      "id": "jxPd69dY2xAJ",
      "execution_count": 13,
      "outputs": [
        {
          "output_type": "display_data",
          "data": {
            "text/html": [
              "<style>\n",
              ".list-inline {list-style: none; margin:0; padding: 0}\n",
              ".list-inline>li {display: inline-block}\n",
              ".list-inline>li:not(:last-child)::after {content: \"\\00b7\"; padding: 0 .5ex}\n",
              "</style>\n",
              "<ol class=list-inline><li>5</li><li>6</li><li>7</li><li>8</li><li>9</li><li>10</li></ol>\n"
            ],
            "text/markdown": "1. 5\n2. 6\n3. 7\n4. 8\n5. 9\n6. 10\n\n\n",
            "text/latex": "\\begin{enumerate*}\n\\item 5\n\\item 6\n\\item 7\n\\item 8\n\\item 9\n\\item 10\n\\end{enumerate*}\n",
            "text/plain": [
              "[1]  5  6  7  8  9 10"
            ]
          },
          "metadata": {}
        }
      ]
    },
    {
      "cell_type": "code",
      "source": [
        "sum(my_vec)"
      ],
      "metadata": {
        "colab": {
          "base_uri": "https://localhost:8080/",
          "height": 34
        },
        "id": "lNrSnE3BgBgY",
        "outputId": "d6cb4e8f-3e58-4893-dfa2-5fec0c93235d"
      },
      "id": "lNrSnE3BgBgY",
      "execution_count": 14,
      "outputs": [
        {
          "output_type": "display_data",
          "data": {
            "text/html": [
              "45"
            ],
            "text/markdown": "45",
            "text/latex": "45",
            "text/plain": [
              "[1] 45"
            ]
          },
          "metadata": {}
        }
      ]
    },
    {
      "cell_type": "code",
      "source": [
        "mean(my_vec)"
      ],
      "metadata": {
        "colab": {
          "base_uri": "https://localhost:8080/",
          "height": 34
        },
        "id": "323wMzAugFcu",
        "outputId": "9fc7f0db-daf9-42b9-9bf8-8b5f8739070f"
      },
      "id": "323wMzAugFcu",
      "execution_count": 15,
      "outputs": [
        {
          "output_type": "display_data",
          "data": {
            "text/html": [
              "7.5"
            ],
            "text/markdown": "7.5",
            "text/latex": "7.5",
            "text/plain": [
              "[1] 7.5"
            ]
          },
          "metadata": {}
        }
      ]
    },
    {
      "cell_type": "code",
      "source": [
        "b_vec <- c(TRUE, TRUE, FALSE)\n",
        "sum(b_vec)"
      ],
      "metadata": {
        "colab": {
          "base_uri": "https://localhost:8080/",
          "height": 34
        },
        "id": "fhwGqD998KN6",
        "outputId": "00f6b9ea-b9b7-4c94-de24-1b3c5cac543f"
      },
      "id": "fhwGqD998KN6",
      "execution_count": 16,
      "outputs": [
        {
          "output_type": "display_data",
          "data": {
            "text/html": [
              "2"
            ],
            "text/markdown": "2",
            "text/latex": "2",
            "text/plain": [
              "[1] 2"
            ]
          },
          "metadata": {}
        }
      ]
    },
    {
      "cell_type": "code",
      "source": [
        "mean(b_vec)"
      ],
      "metadata": {
        "colab": {
          "base_uri": "https://localhost:8080/",
          "height": 34
        },
        "id": "CKgEyPfj8WDW",
        "outputId": "b87583cd-6a75-4d5c-a788-fbb479e1cdca"
      },
      "id": "CKgEyPfj8WDW",
      "execution_count": 17,
      "outputs": [
        {
          "output_type": "display_data",
          "data": {
            "text/html": [
              "0.666666666666667"
            ],
            "text/markdown": "0.666666666666667",
            "text/latex": "0.666666666666667",
            "text/plain": [
              "[1] 0.6666667"
            ]
          },
          "metadata": {}
        }
      ]
    },
    {
      "cell_type": "code",
      "source": [
        "ages <- c(28, 45, 15, 8, 83, 3, 42, 35, 12, 50)"
      ],
      "metadata": {
        "id": "hX2JaTRFcwdP"
      },
      "id": "hX2JaTRFcwdP",
      "execution_count": 18,
      "outputs": []
    },
    {
      "cell_type": "code",
      "source": [
        "ages >= 25"
      ],
      "metadata": {
        "colab": {
          "base_uri": "https://localhost:8080/",
          "height": 34
        },
        "id": "MBAS3_vtcwSS",
        "outputId": "4b53ea56-1fd9-4817-911d-e7c38690421c"
      },
      "id": "MBAS3_vtcwSS",
      "execution_count": 19,
      "outputs": [
        {
          "output_type": "display_data",
          "data": {
            "text/html": [
              "<style>\n",
              ".list-inline {list-style: none; margin:0; padding: 0}\n",
              ".list-inline>li {display: inline-block}\n",
              ".list-inline>li:not(:last-child)::after {content: \"\\00b7\"; padding: 0 .5ex}\n",
              "</style>\n",
              "<ol class=list-inline><li>TRUE</li><li>TRUE</li><li>FALSE</li><li>FALSE</li><li>TRUE</li><li>FALSE</li><li>TRUE</li><li>TRUE</li><li>FALSE</li><li>TRUE</li></ol>\n"
            ],
            "text/markdown": "1. TRUE\n2. TRUE\n3. FALSE\n4. FALSE\n5. TRUE\n6. FALSE\n7. TRUE\n8. TRUE\n9. FALSE\n10. TRUE\n\n\n",
            "text/latex": "\\begin{enumerate*}\n\\item TRUE\n\\item TRUE\n\\item FALSE\n\\item FALSE\n\\item TRUE\n\\item FALSE\n\\item TRUE\n\\item TRUE\n\\item FALSE\n\\item TRUE\n\\end{enumerate*}\n",
            "text/plain": [
              " [1]  TRUE  TRUE FALSE FALSE  TRUE FALSE  TRUE  TRUE FALSE  TRUE"
            ]
          },
          "metadata": {}
        }
      ]
    },
    {
      "cell_type": "code",
      "source": [
        "mean(ages >= 25)"
      ],
      "metadata": {
        "colab": {
          "base_uri": "https://localhost:8080/",
          "height": 34
        },
        "id": "LIep6cJmdCiU",
        "outputId": "76dd1d1c-bc64-4492-f51d-69d0823dd12c"
      },
      "id": "LIep6cJmdCiU",
      "execution_count": 20,
      "outputs": [
        {
          "output_type": "display_data",
          "data": {
            "text/html": [
              "0.6"
            ],
            "text/markdown": "0.6",
            "text/latex": "0.6",
            "text/plain": [
              "[1] 0.6"
            ]
          },
          "metadata": {}
        }
      ]
    },
    {
      "cell_type": "markdown",
      "source": [
        "## Part 2: Simulation\n"
      ],
      "metadata": {
        "id": "RzKFsDSaxtLZ"
      },
      "id": "RzKFsDSaxtLZ"
    },
    {
      "cell_type": "code",
      "source": [
        "set.seed(1)"
      ],
      "metadata": {
        "id": "7slLkmhyx0xj"
      },
      "id": "7slLkmhyx0xj",
      "execution_count": 21,
      "outputs": []
    },
    {
      "cell_type": "code",
      "source": [
        "sample(pets, 2)"
      ],
      "metadata": {
        "id": "DpXzmhPnLkqh",
        "colab": {
          "base_uri": "https://localhost:8080/",
          "height": 34
        },
        "outputId": "77b0da66-e0a6-4b03-9b5b-010a6dd0d003"
      },
      "id": "DpXzmhPnLkqh",
      "execution_count": 22,
      "outputs": [
        {
          "output_type": "display_data",
          "data": {
            "text/html": [
              "<style>\n",
              ".list-inline {list-style: none; margin:0; padding: 0}\n",
              ".list-inline>li {display: inline-block}\n",
              ".list-inline>li:not(:last-child)::after {content: \"\\00b7\"; padding: 0 .5ex}\n",
              "</style>\n",
              "<ol class=list-inline><li>'wolfie'</li><li>'blue'</li></ol>\n"
            ],
            "text/markdown": "1. 'wolfie'\n2. 'blue'\n\n\n",
            "text/latex": "\\begin{enumerate*}\n\\item 'wolfie'\n\\item 'blue'\n\\end{enumerate*}\n",
            "text/plain": [
              "[1] \"wolfie\" \"blue\"  "
            ]
          },
          "metadata": {}
        }
      ]
    },
    {
      "cell_type": "code",
      "source": [
        "sample(pets, 2)"
      ],
      "metadata": {
        "colab": {
          "base_uri": "https://localhost:8080/",
          "height": 34
        },
        "id": "Ww2oBFclEZlF",
        "outputId": "9f0ef6fd-72de-46ec-9daa-05ed10ebcdaa"
      },
      "id": "Ww2oBFclEZlF",
      "execution_count": 23,
      "outputs": [
        {
          "output_type": "display_data",
          "data": {
            "text/html": [
              "<style>\n",
              ".list-inline {list-style: none; margin:0; padding: 0}\n",
              ".list-inline>li {display: inline-block}\n",
              ".list-inline>li:not(:last-child)::after {content: \"\\00b7\"; padding: 0 .5ex}\n",
              "</style>\n",
              "<ol class=list-inline><li>'wolfie'</li><li>'bmo'</li></ol>\n"
            ],
            "text/markdown": "1. 'wolfie'\n2. 'bmo'\n\n\n",
            "text/latex": "\\begin{enumerate*}\n\\item 'wolfie'\n\\item 'bmo'\n\\end{enumerate*}\n",
            "text/plain": [
              "[1] \"wolfie\" \"bmo\"   "
            ]
          },
          "metadata": {}
        }
      ]
    },
    {
      "cell_type": "code",
      "source": [
        "sample(pets, 2)"
      ],
      "metadata": {
        "colab": {
          "base_uri": "https://localhost:8080/",
          "height": 34
        },
        "id": "06_Vh2k2EeGu",
        "outputId": "3a8b57b0-b8a7-4871-d738-74226ce9bd06"
      },
      "id": "06_Vh2k2EeGu",
      "execution_count": 24,
      "outputs": [
        {
          "output_type": "display_data",
          "data": {
            "text/html": [
              "<style>\n",
              ".list-inline {list-style: none; margin:0; padding: 0}\n",
              ".list-inline>li {display: inline-block}\n",
              ".list-inline>li:not(:last-child)::after {content: \"\\00b7\"; padding: 0 .5ex}\n",
              "</style>\n",
              "<ol class=list-inline><li>'wolfie'</li><li>'blue'</li></ol>\n"
            ],
            "text/markdown": "1. 'wolfie'\n2. 'blue'\n\n\n",
            "text/latex": "\\begin{enumerate*}\n\\item 'wolfie'\n\\item 'blue'\n\\end{enumerate*}\n",
            "text/plain": [
              "[1] \"wolfie\" \"blue\"  "
            ]
          },
          "metadata": {}
        }
      ]
    },
    {
      "cell_type": "code",
      "source": [
        "sample(pets, 2, replace = TRUE)"
      ],
      "metadata": {
        "colab": {
          "base_uri": "https://localhost:8080/",
          "height": 34
        },
        "id": "lfrCmjtlElbD",
        "outputId": "acec21ec-cc19-4512-8393-b04b21d0a5f0"
      },
      "id": "lfrCmjtlElbD",
      "execution_count": 25,
      "outputs": [
        {
          "output_type": "display_data",
          "data": {
            "text/html": [
              "<style>\n",
              ".list-inline {list-style: none; margin:0; padding: 0}\n",
              ".list-inline>li {display: inline-block}\n",
              ".list-inline>li:not(:last-child)::after {content: \"\\00b7\"; padding: 0 .5ex}\n",
              "</style>\n",
              "<ol class=list-inline><li>'blue'</li><li>'bmo'</li></ol>\n"
            ],
            "text/markdown": "1. 'blue'\n2. 'bmo'\n\n\n",
            "text/latex": "\\begin{enumerate*}\n\\item 'blue'\n\\item 'bmo'\n\\end{enumerate*}\n",
            "text/plain": [
              "[1] \"blue\" \"bmo\" "
            ]
          },
          "metadata": {}
        }
      ]
    },
    {
      "cell_type": "code",
      "source": [
        "sample(pets, 2, replace = TRUE)"
      ],
      "metadata": {
        "colab": {
          "base_uri": "https://localhost:8080/",
          "height": 34
        },
        "id": "ZatA3RQAEowI",
        "outputId": "5b50c528-6d1a-4618-b3ef-a1daab805cd9"
      },
      "id": "ZatA3RQAEowI",
      "execution_count": 26,
      "outputs": [
        {
          "output_type": "display_data",
          "data": {
            "text/html": [
              "<style>\n",
              ".list-inline {list-style: none; margin:0; padding: 0}\n",
              ".list-inline>li {display: inline-block}\n",
              ".list-inline>li:not(:last-child)::after {content: \"\\00b7\"; padding: 0 .5ex}\n",
              "</style>\n",
              "<ol class=list-inline><li>'bmo'</li><li>'blue'</li></ol>\n"
            ],
            "text/markdown": "1. 'bmo'\n2. 'blue'\n\n\n",
            "text/latex": "\\begin{enumerate*}\n\\item 'bmo'\n\\item 'blue'\n\\end{enumerate*}\n",
            "text/plain": [
              "[1] \"bmo\"  \"blue\""
            ]
          },
          "metadata": {}
        }
      ]
    },
    {
      "cell_type": "code",
      "source": [
        "sample(pets, 2, replace = TRUE)"
      ],
      "metadata": {
        "colab": {
          "base_uri": "https://localhost:8080/",
          "height": 34
        },
        "id": "NkoQOk2nEq_u",
        "outputId": "fd8cc881-4e37-44b7-cd2b-023eae4be0fa"
      },
      "id": "NkoQOk2nEq_u",
      "execution_count": 27,
      "outputs": [
        {
          "output_type": "display_data",
          "data": {
            "text/html": [
              "<style>\n",
              ".list-inline {list-style: none; margin:0; padding: 0}\n",
              ".list-inline>li {display: inline-block}\n",
              ".list-inline>li:not(:last-child)::after {content: \"\\00b7\"; padding: 0 .5ex}\n",
              "</style>\n",
              "<ol class=list-inline><li>'blue'</li><li>'wolfie'</li></ol>\n"
            ],
            "text/markdown": "1. 'blue'\n2. 'wolfie'\n\n\n",
            "text/latex": "\\begin{enumerate*}\n\\item 'blue'\n\\item 'wolfie'\n\\end{enumerate*}\n",
            "text/plain": [
              "[1] \"blue\"   \"wolfie\""
            ]
          },
          "metadata": {}
        }
      ]
    },
    {
      "cell_type": "code",
      "source": [
        "sample(pets, 2, replace = TRUE)"
      ],
      "metadata": {
        "id": "wAl4Yu-7ag2C",
        "outputId": "4e3d83ac-8de9-4ace-f044-6b822ffbd2b0",
        "colab": {
          "base_uri": "https://localhost:8080/",
          "height": 34
        }
      },
      "id": "wAl4Yu-7ag2C",
      "execution_count": 28,
      "outputs": [
        {
          "output_type": "display_data",
          "data": {
            "text/html": [
              "<style>\n",
              ".list-inline {list-style: none; margin:0; padding: 0}\n",
              ".list-inline>li {display: inline-block}\n",
              ".list-inline>li:not(:last-child)::after {content: \"\\00b7\"; padding: 0 .5ex}\n",
              "</style>\n",
              "<ol class=list-inline><li>'wolfie'</li><li>'wolfie'</li></ol>\n"
            ],
            "text/markdown": "1. 'wolfie'\n2. 'wolfie'\n\n\n",
            "text/latex": "\\begin{enumerate*}\n\\item 'wolfie'\n\\item 'wolfie'\n\\end{enumerate*}\n",
            "text/plain": [
              "[1] \"wolfie\" \"wolfie\""
            ]
          },
          "metadata": {}
        }
      ]
    },
    {
      "cell_type": "code",
      "source": [
        "sample(1:50, 10, replace = TRUE)"
      ],
      "metadata": {
        "colab": {
          "base_uri": "https://localhost:8080/",
          "height": 34
        },
        "id": "J6AxEbAlE9hj",
        "outputId": "71f1f0a8-af94-49c8-d007-053313f6461e"
      },
      "id": "J6AxEbAlE9hj",
      "execution_count": 29,
      "outputs": [
        {
          "output_type": "display_data",
          "data": {
            "text/html": [
              "<style>\n",
              ".list-inline {list-style: none; margin:0; padding: 0}\n",
              ".list-inline>li {display: inline-block}\n",
              ".list-inline>li:not(:last-child)::after {content: \"\\00b7\"; padding: 0 .5ex}\n",
              "</style>\n",
              "<ol class=list-inline><li>42</li><li>46</li><li>10</li><li>7</li><li>9</li><li>15</li><li>21</li><li>37</li><li>41</li><li>25</li></ol>\n"
            ],
            "text/markdown": "1. 42\n2. 46\n3. 10\n4. 7\n5. 9\n6. 15\n7. 21\n8. 37\n9. 41\n10. 25\n\n\n",
            "text/latex": "\\begin{enumerate*}\n\\item 42\n\\item 46\n\\item 10\n\\item 7\n\\item 9\n\\item 15\n\\item 21\n\\item 37\n\\item 41\n\\item 25\n\\end{enumerate*}\n",
            "text/plain": [
              " [1] 42 46 10  7  9 15 21 37 41 25"
            ]
          },
          "metadata": {}
        }
      ]
    },
    {
      "cell_type": "code",
      "source": [
        "replicate(5, {\n",
        "  my_draws <- sample(1:50, 10, replace = TRUE)\n",
        "  sum(my_draws)\n",
        "})"
      ],
      "metadata": {
        "colab": {
          "base_uri": "https://localhost:8080/",
          "height": 34
        },
        "id": "RsQexJz3FTka",
        "outputId": "57b317ef-6c12-487e-9fd4-039dde63855d"
      },
      "id": "RsQexJz3FTka",
      "execution_count": 30,
      "outputs": [
        {
          "output_type": "display_data",
          "data": {
            "text/html": [
              "<style>\n",
              ".list-inline {list-style: none; margin:0; padding: 0}\n",
              ".list-inline>li {display: inline-block}\n",
              ".list-inline>li:not(:last-child)::after {content: \"\\00b7\"; padding: 0 .5ex}\n",
              "</style>\n",
              "<ol class=list-inline><li>333</li><li>290</li><li>255</li><li>226</li><li>235</li></ol>\n"
            ],
            "text/markdown": "1. 333\n2. 290\n3. 255\n4. 226\n5. 235\n\n\n",
            "text/latex": "\\begin{enumerate*}\n\\item 333\n\\item 290\n\\item 255\n\\item 226\n\\item 235\n\\end{enumerate*}\n",
            "text/plain": [
              "[1] 333 290 255 226 235"
            ]
          },
          "metadata": {}
        }
      ]
    },
    {
      "cell_type": "code",
      "source": [
        "replicate(5, {\n",
        "  my_draws <- sample(1:50, 10, replace = TRUE)\n",
        "  sum(my_draws)\n",
        "})"
      ],
      "metadata": {
        "colab": {
          "base_uri": "https://localhost:8080/",
          "height": 34
        },
        "id": "I5OzUnqxFkzW",
        "outputId": "28ee69e1-eab0-4e6f-d465-f7285363031a"
      },
      "id": "I5OzUnqxFkzW",
      "execution_count": 31,
      "outputs": [
        {
          "output_type": "display_data",
          "data": {
            "text/html": [
              "<style>\n",
              ".list-inline {list-style: none; margin:0; padding: 0}\n",
              ".list-inline>li {display: inline-block}\n",
              ".list-inline>li:not(:last-child)::after {content: \"\\00b7\"; padding: 0 .5ex}\n",
              "</style>\n",
              "<ol class=list-inline><li>308</li><li>339</li><li>304</li><li>271</li><li>308</li></ol>\n"
            ],
            "text/markdown": "1. 308\n2. 339\n3. 304\n4. 271\n5. 308\n\n\n",
            "text/latex": "\\begin{enumerate*}\n\\item 308\n\\item 339\n\\item 304\n\\item 271\n\\item 308\n\\end{enumerate*}\n",
            "text/plain": [
              "[1] 308 339 304 271 308"
            ]
          },
          "metadata": {}
        }
      ]
    }
  ],
  "metadata": {
    "colab": {
      "provenance": [],
      "include_colab_link": true
    },
    "kernelspec": {
      "display_name": "R",
      "language": "R",
      "name": "ir"
    },
    "language_info": {
      "codemirror_mode": "r",
      "file_extension": ".r",
      "mimetype": "text/x-r-source",
      "name": "R",
      "pygments_lexer": "r",
      "version": "4.2.1"
    }
  },
  "nbformat": 4,
  "nbformat_minor": 5
}