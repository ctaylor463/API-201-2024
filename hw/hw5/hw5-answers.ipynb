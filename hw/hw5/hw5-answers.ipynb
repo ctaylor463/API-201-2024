{
  "cells": [
    {
      "cell_type": "markdown",
      "metadata": {
        "id": "view-in-github",
        "colab_type": "text"
      },
      "source": [
        "<a href=\"https://colab.research.google.com/github/5harad/API-201-2023/blob/main/hw/hw5/hw5-answers.ipynb\" target=\"_parent\"><img src=\"https://colab.research.google.com/assets/colab-badge.svg\" alt=\"Open In Colab\"/></a>"
      ]
    },
    {
      "cell_type": "markdown",
      "metadata": {
        "id": "4839cd02-22e6-4e06-9617-eccba2b91eb8"
      },
      "source": [
        "# API-201 PROBLEM SET #5\n",
        "**Due on Thursday, October 5, at 8:00 a.m.**"
      ]
    },
    {
      "cell_type": "markdown",
      "metadata": {
        "id": "55a12d42-ccc1-482f-b4c3-2d02e3286eda"
      },
      "source": [
        "**I - INSTRUCTIONS**  \n",
        "To successfully complete this problem set, please follow these steps:\n",
        "\n",
        "1. **Create a copy of this notebook in your own drive by clicking `Copy to Drive` in the menubar (this is explained below in more detail below) - *if you do not do this your work will not be saved!*** We recommend completing this problem set in Google Chrome.\n",
        "2. **Insert all your answers into your copy of the document.**\n",
        "    1. Please include every portion of your submission in this document unless a separate electronic file is explicitly requested.\n",
        "    3. All numerical calculations should be done in the notebook itself, using R code. If you have to do calculations by hand, include a picture of your handwritten work.\n",
        "    2. To add an image of handwritten work, screenshots, or anything else, add a new text cell and click the small image icon in the menubar above the cell. After inserting an image, press the `esc` key to show the image. If you have trouble with this method, upload your image to [Freeimage.host](https://freeimage.host), copy a Markdown link, and paste it in a text cell.\n",
        "3. **Once your document is complete, please save and submit the notebook on Canvas as a PDF.**\n",
        "    1. Click `View > Expand sections` in the menubar to make sure all work is visible (if it is greyed out then it is already visible).\n",
        "    1. Click `Runtime > Run all` in the menubar to make sure all of your code is executed.\n",
        "    1. Click `File > Print` in the menubar and choose the `Save as PDF` option in Chrome to export your notebook as a PDF.\n",
        "    1. Check to make sure answers do not get cut off - when you go to print the PDF we recommend clicking on `More settings` and setting `Margins` to `None`.\n",
        "    1. Submit your file on Canvas.\n"
      ]
    },
    {
      "cell_type": "markdown",
      "metadata": {
        "id": "4ddbaaa5-6eeb-431a-8c4c-2786c0ebcae8"
      },
      "source": [
        "**II - IDENTIFICATION**\n",
        "1. **Your Full Name:** `     `  \n",
        "\n",
        "2. **Group Members (classmates with whom you worked on this problem set):**  \n",
        "    1. `     `\n",
        "    2. `     `\n",
        "    3. `     `\n",
        "    4. `     `\n",
        "    \n",
        "3. **Compliance with HKS Academic Code**  \n",
        "We abide by the Harvard Kennedy School Academic code for all aspects of the course. In terms of problem sets, unless explicitly written otherwise, the norms are the following: You are free (and encouraged) to discuss problem sets with your classmates. However, you must hand in your own unique written work and code in all cases. Any copy/paste of another’s work is plagiarism. In other words, you may work with your classmate(s), sitting side-by-side (physically or remotely!) and going through the problem set question by question, but you must each type your own answers and your own code. For more details, please see syllabus.\n",
        "\n",
        "    **I certify that my work in this problem set complies with the HKS Academic Code**\n",
        "    - [ ] Yes\n",
        "    - [ ] No\n",
        "\n",
        "---"
      ]
    },
    {
      "cell_type": "markdown",
      "source": [
        "# LEARNING OBJECTIVES\n",
        "\n",
        "1. The basic principals behind causal inference\n",
        "2. Introduction to probability\n"
      ],
      "metadata": {
        "id": "o72ww_JZg8od"
      }
    },
    {
      "cell_type": "markdown",
      "metadata": {
        "tags": [],
        "id": "Uc4W2CF4V8dQ"
      },
      "source": [
        "-----\n",
        "\n",
        "# PART 0: MID-COURSE FEEDBACK\n",
        "\n",
        "> Now that we have settled into a rhythm in API-201, we would like to get a sense from you about how the course is going from your perspective.  Please complete this brief survey to give us your feedback. Your answers are anonymous and we would like to encourage you to be both candid and constructive. Our goal is to be able to use your feedback to improve the course. We estimate it will take you about 10 minutes to fill it in. Thank you in advance for your feedback!\n",
        "\n",
        "\n",
        "**[Click here to complete our feedback survey.](https://harvard.az1.qualtrics.com/jfe/form/SV_bqgtMD3FQUc8NDw)**\n",
        "\n",
        "**Completed the survey**\n",
        "- [ ] Yes\n",
        "- [ ] No"
      ]
    },
    {
      "cell_type": "markdown",
      "source": [
        "-----\n",
        "\n",
        "# GETTING STARTED\n",
        "Run the cell below to load the tidyverse library that we'll use throughout the assignment. We'll also install and load the `Rlab` package that is useful for running simulations."
      ],
      "metadata": {
        "id": "AHNtMmytS3zr"
      }
    },
    {
      "cell_type": "code",
      "source": [
        "library(tidyverse)\n",
        "\n",
        "install.packages('Rlab')\n",
        "library(Rlab)"
      ],
      "metadata": {
        "colab": {
          "base_uri": "https://localhost:8080/"
        },
        "id": "KEa7syEnS1un",
        "outputId": "cbbbe2bc-d64b-4960-8d85-0f4d8d6f3447"
      },
      "execution_count": null,
      "outputs": [
        {
          "output_type": "stream",
          "name": "stderr",
          "text": [
            "── \u001b[1mAttaching core tidyverse packages\u001b[22m ──────────────────────── tidyverse 2.0.0 ──\n",
            "\u001b[32m✔\u001b[39m \u001b[34mdplyr    \u001b[39m 1.1.3     \u001b[32m✔\u001b[39m \u001b[34mreadr    \u001b[39m 2.1.4\n",
            "\u001b[32m✔\u001b[39m \u001b[34mforcats  \u001b[39m 1.0.0     \u001b[32m✔\u001b[39m \u001b[34mstringr  \u001b[39m 1.5.0\n",
            "\u001b[32m✔\u001b[39m \u001b[34mggplot2  \u001b[39m 3.4.3     \u001b[32m✔\u001b[39m \u001b[34mtibble   \u001b[39m 3.2.1\n",
            "\u001b[32m✔\u001b[39m \u001b[34mlubridate\u001b[39m 1.9.2     \u001b[32m✔\u001b[39m \u001b[34mtidyr    \u001b[39m 1.3.0\n",
            "\u001b[32m✔\u001b[39m \u001b[34mpurrr    \u001b[39m 1.0.2     \n",
            "── \u001b[1mConflicts\u001b[22m ────────────────────────────────────────── tidyverse_conflicts() ──\n",
            "\u001b[31m✖\u001b[39m \u001b[34mdplyr\u001b[39m::\u001b[32mfilter()\u001b[39m masks \u001b[34mstats\u001b[39m::filter()\n",
            "\u001b[31m✖\u001b[39m \u001b[34mdplyr\u001b[39m::\u001b[32mlag()\u001b[39m    masks \u001b[34mstats\u001b[39m::lag()\n",
            "\u001b[36mℹ\u001b[39m Use the conflicted package (\u001b[3m\u001b[34m<http://conflicted.r-lib.org/>\u001b[39m\u001b[23m) to force all conflicts to become errors\n",
            "Installing package into ‘/usr/local/lib/R/site-library’\n",
            "(as ‘lib’ is unspecified)\n",
            "\n",
            "Rlab 4.0 attached.\n",
            "\n",
            "\n",
            "\n",
            "Attaching package: ‘Rlab’\n",
            "\n",
            "\n",
            "The following object is masked from ‘package:dplyr’:\n",
            "\n",
            "    count\n",
            "\n",
            "\n",
            "The following object is masked from ‘package:tibble’:\n",
            "\n",
            "    view\n",
            "\n",
            "\n",
            "The following objects are masked from ‘package:stats’:\n",
            "\n",
            "    dexp, dgamma, dweibull, pexp, pgamma, pweibull, qexp, qgamma,\n",
            "    qweibull, rexp, rgamma, rweibull\n",
            "\n",
            "\n",
            "The following object is masked from ‘package:datasets’:\n",
            "\n",
            "    precip\n",
            "\n",
            "\n"
          ]
        }
      ]
    },
    {
      "cell_type": "markdown",
      "source": [
        "--------\n",
        "\n",
        "# PART 1: CORRELATION VS CAUSATION\n",
        "\n",
        "The pre-loaded `swiss` dataset in R provides fertility and socio-economic indicators for 47 French-speaking provinces of Switzerland in 1888. For this exercise, we will focus on the following variables:\n",
        "\n",
        " - Fertility: Standardized fertility rate in each province (births per 1000 women of child bearing age).\n",
        " - Education: Average years of education in each province.\n",
        " - Agriculture: Percentage of males engaged in agriculture.\n",
        " - Catholic: Percentage of residents in the province who are Catholic."
      ],
      "metadata": {
        "id": "XMtT857QLZoE"
      }
    },
    {
      "cell_type": "code",
      "source": [
        "# Run this to summarize the dataset\n",
        "summary(swiss)\n"
      ],
      "metadata": {
        "colab": {
          "base_uri": "https://localhost:8080/",
          "height": 267
        },
        "id": "nV0loElwrDod",
        "outputId": "21f69ed9-269b-49f2-e892-513bc0a8ae98"
      },
      "execution_count": null,
      "outputs": [
        {
          "output_type": "display_data",
          "data": {
            "text/plain": [
              "   Fertility      Agriculture     Examination      Education    \n",
              " Min.   :35.00   Min.   : 1.20   Min.   : 3.00   Min.   : 1.00  \n",
              " 1st Qu.:64.70   1st Qu.:35.90   1st Qu.:12.00   1st Qu.: 6.00  \n",
              " Median :70.40   Median :54.10   Median :16.00   Median : 8.00  \n",
              " Mean   :70.14   Mean   :50.66   Mean   :16.49   Mean   :10.98  \n",
              " 3rd Qu.:78.45   3rd Qu.:67.65   3rd Qu.:22.00   3rd Qu.:12.00  \n",
              " Max.   :92.50   Max.   :89.70   Max.   :37.00   Max.   :53.00  \n",
              "    Catholic       Infant.Mortality\n",
              " Min.   :  2.150   Min.   :10.80   \n",
              " 1st Qu.:  5.195   1st Qu.:18.15   \n",
              " Median : 15.140   Median :20.00   \n",
              " Mean   : 41.144   Mean   :19.94   \n",
              " 3rd Qu.: 93.125   3rd Qu.:21.70   \n",
              " Max.   :100.000   Max.   :26.60   "
            ]
          },
          "metadata": {}
        }
      ]
    },
    {
      "cell_type": "markdown",
      "source": [
        "**a. Hypothesize the relationship between the socio-economic indicators (`Educaction`, `Agriculture`, and `Catholic`) and fertility rates. Why might understanding these relationships be important for policy making?**"
      ],
      "metadata": {
        "id": "q1kj9hq6MXpr"
      }
    },
    {
      "cell_type": "markdown",
      "source": [
        "Your answer here!\n",
        "\n",
        "#### START\n",
        "\n",
        " - Education: Higher education levels, especially among women, might be linked to lower fertility rates as more educated women might delay having childbirth children.\n",
        " - Agriculture: Regions with a higher percentage of males engaged in agriculture might have higher fertility rates since larger families can be beneficial in agricultural settings for labor.\n",
        " - Catholic: Religion can influence attitudes towards contraception and family size. For instance, provinces with a higher percentage of Catholics might have higher fertility rates if the religion's teachings discourage contraception.\n",
        "    \n",
        "Understanding the relationship between the socio-economic indicators and fertility rates can guide policy-making in areas like education, healthcare, and labor. For example, if higher education levels are associated with lower fertility rates, policies promoting women's education might indirectly influence family planning. We will focus on these variables.\n",
        "\n",
        "#### END"
      ],
      "metadata": {
        "id": "EyAroLrIMbVC"
      }
    },
    {
      "cell_type": "markdown",
      "source": [
        "**b. Generate a histogram of the `Education` distribution. Label it appropriately.**"
      ],
      "metadata": {
        "id": "ibafCDOzUBYQ"
      }
    },
    {
      "cell_type": "code",
      "source": [
        "# Your answer here!\n",
        "\n",
        "# START\n",
        "ggplot(swiss, aes(x=Education)) +\n",
        "    geom_histogram() +\n",
        "    scale_x_continuous(name = \"Education\") +\n",
        "    scale_y_continuous(name = \"Count of provinces\") +\n",
        "    theme_bw()\n",
        "# END"
      ],
      "metadata": {
        "colab": {
          "base_uri": "https://localhost:8080/",
          "height": 455
        },
        "id": "iNEQtCLfUD6_",
        "outputId": "fb07aadd-f84e-414e-d02a-4a3e206a243a"
      },
      "execution_count": null,
      "outputs": [
        {
          "output_type": "stream",
          "name": "stderr",
          "text": [
            "\u001b[1m\u001b[22m`stat_bin()` using `bins = 30`. Pick better value with `binwidth`.\n"
          ]
        },
        {
          "output_type": "display_data",
          "data": {
            "text/plain": [
              "plot without title"
            ],
            "image/png": "[encoded data removed]"
          },
          "metadata": {
            "image/png": {
              "width": 420,
              "height": 420
            }
          }
        }
      ]
    },
    {
      "cell_type": "markdown",
      "source": [
        "**c. Describe the overall distribution across the provinces. Consider the point with the largest value —— would you call that point an outlier? Do you think it is real or an erroneous data point?**"
      ],
      "metadata": {
        "id": "mss6Nsq3a7EJ"
      }
    },
    {
      "cell_type": "markdown",
      "source": [
        "Your answer here!\n",
        "\n",
        "#### START\n",
        "\n",
        "It is right skewed (mean is greater than median). In terms of outliers, it is unlikely that any province had people with 53 years of education on averge. Therefore that data point is likely a data error.\n",
        "\n",
        "#### END"
      ],
      "metadata": {
        "id": "9jlk0Reda7EU"
      }
    },
    {
      "cell_type": "markdown",
      "source": [
        "**d. Drop the potential outlier going forward. Create a scatterplot comparing `Fertility` and `Education`.**\n",
        "\n",
        "To help visualize the association between `Education` and `Fertility`, you can add `geom_smooth(method='lm', se=FALSE)` to your plot. This will add a _regression line_, a topic we'll talk more about next semester.\n",
        "\n",
        "Hint: create a new dataset with the potential outlier dropped, and then use this new dataset going forward."
      ],
      "metadata": {
        "id": "TOQGbTy9bn5i"
      }
    },
    {
      "cell_type": "code",
      "source": [
        "# Your answer here!\n",
        "\n",
        "# START\n",
        "swiss_updated <- swiss %>%\n",
        "  filter(Education < 40)\n",
        "\n",
        "ggplot(swiss_updated, aes(Education, Fertility)) +\n",
        "  geom_point() +\n",
        "  scale_x_continuous(name = \"Education\") +\n",
        "  scale_y_continuous(name = \"Fertility\") +\n",
        "  geom_smooth(method='lm', se=FALSE) +\n",
        "  theme_bw()\n",
        "# END"
      ],
      "metadata": {
        "colab": {
          "base_uri": "https://localhost:8080/",
          "height": 455
        },
        "outputId": "b867864a-a64c-42f7-8cc8-6b48330a6109",
        "id": "Rfyo2Gc9btsq"
      },
      "execution_count": null,
      "outputs": [
        {
          "output_type": "stream",
          "name": "stderr",
          "text": [
            "\u001b[1m\u001b[22m`geom_smooth()` using formula = 'y ~ x'\n"
          ]
        },
        {
          "output_type": "display_data",
          "data": {
            "text/plain": [
              "plot without title"
            ],
            "image/png": "[encoded data removed]"
          },
          "metadata": {
            "image/png": {
              "width": 420,
              "height": 420
            }
          }
        }
      ]
    },
    {
      "cell_type": "markdown",
      "source": [
        "**e. What pattern do you observe? Is the pattern consistent with education _causing_ fertility to be reduced? Suggest an alternative explanation for the pattern (i.e., other than education causing lower fertility).**"
      ],
      "metadata": {
        "id": "tlBCgXuUoJHh"
      }
    },
    {
      "cell_type": "markdown",
      "source": [
        "Your answer here!\n",
        "\n",
        "#### START\n",
        "\n",
        "There is a negative correlation between education and fertility. Based on this pattern, it may be that education causally decreases fertility. But there might also be other explanations for the pattern. For example, it could be that fertility decreases education, since having children might mean that parents are less able to continue with their schooling.\n",
        "\n",
        "#### END"
      ],
      "metadata": {
        "id": "Y3XLxwSwoiou"
      }
    },
    {
      "cell_type": "markdown",
      "source": [
        "**f. When thinking about whether education _causally_ reduces fertility rates, it's important to consider whether there might be confounding variables. Considering the `swiss` dataset, do you think `Agriculture` or `Catholic` might be confounding variables? Why?**"
      ],
      "metadata": {
        "id": "OLGVvKAYTMhU"
      }
    },
    {
      "cell_type": "markdown",
      "source": [
        "Your answer here!\n",
        "\n",
        "#### START\n",
        "\n",
        "Confounders are variables that may influence both of the variables of interest (e.g., education and fertility), creating the illusion of a causal connection between the two. In the context of the `swiss` dataset, `Agriculture` and `Catholic` could be confounders:\n",
        "\n",
        " - `Agriculture` might lead both to lower `Education` (since people may be busier with work) and higher `Fertility` (perhaps because larger families can help with agricultural labor).\n",
        " - `Catholic` could also confound the relationship if religious beliefs about contraception lead to an increase in family size, and also lead to lower levels of education, perhaps because of decreased interest in secular higher education.\n",
        "\n",
        "#### END"
      ],
      "metadata": {
        "id": "Erxkqz2VTXrD"
      }
    },
    {
      "cell_type": "markdown",
      "source": [
        "One way to disentangle any effect of agriculture on the relationship between education and fertility is to separately plot education vs. fertility for low education and high education regions. In this way, we are _controlling_ for any effect of agriculture by only comparies counties with similar agriculture levels. This is the same idea behind using regression models to identify causal effects by adjusting for potential confounding variables, a topic we'll return to next semester.\n",
        "\n",
        "**g. Recreate your scatter plot above, but facet the points based on whether `Agriculture` is above or below its median.**\n",
        "\n",
        "Hint: first create a binary column in your dataset that indicates whether a county has agricultural level above or below the median across counties."
      ],
      "metadata": {
        "id": "JA77gKbxkzxc"
      }
    },
    {
      "cell_type": "code",
      "source": [
        "# Your answer here!\n",
        "\n",
        "# START\n",
        "swiss_updated <- swiss_updated %>%\n",
        "  mutate(high_agriculture = Agriculture > median(Agriculture))\n",
        "\n",
        "ggplot(swiss_updated, aes(Education, Fertility)) +\n",
        "  geom_point() +\n",
        "  scale_x_continuous(name = \"Education\") +\n",
        "  scale_y_continuous(name = \"Fertility\") +\n",
        "  scale_color_discrete(name=\"High agriculture\") +\n",
        "  geom_smooth(method='lm', se=FALSE) +\n",
        "  facet_grid(~ high_agriculture) +\n",
        "  theme_bw()\n",
        "# END"
      ],
      "metadata": {
        "colab": {
          "base_uri": "https://localhost:8080/",
          "height": 455
        },
        "id": "xMeJuhDClK-6",
        "outputId": "55c8595b-5245-497a-cf98-c80c51adb4fc"
      },
      "execution_count": null,
      "outputs": [
        {
          "output_type": "stream",
          "name": "stderr",
          "text": [
            "\u001b[1m\u001b[22m`geom_smooth()` using formula = 'y ~ x'\n"
          ]
        },
        {
          "output_type": "display_data",
          "data": {
            "text/plain": [
              "plot without title"
            ],
            "image/png": "[encoded data removed]"
          },
          "metadata": {
            "image/png": {
              "width": 420,
              "height": 420
            }
          }
        }
      ]
    },
    {
      "cell_type": "markdown",
      "source": [
        "**h. What patterns do you observe?**"
      ],
      "metadata": {
        "id": "wJecm3qIcHMB"
      }
    },
    {
      "cell_type": "markdown",
      "source": [
        "Your answer here!\n",
        "\n",
        "#### START\n",
        "\n",
        "In both high agriculture and low agriculture counties, there is a negative relationship between education and fertility: counties with higher education levels have lower fertility rates, even after adjusting for agriculture.\n",
        "\n",
        "This plot provides more evidence of a causal connection between the education and fertility, but there could still be other, non-causal explanations (e.g., religion could be a confounding variable), and it is still not clear what direction the causation might go in (i.e., lower fertility could cause higher education).\n",
        "\n",
        "#### END"
      ],
      "metadata": {
        "id": "xvkObDi1cfx_"
      }
    },
    {
      "cell_type": "markdown",
      "source": [
        "# PART 2: CAUSAL INFERENCE WITH OBSERVATIONAL DATA\n",
        "\n",
        "Describe a plausible strategy for estimating a causal effect of your choice related to public policy using a _natural experiment_. In particular, your strategy should only require observational data (i.e., without using a randomized experiment), and we ask that you do not suggest a simple pre-post design. (Pre-post designs are useful, but, for purposes of this exercise, we would like you to think beyond that approach.)\n",
        "\n",
        "You do not need to carry out any data analysis, but the strategy you describe should be realistic. That is, it should be possible in theory to carry out your proposal.\n",
        "\n",
        "What are the assumptions your approach relies on? What are the advantages and limitations of your proposal?\n",
        "\n",
        "We expect that you clearly specify: (1) what the causal effect you'd like to measure is; (2) what the observed data are; and (3) why that data plausibly allows you to measure the causal effect. Most importantly, it should be clear what the treatment is and how/why assignment to treatment can be considered pseudo-random in the observational data that you describe.\n"
      ],
      "metadata": {
        "id": "wXPPQ8RMuFL-"
      }
    },
    {
      "cell_type": "markdown",
      "source": [
        "**Describe your proposed natural experiment below.**"
      ],
      "metadata": {
        "id": "E0ffEywEwMhe"
      }
    },
    {
      "cell_type": "markdown",
      "source": [
        "Your answer here!\n",
        "\n",
        "### START\n",
        "\n",
        "Many possible answers!\n",
        "\n",
        "### END"
      ],
      "metadata": {
        "id": "UiRTlUSUwWYq"
      }
    },
    {
      "cell_type": "markdown",
      "metadata": {
        "id": "WjLkt7fFlrwJ"
      },
      "source": [
        "# PART 3: HOW TO TALK ABOUT FLOODS\n",
        "\n",
        "Recent hurricanes (including Hurricanes Dorian, Harvey, Irma, Maria, Florence, and Ida) have caused flooding, damage, and substantial loss of life in various areas of the United States and the Caribbean. This question focuses on one effect of hurricanes: flooding.\n",
        "\n",
        "Experts and commentators often use terms such as “50-year flood,” “100-year flood,” and “500-year flood” to describe the likely frequency of flooding due to storms such as the recent hurricanes.  According to experts such as the United States Geological Survey, a “100-year flood” is a flood that has a 1 percent chance of happening in each year - similarly, a 50-year flood is a flood that has a 2 percent chance of happening each year (Note that as a simplifying assumption, we are assuming that we can't have more than one flood per year).\n",
        "\n",
        "The general public does not often interpret the terms in this way - specifically, it often does not understand that a 100-year flood can happen more than once per 100 years.\n",
        "\n",
        "As background for this question, please [read this op-ed](https://drive.google.com/file/d/131Ti68YnkWXpOdZa15lYeSb45k-8wQFA/view?usp=sharing)."
      ]
    },
    {
      "cell_type": "markdown",
      "metadata": {
        "id": "vPjstGixm7jc"
      },
      "source": [
        "### 1. Talking about floods"
      ]
    },
    {
      "cell_type": "markdown",
      "metadata": {
        "id": "NneYjZWBV8dY"
      },
      "source": [
        "**a. Explain how it's possible to have a 100-year flood more than once per 100 years.**"
      ]
    },
    {
      "cell_type": "markdown",
      "metadata": {
        "id": "XHuHJ1AyymGk"
      },
      "source": [
        "Your answer here!\n",
        "\n",
        "#### START\n",
        "In any given year, there's a 1% chance of a flood, but there's random fluctuations due to chance. So even if there's one every 100 years in expectation, it's possible to have zero floods or many floods in any given time period.\n",
        "#### END"
      ]
    },
    {
      "cell_type": "markdown",
      "metadata": {
        "id": "uxALVSJqmIkc"
      },
      "source": [
        "Brian Bledsoe, the author of the linked essay and a professor at the University of Georgia, writes:\n",
        "\n",
        "> \"\\[M\\]ost people are still surprised, if not astonished, to learn that the 100-year flood at a given location has more than a 1 in 4 chance of occurring within the term of a 30-year mortgage. For most of us, this 26 percent chance our home will be flooded before we have a chance to pay it off is troubling if not unacceptable.\"\n",
        "\n",
        "**b. Show how Professor Bledsoe got to this probability (26 percent). Is his calculation correct?**"
      ]
    },
    {
      "cell_type": "markdown",
      "metadata": {
        "id": "7XSPvbzDV8dY"
      },
      "source": [
        "Your answer here!\n",
        "\n",
        "#### START\n",
        "In a given location and a given year, the chance of a 100-year flood is 0.01. So the chance of not having a 100-year flood is 1 – 0.01 = 0.99. In a given location over a 30 year period, the chance of not having a 100-year flood is the joint probability: P(no 100-year flood in year 1 & no 100-year flood in year 2 & … no 100-year flood in year 30) = (1 – 0.01)^30 = 0.74\n",
        "\n",
        "So the probability of having at least one 100-year flood over the 30-year period is 1 – 0.74 = 0.26, or 26%.\n",
        "#### END"
      ]
    },
    {
      "cell_type": "markdown",
      "metadata": {
        "id": "QIA9gJUUmlZ-"
      },
      "source": [
        "**c. In one crisp paragraph, explain to a policymaker who is curious but not well versed in probability and statistics how a 100-year flood actually has more than a one-in-four chance of occurring over a 30-year period.**"
      ]
    },
    {
      "cell_type": "markdown",
      "metadata": {
        "id": "KUg8r9EQymoR"
      },
      "source": [
        "Your answer here!\n",
        "\n",
        "#### START\n",
        "Lots of possible answers here!\n",
        "\n",
        "Intuitively, while the risk of a 100-year flood in any given year is low, the probability of a 100-year flood in any of 30 given years is much higher.\n",
        "\n",
        "Consider an analogy: if you roll a die once, you probably won’t get a 6. But if you roll a die 30 times you will almost certainly get a 6 at least once.\n",
        "#### END"
      ]
    },
    {
      "cell_type": "markdown",
      "metadata": {
        "id": "hV8xP0ARmxy9"
      },
      "source": [
        "Finally, Professor Bledsoe makes a proposal to change the way communication about natural hazards is done.\n",
        "\n",
        "**d. In one crisp paragraph, explain whether you think this proposal would improve people’s understanding of the risks posed by natural hazards. If so, explain why. If not, explain why not and suggest a better proposal.**"
      ]
    },
    {
      "cell_type": "markdown",
      "metadata": {
        "id": "znyccpUhynCf"
      },
      "source": [
        "Your answer here!\n",
        "\n",
        "#### START\n",
        "The author’s proposal is that flood risks are communicated with respect to time periods that people care about for decision-making, rather than 100 or 500-year time periods that are more difficult to interpret.\n",
        "\n",
        "Many acceptable answers for the explanation.\n",
        "#### END"
      ]
    },
    {
      "cell_type": "markdown",
      "metadata": {
        "id": "rub1IJVvnM0X"
      },
      "source": [
        "### 2. Simulating floods"
      ]
    },
    {
      "cell_type": "markdown",
      "metadata": {
        "id": "d0f2e4d3-519d-4cfd-849b-f73578dfb145"
      },
      "source": [
        "One way in which R can help us gain an intuitive feel for probabilities is through simulation.  In general, simulation is an analytical methodology that allows us to “simulate” how the world might evolve in the presence of uncertainty.  Simulations are typically run hundreds if not thousands of times.  We can then examine the results, individually and in the aggregate over the runs of the simulation, to better understand the role that uncertainty plays in the outcomes."
      ]
    },
    {
      "cell_type": "markdown",
      "metadata": {
        "id": "10ac8ddf-cb0f-4de2-835d-b13909b7b88a"
      },
      "source": [
        "Do carry out the simulation, we'll use the `rbern` function, which generates random draws a _Bernoulli_ distribution.\n",
        "\n",
        "Bernoulli random variables are the building blocks of statistics: They can either be 0 or 1, and you can specify the probability that the random variable equals 1.\n",
        "\n",
        "The `rbern` function takes two parameters: the number of Bernoulli draws to produce and the probability that each draw equals 1. For example, the line of code below produces 10 Bernoulli draws, and each draw has a 30% chance of equaling 1.  "
      ]
    },
    {
      "cell_type": "code",
      "source": [
        "rbern(10, 0.3)"
      ],
      "metadata": {
        "colab": {
          "base_uri": "https://localhost:8080/",
          "height": 34
        },
        "id": "T5xaIO6nzhhV",
        "outputId": "ae216d72-7a88-44b1-c5b3-bdce8f6c4d81"
      },
      "execution_count": null,
      "outputs": [
        {
          "output_type": "display_data",
          "data": {
            "text/html": [
              "<style>\n",
              ".list-inline {list-style: none; margin:0; padding: 0}\n",
              ".list-inline>li {display: inline-block}\n",
              ".list-inline>li:not(:last-child)::after {content: \"\\00b7\"; padding: 0 .5ex}\n",
              "</style>\n",
              "<ol class=list-inline><li>0</li><li>1</li><li>1</li><li>0</li><li>0</li><li>0</li><li>0</li><li>0</li><li>1</li><li>0</li></ol>\n"
            ],
            "text/markdown": "1. 0\n2. 1\n3. 1\n4. 0\n5. 0\n6. 0\n7. 0\n8. 0\n9. 1\n10. 0\n\n\n",
            "text/latex": "\\begin{enumerate*}\n\\item 0\n\\item 1\n\\item 1\n\\item 0\n\\item 0\n\\item 0\n\\item 0\n\\item 0\n\\item 1\n\\item 0\n\\end{enumerate*}\n",
            "text/plain": [
              " [1] 0 1 1 0 0 0 0 0 1 0"
            ]
          },
          "metadata": {}
        }
      ]
    },
    {
      "cell_type": "markdown",
      "metadata": {
        "id": "Cog8biJVV8dY"
      },
      "source": [
        "**a. Use the `rbern` function to simulate the number of 100-year floods that happen in a 30 year period.** Every time you run your code you should get a single number (e.g., 0, 1, 2, etc.) that indicates the number of floods that happened."
      ]
    },
    {
      "cell_type": "code",
      "source": [
        "# Your answer here!\n",
        "\n",
        "# START\n",
        "sum(rbern(30, 0.01))\n",
        "# END"
      ],
      "metadata": {
        "colab": {
          "base_uri": "https://localhost:8080/",
          "height": 34
        },
        "id": "n-ZBL9Qo4pCB",
        "outputId": "11575b83-9dab-4c40-9450-a6a5ce53e77e"
      },
      "execution_count": null,
      "outputs": [
        {
          "output_type": "display_data",
          "data": {
            "text/html": [
              "0"
            ],
            "text/markdown": "0",
            "text/latex": "0",
            "text/plain": [
              "[1] 0"
            ]
          },
          "metadata": {}
        }
      ]
    },
    {
      "cell_type": "markdown",
      "source": [
        "**b. Create a vector called `sims` that contains the results of running your flood simulation above 10,000 times.** Your vector should have 10,000 entries, and each entry should indicate the number of floods that occurred in that simulation.\n",
        "\n",
        "Hint: Use the `replicate` function that we talked about on the second day of class."
      ],
      "metadata": {
        "id": "2EAn5NDA5LK6"
      }
    },
    {
      "cell_type": "code",
      "execution_count": null,
      "metadata": {
        "id": "vvekdhUEV8dY"
      },
      "outputs": [],
      "source": [
        "# Your answer here!\n",
        "\n",
        "# START\n",
        "sims <- replicate(1e4, {\n",
        "  sum(rbern(30, 0.01))\n",
        "})\n",
        "# END"
      ]
    },
    {
      "cell_type": "markdown",
      "metadata": {
        "id": "301707ea-b864-4255-b31a-05785aeb080b"
      },
      "source": [
        "**c. Generate a histogram of the number of floods over 30 years based on your simulation.  Specifically, your histogram should show the number of simulation runs (out of 10,000) in which there were zero floods, one flood, two floods, etc.**\n",
        "\n",
        "*Hint: `ggplot` requires that you provide a dataset, and the simulations you produced above is just a vector of numbers. You can use the line of code below to turn your vector `sims` into a dataset called `flood_sim` with variable `n_floods` corresponding to the number of floods in each simulation.*"
      ]
    },
    {
      "cell_type": "code",
      "source": [
        "flood_sim <- tibble(\n",
        "  sim = 1:length(sims),\n",
        "  n_floods = sims\n",
        ")\n",
        "\n",
        "head(flood_sim)"
      ],
      "metadata": {
        "colab": {
          "base_uri": "https://localhost:8080/",
          "height": 286
        },
        "id": "QrtjTZ2R1ZRX",
        "outputId": "05e14455-61ae-4cf6-fd38-cc13f95d92cc"
      },
      "execution_count": null,
      "outputs": [
        {
          "output_type": "display_data",
          "data": {
            "text/html": [
              "<table class=\"dataframe\">\n",
              "<caption>A tibble: 6 × 2</caption>\n",
              "<thead>\n",
              "\t<tr><th scope=col>sim</th><th scope=col>n_floods</th></tr>\n",
              "\t<tr><th scope=col>&lt;int&gt;</th><th scope=col>&lt;int&gt;</th></tr>\n",
              "</thead>\n",
              "<tbody>\n",
              "\t<tr><td>1</td><td>0</td></tr>\n",
              "\t<tr><td>2</td><td>0</td></tr>\n",
              "\t<tr><td>3</td><td>0</td></tr>\n",
              "\t<tr><td>4</td><td>1</td></tr>\n",
              "\t<tr><td>5</td><td>0</td></tr>\n",
              "\t<tr><td>6</td><td>1</td></tr>\n",
              "</tbody>\n",
              "</table>\n"
            ],
            "text/markdown": "\nA tibble: 6 × 2\n\n| sim &lt;int&gt; | n_floods &lt;int&gt; |\n|---|---|\n| 1 | 0 |\n| 2 | 0 |\n| 3 | 0 |\n| 4 | 1 |\n| 5 | 0 |\n| 6 | 1 |\n\n",
            "text/latex": "A tibble: 6 × 2\n\\begin{tabular}{ll}\n sim & n\\_floods\\\\\n <int> & <int>\\\\\n\\hline\n\t 1 & 0\\\\\n\t 2 & 0\\\\\n\t 3 & 0\\\\\n\t 4 & 1\\\\\n\t 5 & 0\\\\\n\t 6 & 1\\\\\n\\end{tabular}\n",
            "text/plain": [
              "  sim n_floods\n",
              "1 1   0       \n",
              "2 2   0       \n",
              "3 3   0       \n",
              "4 4   1       \n",
              "5 5   0       \n",
              "6 6   1       "
            ]
          },
          "metadata": {}
        }
      ]
    },
    {
      "cell_type": "code",
      "execution_count": null,
      "metadata": {
        "id": "fe10fc34-fdd8-411b-981e-d47a16a331c1",
        "outputId": "b5147bbd-0c48-451e-d100-287d25f6497c",
        "colab": {
          "base_uri": "https://localhost:8080/",
          "height": 455
        }
      },
      "outputs": [
        {
          "output_type": "stream",
          "name": "stderr",
          "text": [
            "\u001b[1m\u001b[22m`stat_bin()` using `bins = 30`. Pick better value with `binwidth`.\n"
          ]
        },
        {
          "output_type": "display_data",
          "data": {
            "text/plain": [
              "plot without title"
            ],
            "image/png": "[encoded data removed]"
          },
          "metadata": {
            "image/png": {
              "width": 420,
              "height": 420
            }
          }
        }
      ],
      "source": [
        "# Your answer here!\n",
        "\n",
        "# START\n",
        "ggplot(data = flood_sim, aes(x=n_floods)) +\n",
        "  geom_histogram() +\n",
        "  scale_x_continuous('Number of floods') +\n",
        "  theme_bw()\n",
        "# END"
      ]
    },
    {
      "cell_type": "markdown",
      "metadata": {
        "id": "dgTUu9EzV8da"
      },
      "source": [
        "**d. In what proportion of simulation runs was there at least one flood in 30 years?**"
      ]
    },
    {
      "cell_type": "code",
      "execution_count": null,
      "metadata": {
        "id": "xP9WI_YSV8da",
        "outputId": "82d6567c-0440-4c10-c2aa-bc252ecce809",
        "colab": {
          "base_uri": "https://localhost:8080/",
          "height": 34
        }
      },
      "outputs": [
        {
          "output_type": "display_data",
          "data": {
            "text/html": [
              "0.2642"
            ],
            "text/markdown": "0.2642",
            "text/latex": "0.2642",
            "text/plain": [
              "[1] 0.2642"
            ]
          },
          "metadata": {}
        }
      ],
      "source": [
        "# Your answer here!\n",
        "\n",
        "# START\n",
        "mean(flood_sim$n_floods >= 1)\n",
        "# END"
      ]
    },
    {
      "cell_type": "markdown",
      "source": [
        "**e. Comment on your histogram. Do your results support Professor Bledsoe’s calculation and your own calculation in 1b above?**"
      ],
      "metadata": {
        "id": "Me4tSpQJ8OCI"
      }
    },
    {
      "cell_type": "markdown",
      "source": [
        "Your answer here!\n",
        "\n",
        "### START\n",
        "\n",
        "The histogram shows that most of the time there are no 100-year floods in a 30-year period, but sometimes there are 1, 2, or more floods. In the simulation, 26% of runs yielded at least one flood, consistent with our analytic calculation above.\n",
        "\n",
        "### END"
      ],
      "metadata": {
        "id": "RtCyz6xU8lc1"
      }
    }
  ],
  "metadata": {
    "colab": {
      "provenance": [],
      "include_colab_link": true
    },
    "kernelspec": {
      "display_name": "R",
      "language": "R",
      "name": "ir"
    },
    "language_info": {
      "codemirror_mode": "r",
      "file_extension": ".r",
      "mimetype": "text/x-r-source",
      "name": "R",
      "pygments_lexer": "r",
      "version": "4.2.1"
    }
  },
  "nbformat": 4,
  "nbformat_minor": 0
}