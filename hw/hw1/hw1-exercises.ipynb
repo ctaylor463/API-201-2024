{
  "cells": [
    {
      "cell_type": "markdown",
      "metadata": {
        "id": "view-in-github",
        "colab_type": "text"
      },
      "source": [
        "<a href=\"https://colab.research.google.com/github/5harad/API-201-2023/blob/main/hw/hw1/hw1-exercises.ipynb\" target=\"_parent\"><img src=\"https://colab.research.google.com/assets/colab-badge.svg\" alt=\"Open In Colab\"/></a>"
      ]
    },
    {
      "cell_type": "markdown",
      "id": "4839cd02-22e6-4e06-9617-eccba2b91eb8",
      "metadata": {
        "id": "4839cd02-22e6-4e06-9617-eccba2b91eb8"
      },
      "source": [
        "# API-201 C/D PROBLEM SET #1\n",
        "**Due on Thursday, September 7, at 8:00 a.m.**"
      ]
    },
    {
      "cell_type": "markdown",
      "id": "55a12d42-ccc1-482f-b4c3-2d02e3286eda",
      "metadata": {
        "id": "55a12d42-ccc1-482f-b4c3-2d02e3286eda"
      },
      "source": [
        "**I - INSTRUCTIONS**  \n",
        "To successfully complete this problem set, please follow these steps:\n",
        "\n",
        "1. **Create a copy of this notebook in your own drive by clicking `Copy to Drive` in the menubar (this is explained below in more detail below) - *if you do not do this your work will not be saved!*** We recommend completing this problem set in Google Chrome.\n",
        "2. **Insert all your answers into your copy of the document.**\n",
        "    1. Please include every portion of your submission in this document unless a separate electronic file is explicitly requested.\n",
        "    3. All numerical calculations should be done in the notebook itself, using R code. If you have to do calculations by hand, include a picture of your handwritten work.\n",
        "    2. To add an image of handwritten work, screenshots, or anything else, add a new text cell and click the small image icon in the menubar above the cell. After inserting an image, press the `esc` key to show the image. If you have trouble with this method, upload your image to [Freeimage.host](https://freeimage.host), copy a Markdown link, and paste it in a text cell.\n",
        "3. **Once your document is complete, please save and submit the notebook on Canvas as a PDF.**\n",
        "    1. Click `View > Expand sections` in the menubar to make sure all work is visible (if it is greyed out then it is already visible).\n",
        "    1. Click `Runtime > Run all` in the menubar to make sure all of your code is executed.\n",
        "    1. Click `File > Print` in the menubar and choose the `Save as PDF` option in Chrome to export your notebook as a PDF.\n",
        "    1. Check to make sure answers do not get cut off - when you go to print the PDF we recommend clicking on `More settings` and setting `Margins` to `None`.\n",
        "    1. Submit your file on Canvas.\n"
      ]
    },
    {
      "cell_type": "markdown",
      "id": "4ddbaaa5-6eeb-431a-8c4c-2786c0ebcae8",
      "metadata": {
        "id": "4ddbaaa5-6eeb-431a-8c4c-2786c0ebcae8"
      },
      "source": [
        "**II - IDENTIFICATION**\n",
        "\n",
        "If you're new to notebooks, please complete this section _after_ you've read the \"[working with text](#scrollTo=bf516dbe)\" section below.\n",
        "\n",
        "1. **Your Full Name:** `     `  \n",
        "\n",
        "2. **Group Members (classmates with whom you worked on this problem set):**  \n",
        "    1. `     `\n",
        "    2. `     `\n",
        "    3. `     `\n",
        "    4. `     `\n",
        "    \n",
        "3. **Compliance with HKS Academic Code**  \n",
        "We abide by the Harvard Kennedy School Academic code for all aspects of the course. In terms of problem sets, unless explicitly written otherwise, the norms are the following: You are free (and encouraged) to discuss problem sets with your classmates. However, you must hand in your own unique written work and code in all cases. Any copy/paste of another’s work is plagiarism. In other words, you may work with your classmate(s), sitting side-by-side (physically or remotely!) and going through the problem set question by question, but you must each type your own answers and your own code. For more details, please see syllabus.\n",
        "\n",
        "    **I certify that my work in this problem set complies with the HKS Academic Code**\n",
        "    - [ ] Yes\n",
        "    - [ ] No\n",
        "\n",
        "---"
      ]
    },
    {
      "cell_type": "markdown",
      "id": "5e268ad5",
      "metadata": {
        "id": "5e268ad5"
      },
      "source": [
        "# Table of Contents\n",
        "\n",
        "1. [PRE-CLASS EXERCISE](#scrollTo=0b0f45a2)\n",
        "1. [INTRODUCING NOTEBOOKS](#scrollTo=b5d5cf79)\n",
        "1. [PREPARING FOR API-201](#scrollTo=b72edcee)\n",
        "1. [SUBMITTING THIS PROBLEM SET](#scrollTo=5fb55a91-f32e-4a7d-a9a1-f8158e2bdb22)\n",
        "\n",
        "---"
      ]
    },
    {
      "cell_type": "markdown",
      "id": "0b0f45a2",
      "metadata": {
        "id": "0b0f45a2"
      },
      "source": [
        "# PRE-CLASS EXERCISE: Getting Started with R"
      ]
    },
    {
      "cell_type": "markdown",
      "id": "2be4138e",
      "metadata": {
        "id": "2be4138e"
      },
      "source": [
        "Pre-Class Exercises (PCEs) are due every Monday and Wednesday by 5 PM, linked on the Canvas home page. The goal of these exercises are twofold: (1) to help you review essential material from our most recent class session, and (2) to help you prepare for our next class session so we can use our time in the classroom most productively. We will look at the *overall* performance of the students in each section to target our next class session better to your learning needs, but your *individual* performance in the pre-class exercise will not count towards your grade. **You will get full credit for answering the questions, even if your answers are incorrect.** Answers to PCE questions for a particular class will be made available after that class session ends.\n",
        "\n",
        "Sometime these PCEs will involve going through an interactive exercise, and sometimes they will simply ask for your thoughts on a particular topic. If you haven't already, please complete Tuesday's PCE on Canvas. It's useful to complete that PCE before starting this assignment.\n",
        "When you have completed the PCE, please check the following box:\n",
        "\n",
        "- [ ] I have completed the Pre-Class Exercise for Tuesday's class"
      ]
    },
    {
      "cell_type": "markdown",
      "id": "b5d5cf79",
      "metadata": {
        "id": "b5d5cf79"
      },
      "source": [
        "# INTRODUCING NOTEBOOKS"
      ]
    },
    {
      "cell_type": "markdown",
      "id": "0f8756a0",
      "metadata": {
        "id": "0f8756a0"
      },
      "source": [
        "This problem set is aimed at getting you set up for success in API-201. It is also meant to get you used to the format of our problem sets, which are called _Notebooks_. In brief, they are a clean and effective way of mixing text with actual code that you can use to run analyses.\n"
      ]
    },
    {
      "cell_type": "markdown",
      "id": "0f174ec2-39c9-49fd-a4c8-96e8affe456a",
      "metadata": {
        "id": "0f174ec2-39c9-49fd-a4c8-96e8affe456a"
      },
      "source": [
        "### a) Copying your problem set into your directory"
      ]
    },
    {
      "cell_type": "markdown",
      "id": "6ef1e2f5",
      "metadata": {
        "id": "6ef1e2f5"
      },
      "source": [
        "The first time you load up this file, you can't save edits to it since it's the file that all students have access to. So, you'll need to copy this file to your own Google Drive and edit your own copy.\n",
        "\n",
        "To do that, click on the `Copy to Drive` button in the menubar. By default, the title of the new document will be something like \"Copy of ...\". You can rename the notebook by clicking on its name.\n",
        "\n",
        "Once you make a copy, close the original file, so that you don't accidentally start editing that one (in which case your work won't be saved)."
      ]
    },
    {
      "cell_type": "markdown",
      "id": "bf516dbe",
      "metadata": {
        "id": "bf516dbe"
      },
      "source": [
        "### b) Working with text"
      ]
    },
    {
      "cell_type": "markdown",
      "id": "272a9c76",
      "metadata": {
        "id": "272a9c76"
      },
      "source": [
        "*This block of text (or \"cell\") is a text block, in contrast to a block where you will run R code (a \"Code cell\"). You can double click on this cell to go into editing mode. To get \"out\" of a cell, you can press **shift-enter**. Try it!*\n",
        "\n",
        "As you can see, the above text is italicized. In editing mode you can see that you can italicize text by surrounding it with asterisks *like this*."
      ]
    },
    {
      "cell_type": "markdown",
      "id": "ce67c6d7",
      "metadata": {
        "id": "ce67c6d7"
      },
      "source": [
        "**Try it for yourself!**\n",
        "\n",
        "Double click on this cell and italicize this sentence by surrounding it with asterisks!\n",
        "\n",
        "Note that you can get out of editing mode by pressing shift-enter on your keyboard."
      ]
    },
    {
      "cell_type": "markdown",
      "id": "75de4d85",
      "metadata": {
        "id": "75de4d85"
      },
      "source": [
        "You can also make lists by beginning a line with a dash, or with a number and a period to make a numbered list:\n",
        "\n",
        "- List item 1\n",
        "- List item 2\n",
        "- List item 3\n",
        "\n",
        "1. Numbered item 1\n",
        "2. Numbered item 2\n",
        "3. Numbered item 3\n",
        "\n",
        "You can even make lists with checkboxes. An unchecked item begins with `- [ ]` while a checked item begins with `- [x]`."
      ]
    },
    {
      "cell_type": "markdown",
      "id": "c121b7b2",
      "metadata": {
        "id": "c121b7b2"
      },
      "source": [
        "**Edit the third item below to mark it checked:**\n",
        "\n",
        "- [ ] This is an incomplete checkbox\n",
        "- [x] This is a complete checkbox\n",
        "- [ ] Edit this item to make it checked"
      ]
    },
    {
      "cell_type": "markdown",
      "id": "7b6ff69a",
      "metadata": {
        "id": "7b6ff69a"
      },
      "source": [
        "As you go through this problem set you'll start to familiarize yourself with Notebooks. Don't hesitate to ask questions in the [#askforhelp channel](https://app.slack.com/client/T05LR6BUJM7/C05PULMM449) of Slack for any questions related to working with these notebooks!"
      ]
    },
    {
      "cell_type": "markdown",
      "id": "65b0b503",
      "metadata": {
        "id": "65b0b503"
      },
      "source": [
        "### c) Inserting Images"
      ]
    },
    {
      "cell_type": "markdown",
      "id": "268c6e0f",
      "metadata": {
        "id": "268c6e0f"
      },
      "source": [
        "In many problem sets you will be asked to show work, create a table, or draw a decision tree (more on that later in the semester!). For many of these tasks you may prefer to draw or write your work on a piece of paper, take a photo of it with your phone, and insert it into a Notebook. Try the following steps:\n",
        "\n",
        "1. Take a photo of some handwritten work using your phone or tablet and save it to your computer using e-mail, AirDrop, or any other method (Note: If you are using an iPhone and Mac, you can use [Continuity Camera](https://support.apple.com/en-us/HT209037) to easily save a photo to your Desktop by right clicking on the Desktop and choosing \"Import from iPhone or iPad\")\n",
        "1. Create or start editing an existing text cell, and then click the small image icon in the menubar above the cell. After inserting an image, press the `esc` key to show the image. If you have trouble with this method, upload your image to [Freeimage.host](https://freeimage.host), copy a Markdown link, and paste it in a text cell. **Beware that if your image is too big, then it'll crash your browser**."
      ]
    },
    {
      "cell_type": "markdown",
      "source": [
        "**Double click this cell, and then try inserting an image!**\n",
        "\n"
      ],
      "metadata": {
        "id": "1BYaJBADDQAv"
      },
      "id": "1BYaJBADDQAv"
    },
    {
      "cell_type": "markdown",
      "id": "48c70ba3",
      "metadata": {
        "id": "48c70ba3"
      },
      "source": [
        "### d) Running Code"
      ]
    },
    {
      "cell_type": "markdown",
      "id": "7e17c573",
      "metadata": {
        "id": "7e17c573"
      },
      "source": [
        "The last piece of using notebooks is to actually run code. With Notebooks you can intersperse prose with R commands by editing a \"Code\" cell (as opposed to the \"Text\" cells that we have been using thus far).\n",
        "\n",
        "The cell below is a Code cell - you can tell because it is preceded by `[ ]` (if there's nothing in the brackets, it means the cell hasn't been run before. Once you run that cell it will say `[1]` and get incremented by one each time you run it).\n",
        "\n",
        "Let's try using R as a calculator below. Compute the square root of 36 as you did in the R primers over the summer (Hint: the command to calculate a square root is `sqrt()`). Remember that you can add comments to a code cell by starting the line with a `#` symbol.\n",
        "\n",
        "**i. Double click on the cell below, type code to get the square root of 36, then click the play button or press shift-enter to get the answer.**\n"
      ]
    },
    {
      "cell_type": "code",
      "execution_count": null,
      "id": "eb39e9a8",
      "metadata": {
        "id": "eb39e9a8"
      },
      "outputs": [],
      "source": [
        "# Your answer here!\n",
        "\n"
      ]
    },
    {
      "cell_type": "markdown",
      "id": "bfe13de7",
      "metadata": {
        "id": "bfe13de7"
      },
      "source": [
        "Next, let's load some data. If you run the code snippet below, it will load a recent version of the World Economic Outlook (WEO) dataset, published by the International Monetary Fund (IMF), called `weo`.\n",
        "\n",
        "**ii. Run the code cell below to load the World Economic Forum data and the \"tidyverse\", a set of packages where many of our commands come from.**"
      ]
    },
    {
      "cell_type": "code",
      "execution_count": null,
      "id": "e8e44a55",
      "metadata": {
        "id": "e8e44a55"
      },
      "outputs": [],
      "source": [
        "# Run this cell before continuing!\n",
        "\n",
        "library(tidyverse) # load the tidyverse\n",
        "load(url(\"https://5harad.com/datasets/API201/weo.RData\")) # load the World Economic Outlook dataset\n",
        "message(\"Packages and Data loaded!\")"
      ]
    },
    {
      "cell_type": "markdown",
      "id": "1dedf6af",
      "metadata": {
        "id": "1dedf6af"
      },
      "source": [
        "**iii. Confirm that you have successfully loaded the dataset by typing `head(weo)` and running it below. This will show the first few observations of the dataset.**\n",
        "\n",
        "Note: If you instead just type `weo`, you can browse the entire dataset but this can get unwieldy if the dataset is large!"
      ]
    },
    {
      "cell_type": "code",
      "execution_count": null,
      "id": "181dcbb3",
      "metadata": {
        "id": "181dcbb3"
      },
      "outputs": [],
      "source": [
        "# Your answer here!\n",
        "\n"
      ]
    },
    {
      "cell_type": "markdown",
      "id": "83d2f7ae",
      "metadata": {
        "id": "83d2f7ae"
      },
      "source": [
        "\n",
        "\n",
        "**iv. Compute the correlation between a country's 2022 population and its 2022 real GPD.**\n",
        "\n",
        "To do that, first note that we can use `$` to select a single column from the dataframe. For example, `weo$pop_2022` is a vector of 2022 population values for each country. Also note that `cor(a,b)` computes the correlation between the vectors `a` and `b`.\n",
        "\n",
        "We'll talk more about correlation later in the course. For now, you just need to know that correlation measures the strength of the relationship between two variables, and takes values between -1 and 1. Roughly, values close to 1 mean that when one variable is big the other variable is big (and vice versa); values close to -1 mean that when one variable is big the other variable is small (and vice versa); and values close to 0 mean there is no consistent relationship between the two variables.\n",
        "\n",
        "`R` tip: preceding a command by a question mark (e.g., `?cor`) will show documentation for that command. Sometimes this can be useful to better understand how to use a command. But it also can produce a lot of information that takes time to digest. Part of learning to code is learning how to read this type of documentation, and, additionally learning how to search the web for examples and explanations about how things work. Even expert programmers regularly read the built-in documentation and turn to the web for help. This is part of the process of coding!"
      ]
    },
    {
      "cell_type": "code",
      "execution_count": null,
      "id": "dcc525bb",
      "metadata": {
        "id": "dcc525bb"
      },
      "outputs": [],
      "source": [
        "# Your answer here!\n",
        "\n"
      ]
    },
    {
      "cell_type": "markdown",
      "source": [
        "**In a sentence or two, interpret the meaning of the result that you found above. Is that what you would expect?** Edit the cell below to provide your answer."
      ],
      "metadata": {
        "id": "6n-qrzZ1M53h"
      },
      "id": "6n-qrzZ1M53h"
    },
    {
      "cell_type": "markdown",
      "source": [
        "Edit this cell to provide your answer!\n",
        "\n"
      ],
      "metadata": {
        "id": "BOQ6S3bSNFqY"
      },
      "id": "BOQ6S3bSNFqY"
    },
    {
      "cell_type": "markdown",
      "id": "1fc9ec24",
      "metadata": {
        "id": "1fc9ec24"
      },
      "source": [
        "**v. Compute the correlation between 2022 population and 2022 real GPD per capita.**\n",
        "\n",
        "To do this, first create a new vector that contains the 2022 real GDP per capita. Then compute the correlation."
      ]
    },
    {
      "cell_type": "code",
      "execution_count": null,
      "id": "e6578753",
      "metadata": {
        "id": "e6578753"
      },
      "outputs": [],
      "source": [
        "# Your answer here!\n",
        "\n"
      ]
    },
    {
      "cell_type": "markdown",
      "source": [
        "**In a sentence or two, interpret the meaning of the result that you found above. Is that what you would expect?** Edit the cell below to provide your answer."
      ],
      "metadata": {
        "id": "Z4QKT-xGN9el"
      },
      "id": "Z4QKT-xGN9el"
    },
    {
      "cell_type": "markdown",
      "source": [
        "Edit this cell to provide your answer!\n",
        "\n"
      ],
      "metadata": {
        "id": "4nl-UpEKN_k2"
      },
      "id": "4nl-UpEKN_k2"
    },
    {
      "cell_type": "markdown",
      "id": "bbee4614",
      "metadata": {
        "id": "bbee4614"
      },
      "source": [
        "### e) That's it!"
      ]
    },
    {
      "cell_type": "markdown",
      "id": "8b548c14",
      "metadata": {
        "id": "8b548c14"
      },
      "source": [
        "You've now gone through the three primary functions of Notebooks. Take your time to get familiar with these Notebooks now, so that you can spend your time on subsequent problem sets focusing on the content. If you have any questions about how these Notebooks work, please come to office hours or use the [#askforhelp channel](https://app.slack.com/client/T05LR6BUJM7/C05PULMM449) on Slack."
      ]
    },
    {
      "cell_type": "markdown",
      "id": "3664d9e5",
      "metadata": {
        "id": "3664d9e5"
      },
      "source": [
        "When you have completed this section, please check the following box:\n",
        "\n",
        "- [ ] I have familiarized myself with the syntax of Notebooks"
      ]
    },
    {
      "cell_type": "markdown",
      "id": "b72edcee",
      "metadata": {
        "id": "b72edcee"
      },
      "source": [
        "# PREPARING FOR API-201"
      ]
    },
    {
      "cell_type": "markdown",
      "id": "1c6fa77c",
      "metadata": {
        "id": "1c6fa77c"
      },
      "source": [
        "This question asks you to do several things that will help you get ready for API-201 and make sure we make the most productive use of class time during the course."
      ]
    },
    {
      "cell_type": "markdown",
      "id": "0f53f960",
      "metadata": {
        "id": "0f53f960"
      },
      "source": [
        "### a) Complete your Teachly Profile (1-10 minutes)\n",
        "\n",
        "We strive to teach in a classroom in which everyone feels welcome to participate in class. To help us get to know you better, target the course better to your collective interests, keep track of classroom participation patterns, and create an inclusive classroom environment, we will be using a tool developed by faculty and students at HKS called Teachly.\n",
        "\n",
        "If you have not yet done so, please complete your Teachly Student Profile so that we can get to know you and your interests better. Visit [teachly.hks.harvard.edu](https://teachly.hks.harvard.edu) to complete your profile. If you have already done so but would like to edit your profile, you can click `Edit Information` to add or remove anything you wish. Make sure that both parts 1 and 2 of your Teachly Student profile are complete. *If you encounter any issues, please contact [Victoria Barnum](mailto:victoria_barnum@hks.harvard.edu).*\n",
        "\n",
        "Finally, click on the “Complete Profile” green box at the bottom."
      ]
    },
    {
      "cell_type": "markdown",
      "id": "39507b7b",
      "metadata": {
        "id": "39507b7b"
      },
      "source": [
        "### b) Syllabus Review and Quiz (Estimated Time: 15-20 minutes)\n",
        "\n",
        "We briefly reviewed the course syllabus during our first class, but the syllabus contains a lot of information that is important for you to know so you can maximize your learning in this course. Thus we would like you to carefully read it before we meet. You can find the syllabus on the Canvas website, or [access it here](https://docs.google.com/document/d/1PDsUdyPLQ_knJ2zm7YW-Xk8wg130eIshJnwQoG5jsiU/edit?usp=sharing).\n",
        "\n",
        "After reading the syllabus, please complete the syllabus quiz on Canvas, linked here:\n",
        "\n",
        "- [Section C (Goel)](https://canvas.harvard.edu/courses/125663/quizzes/335931)\n",
        "- [Section D (Taylor)](https://canvas.harvard.edu/courses/125664/quizzes/335930)\n"
      ]
    },
    {
      "cell_type": "markdown",
      "id": "2ccf2a5d",
      "metadata": {
        "id": "2ccf2a5d"
      },
      "source": [
        "### c) Get your technology set up for the course (15 min)\n",
        "\n",
        "We will be using two key tools for the course that require some setup on your part:"
      ]
    },
    {
      "cell_type": "markdown",
      "id": "5c430740",
      "metadata": {
        "id": "5c430740"
      },
      "source": [
        "**i. Slack**: In addition to office hours, Slack will be the primary way through which we will stay connected outside of class. We will use Slack for discussions (`#general`), substantive and logistical questions (`#askforhelp`), help with R (`#r`), and to share and comment on articles and blog posts (`#random`). We will also have section-specific channels which will be made private once everyone joins, in case you want to converse with just your section (`#section-c`, `#section-d`). We will use the Canvas Discussion Board only for assignments.\n",
        "\n",
        "While we will also post announcements in Canvas, you should regularly check Slack to stay abreast of course-related topics. The teaching team will also be active in Slack to help answer questions and share ideas. You can join and access Slack via the Canvas menu.\n",
        "\n",
        "Please make sure you join all of the above mentioned channels, including your section-specific channel."
      ]
    },
    {
      "cell_type": "markdown",
      "id": "483ee3aa",
      "metadata": {
        "id": "483ee3aa"
      },
      "source": [
        "**ii. Poll Everywhere**: One of the pedagogic approaches of this course involves the use of polling to gather your answers to various questions. We will use an in-class polling solution called Poll Everywhere that requires you to use an internet-connected device (smartphone, tablet, or laptop).\n",
        "\n",
        "Please follow the 4 steps specified below, so that your internet-enabled device is ready, and we can use class time as productively as possible.\n",
        "\n",
        "1. **Decide** which internet-enabled device (smartphone, tablet or laptop) you want to bring to class in order to respond to polls. Choose carefully; think about which device minimizes distractions. Please note that this electronic device is to be used in class only during the times when you will be asked explicitly to use it (i.e., to answer a poll or question electronically). Because of this, we recommend that you use a device that can quickly wake up from sleep mode (e.g., a smartphone) and that you turn off all notifications during class.\n",
        "2. **Create a PollEv account by visiting [polleverywhere.harvard.edu](https://polleverywhere.harvard.edu) and logging in with your HarvardKey**.\n",
        "3. **Visit** your section's PollEv page with your device's browser:\n",
        "  - API-201C (Prof. Sharad Goel): [pollev.com/goel](https://pollev.com/goel)\n",
        "  - API-201D (Prof. Charles Taylor): [pollev.com/charlestaylor](https://pollev.com/charlestaylor)\n",
        "4. **Bookmark your section’s PollEv page or download the app** so that is easily accessible during class. On a Mac you can also [add a link to your Dock](http://osxdaily.com/2016/07/10/add-website-shortcut-dock-mac/), on a PC you can [pin a link to your Start Menu](https://www.digitaltrends.com/computing/how-to-add-websites-to-the-windows-10-start-menu-and-task-bar/), and most smartphones and tablets have ways to [add a link to your home screen](http://www.howtogeek.com/196087/how-to-add-websites-to-the-home-screen-on-any-smartphone-or-tablet/). [Click here](https://www.polleverywhere.com/mobile) to download the app for iOS or Android if you would prefer – whatever makes it easiest for you to access during class with minimal distraction."
      ]
    },
    {
      "cell_type": "markdown",
      "id": "dd124501",
      "metadata": {
        "id": "dd124501"
      },
      "source": [
        "### d) Checklist\n",
        "\n",
        "When you are done with each of these tasks, *double click on this cell and type an X in between the brackets of each item to mark it as complete*.\n",
        "\n",
        "#### Tasks\n",
        "- [ ] I created my profile on Teachly\n",
        "- [ ] I have reviewed the Syllabus and completed the quiz\n",
        "- [ ] I have set up my technology for the course"
      ]
    },
    {
      "cell_type": "markdown",
      "id": "5fb55a91-f32e-4a7d-a9a1-f8158e2bdb22",
      "metadata": {
        "id": "5fb55a91-f32e-4a7d-a9a1-f8158e2bdb22"
      },
      "source": [
        "# SUBMITTING THIS PROBLEM SET"
      ]
    },
    {
      "cell_type": "markdown",
      "id": "c22bc072",
      "metadata": {
        "id": "c22bc072"
      },
      "source": [
        "Once you have completed this problem set, you're ready to submit it as a PDF. Here are the steps that we recommend you do every time you submit a problem set:\n",
        "\n",
        "1. Click `View > Expand sections` in the menubar to make sure all work is visible (if it is greyed out then it is already visible).\n",
        "1. Click `Runtime > Run all` in the menubar to make sure all of your code is executed.\n",
        "1. Click `File > Print` in the menubar and choose the `Save as PDF` option in Chrome to export your notebook as a PDF.\n",
        "1. Check to make sure answers do not get cut off - when you go to print the PDF we recommend clicking on `More settings` and setting `Margins` to `None`.\n",
        "1. Submit your file on Canvas.\n",
        "\n",
        "**Congratulations, you have just submitted your first API-201 Problem Set!**"
      ]
    }
  ],
  "metadata": {
    "kernelspec": {
      "display_name": "R",
      "language": "R",
      "name": "ir"
    },
    "language_info": {
      "codemirror_mode": "r",
      "file_extension": ".r",
      "mimetype": "text/x-r-source",
      "name": "R",
      "pygments_lexer": "r",
      "version": "4.2.1"
    },
    "colab": {
      "provenance": [],
      "name": "hw1-exercises.ipynb",
      "include_colab_link": true
    }
  },
  "nbformat": 4,
  "nbformat_minor": 5
}