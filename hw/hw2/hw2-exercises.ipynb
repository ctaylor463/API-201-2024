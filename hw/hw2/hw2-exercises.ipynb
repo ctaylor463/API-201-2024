{
  "cells": [
    {
      "cell_type": "markdown",
      "metadata": {
        "id": "view-in-github",
        "colab_type": "text"
      },
      "source": [
        "<a href=\"https://colab.research.google.com/github/5harad/API-201-2023/blob/main/hw/hw2/hw2-exercises.ipynb\" target=\"_parent\"><img src=\"https://colab.research.google.com/assets/colab-badge.svg\" alt=\"Open In Colab\"/></a>"
      ]
    },
    {
      "cell_type": "markdown",
      "id": "474c4cea-2d37-445e-88d9-fcbac42c6a4f",
      "metadata": {
        "tags": [],
        "id": "474c4cea-2d37-445e-88d9-fcbac42c6a4f"
      },
      "source": [
        "# API-201 C/D PROBLEM SET #2\n",
        "**Due on Thursday, September 14, at 8:00 a.m.**"
      ]
    },
    {
      "cell_type": "markdown",
      "metadata": {
        "id": "55a12d42-ccc1-482f-b4c3-2d02e3286eda"
      },
      "source": [
        "**I - INSTRUCTIONS**  \n",
        "To successfully complete this problem set, please follow these steps:\n",
        "\n",
        "1. **Create a copy of this notebook in your own drive by clicking `Copy to Drive` in the menubar (this is explained below in more detail below) - *if you do not do this your work will not be saved!*** We recommend completing this problem set in Google Chrome.\n",
        "2. **Insert all your answers into your copy of the document.**\n",
        "    1. Please include every portion of your submission in this document unless a separate electronic file is explicitly requested.\n",
        "    3. All numerical calculations should be done in the notebook itself, using R code. If you have to do calculations by hand, include a picture of your handwritten work.\n",
        "    2. To add an image of handwritten work, screenshots, or anything else, add a new text cell and click the small image icon in the menubar above the cell. After inserting an image, press the `esc` key to show the image. If you have trouble with this method, upload your image to [Freeimage.host](https://freeimage.host), copy a Markdown link, and paste it in a text cell.\n",
        "3. **Once your document is complete, please save and submit the notebook on Canvas as a PDF.**\n",
        "    1. Click `View > Expand sections` in the menubar to make sure all work is visible (if it is greyed out then it is already visible).\n",
        "    1. Click `Runtime > Run all` in the menubar to make sure all of your code is executed.\n",
        "    1. Click `File > Print` in the menubar and choose the `Save as PDF` option in Chrome to export your notebook as a PDF.\n",
        "    1. Check to make sure answers do not get cut off - when you go to print the PDF we recommend clicking on `More settings` and setting `Margins` to `None`.\n",
        "    1. Submit your file on Canvas.\n"
      ],
      "id": "55a12d42-ccc1-482f-b4c3-2d02e3286eda"
    },
    {
      "cell_type": "markdown",
      "id": "89f7b029-15e6-40e1-a6d5-2f9dc144da8b",
      "metadata": {
        "id": "89f7b029-15e6-40e1-a6d5-2f9dc144da8b"
      },
      "source": [
        "**II - IDENTIFICATION**\n",
        "1. **Your Full Name:** `     `  \n",
        "\n",
        "2. **Group Members (classmates with whom you worked on this problem set):**  \n",
        "    1. `     `\n",
        "    2. `     `\n",
        "    3. `     `\n",
        "    4. `     `\n",
        "    \n",
        "3. **Compliance with HKS Academic Code**  \n",
        "We abide by the Harvard Kennedy School Academic code for all aspects of the course. In terms of problem sets, unless explicitly written otherwise, the norms are the following: You are free (and encouraged) to discuss problem sets with your classmates. However, you must hand in your own unique written work and code in all cases. Any copy/paste of another’s work is plagiarism. In other words, you may work with your classmate(s), sitting side-by-side (physically or remotely!) and going through the problem set question by question, but you must each type your own answers and your own code. For more details, please see syllabus.\n",
        "\n",
        "    **I certify that my work in this problem set complies with the HKS Academic Code**\n",
        "    - [ ] Yes\n",
        "    - [ ] No\n",
        "\n",
        "---"
      ]
    },
    {
      "cell_type": "markdown",
      "id": "46229d2e-8b8a-4c56-a5f4-0626c3eaba9f",
      "metadata": {
        "id": "46229d2e-8b8a-4c56-a5f4-0626c3eaba9f"
      },
      "source": [
        "#### Load `R` libraries and data\n",
        "The cell below will set up your notebook for the assignment - make sure you run it before beginning!\n",
        "\n",
        "In addition to loading the tidyverse, this code cell will import some data - an extract from the World Bank's World Development Indicators (WDI) dataset."
      ]
    },
    {
      "cell_type": "code",
      "execution_count": null,
      "id": "fd4d1096-e7ce-452d-8033-f1f2fb43396f",
      "metadata": {
        "tags": [],
        "id": "fd4d1096-e7ce-452d-8033-f1f2fb43396f"
      },
      "outputs": [],
      "source": [
        "library(tidyverse)\n",
        "\n",
        "# load the WDI data\n",
        "wdi <- read_csv(\"https://5harad.com/datasets/API201/country_gdp_pop.csv\")\n"
      ]
    },
    {
      "cell_type": "markdown",
      "id": "44c63065-164e-463d-a543-db1acdabedf9",
      "metadata": {
        "id": "44c63065-164e-463d-a543-db1acdabedf9"
      },
      "source": [
        "# LEARNING ABOUT THE WORLD ECONOMY\n",
        "\n",
        "The purpose of this question is two-fold: (a) to help you learn about the world economy using a widely used dataset; and (b) to ensure that you are comfortable with several R functions and operations that are commonly used to analyze data.\n",
        "\n",
        "We will be using an extract from World Bank’s World Development Indicators (WDI), data frame `wdi`. Note that the WDI dataset reports GDP values in 2010 U.S. dollars, so that so you can directly compare values in different years. Also note that GDP and population data are not available in some years.  For this problem set, use only those observations for which data are available."
      ]
    },
    {
      "cell_type": "markdown",
      "id": "e7343f7c-714f-4e3d-aa74-54d7c4719d7d",
      "metadata": {
        "id": "e7343f7c-714f-4e3d-aa74-54d7c4719d7d"
      },
      "source": [
        "### 0. Preview the Data"
      ]
    },
    {
      "cell_type": "markdown",
      "id": "8abc871e-caf3-4726-be45-19052976e1ab",
      "metadata": {
        "id": "8abc871e-caf3-4726-be45-19052976e1ab"
      },
      "source": [
        "Run the cell below to view the first 10 rows of the `wdi` data."
      ]
    },
    {
      "cell_type": "code",
      "execution_count": null,
      "id": "5489a06d-b79b-4a56-a0d9-7d17b8851efc",
      "metadata": {
        "id": "5489a06d-b79b-4a56-a0d9-7d17b8851efc"
      },
      "outputs": [],
      "source": [
        "head(wdi, 10)"
      ]
    },
    {
      "cell_type": "markdown",
      "metadata": {
        "id": "HqYhDWXIitKN"
      },
      "source": [
        "### 1. Summarize the data:\n",
        "\n",
        "Note: for those new to R and coding, it may be helpful to revisit the R summer training available on Canvas.\n",
        "\n",
        "**a. Use the `summary` command to get a quick idea of the distribution and range of the variables in `wdi`.**"
      ],
      "id": "HqYhDWXIitKN"
    },
    {
      "cell_type": "code",
      "execution_count": null,
      "id": "6bf00fca-0bd7-4ea2-9ece-6bb50bb43b42",
      "metadata": {
        "id": "6bf00fca-0bd7-4ea2-9ece-6bb50bb43b42"
      },
      "outputs": [],
      "source": [
        "# Your answer here!\n",
        "\n"
      ]
    },
    {
      "cell_type": "markdown",
      "metadata": {
        "id": "BNDc0rgSiwum"
      },
      "source": [
        "**b. From this summary output, what is the mean GDP in 2019? How many countries have missing data for 1994 population?**"
      ],
      "id": "BNDc0rgSiwum"
    },
    {
      "cell_type": "markdown",
      "source": [
        "Edit this cell to provide your answer!\n",
        "\n"
      ],
      "metadata": {
        "id": "1_KTuXvgHdCc"
      },
      "id": "1_KTuXvgHdCc"
    },
    {
      "cell_type": "markdown",
      "metadata": {
        "id": "ImH-2uknsLtE"
      },
      "source": [
        "**c. Calculate and report total world GDP and world population in 2019 using the `sum()` function. Add the argument `na.rm = TRUE` to remove missing values.**\n",
        "\n",
        "_Hints:_\n",
        "\n",
        "* Recall that `sum()` takes a numerical vector as its first argument. You can extract a column from a data frame using `$` (e.g., `dataset$var1` will reference the `var1` column of your data frame `dataset`).\n",
        "* You can add an argument by putting a comma and the argument in parentheses (e.g., `fun(input, arg)` includes argument `arg` to function `fun(input)`)."
      ],
      "id": "ImH-2uknsLtE"
    },
    {
      "cell_type": "code",
      "source": [
        "# Your answer here!\n",
        "\n"
      ],
      "metadata": {
        "id": "B3-2dq1LuVvn"
      },
      "id": "B3-2dq1LuVvn",
      "execution_count": null,
      "outputs": []
    },
    {
      "cell_type": "markdown",
      "metadata": {
        "id": "OAngkCsauwK-"
      },
      "source": [
        "As part of the [tidyverse](https://tidyverse.org/) package, `dplyr`'s pipe symbol `%>%` is used to perform sequential operations on a dataset. For example, below we display the GDP of Brazil in 1994 and 2019.\n"
      ],
      "id": "OAngkCsauwK-"
    },
    {
      "cell_type": "code",
      "source": [
        "# Run this cell\n",
        "\n",
        "wdi %>%\n",
        "  filter(Country=='Brazil') %>%\n",
        "  select(GDP_1994, GDP_2019)"
      ],
      "metadata": {
        "id": "7ihpDw_5vrFk"
      },
      "id": "7ihpDw_5vrFk",
      "execution_count": null,
      "outputs": []
    },
    {
      "cell_type": "code",
      "source": [
        "# You can also save output as an object for future use\n",
        "\n",
        "brazil_gdp <- wdi %>%\n",
        "  filter(Country=='Brazil') %>%\n",
        "  select(GDP_1994, GDP_2019)\n",
        "\n",
        "brazil_gdp"
      ],
      "metadata": {
        "id": "SAsFiC910ZR5"
      },
      "id": "SAsFiC910ZR5",
      "execution_count": null,
      "outputs": []
    },
    {
      "cell_type": "markdown",
      "id": "b6ffe349-e238-460e-bd38-4ed9557ee73e",
      "metadata": {
        "id": "b6ffe349-e238-460e-bd38-4ed9557ee73e"
      },
      "source": [
        "**d. Now identify the five countries with the largest populations in 2019 and their respective populations in 2019 using `head()` and the tidyverse function `arrange()`.**\n",
        "\n",
        "_Hints:_\n",
        "* Use pipes `%>%` to perform multiple sequential operations on the `wdi` dataset.\n",
        "* `arrange(data, desc(x))` sorts data in descending order of `x` rather than ascending order.\n",
        "* `head(data, n)` returns just the first `n` rows of data.\n",
        "* Make sure to use `head()` and `arrange()` in the correct order, otherwise you'll order only the first 5 countries in the dataset.\n"
      ]
    },
    {
      "cell_type": "code",
      "execution_count": null,
      "id": "fc73769d-39ff-4415-b038-5e837d5017ac",
      "metadata": {
        "id": "fc73769d-39ff-4415-b038-5e837d5017ac"
      },
      "outputs": [],
      "source": [
        "# Your answer here!\n",
        "\n"
      ]
    },
    {
      "cell_type": "markdown",
      "id": "1a8d4b52-6081-4356-8da1-87f63c1074cd",
      "metadata": {
        "id": "1a8d4b52-6081-4356-8da1-87f63c1074cd"
      },
      "source": [
        "**e. Identify the five countries with the largest GDPs in 2019 and their respective GDPs in 2019.**"
      ]
    },
    {
      "cell_type": "code",
      "execution_count": null,
      "id": "bdd6bdc6-ff80-40f6-a4d0-b7129229f83c",
      "metadata": {
        "id": "bdd6bdc6-ff80-40f6-a4d0-b7129229f83c"
      },
      "outputs": [],
      "source": [
        "# Your answer here!\n",
        "\n"
      ]
    },
    {
      "cell_type": "markdown",
      "id": "e4f24eaf-c59b-4ec1-86d7-9c5f2ed2edc4",
      "metadata": {
        "id": "e4f24eaf-c59b-4ec1-86d7-9c5f2ed2edc4"
      },
      "source": [
        "### 2. Manipulate the data:\n",
        "\n",
        "Calculate GDP per capita for each country in the database in both 1994 and 2019 by creating a new dataset called `wdi_percap` that includes two new columns called `gdp_percap_1994` and `gdp_percap_2019`, respectively.\n",
        "\n",
        "_HINT:_ Use `mutate()` to create the new columns.\n",
        "\n",
        "**a. What is the simple average (`mean`) of the country-level GDP per capita values in 1994 and 2019?**\n",
        "\n",
        "_HINT:_ You can remove missing values with `mean()` or `median()` just like with `sum()` using `na.rm=TRUE`"
      ]
    },
    {
      "cell_type": "code",
      "execution_count": null,
      "id": "eecde925-5512-4833-af43-5f153f9c2f10",
      "metadata": {
        "id": "eecde925-5512-4833-af43-5f153f9c2f10"
      },
      "outputs": [],
      "source": [
        "# Your answer here!\n",
        "\n"
      ]
    },
    {
      "cell_type": "markdown",
      "id": "28ccdf36-0195-4f8f-bc45-501d229f9386",
      "metadata": {
        "id": "28ccdf36-0195-4f8f-bc45-501d229f9386"
      },
      "source": [
        "**b. What is the median country-level GDP per capita in 1994 and 2019?**"
      ]
    },
    {
      "cell_type": "code",
      "execution_count": null,
      "id": "8d5c0e8d-6352-4b0a-97ce-d895aebea3e7",
      "metadata": {
        "id": "8d5c0e8d-6352-4b0a-97ce-d895aebea3e7"
      },
      "outputs": [],
      "source": [
        "# Your answer here!\n",
        "\n"
      ]
    },
    {
      "cell_type": "markdown",
      "id": "6edd0db0-c45c-4944-8546-af498ebb7140",
      "metadata": {
        "id": "6edd0db0-c45c-4944-8546-af498ebb7140"
      },
      "source": [
        "**c. What drives the differences between (a) and (b)?**"
      ]
    },
    {
      "cell_type": "markdown",
      "id": "caafb8d6-f2a3-45cf-8e27-560bb7f23b10",
      "metadata": {
        "id": "caafb8d6-f2a3-45cf-8e27-560bb7f23b10"
      },
      "source": [
        "Edit this cell to provide your answer!\n",
        "\n",
        "\n"
      ]
    },
    {
      "cell_type": "markdown",
      "id": "1a8520f1-0c38-464a-a318-472e8606de17",
      "metadata": {
        "id": "1a8520f1-0c38-464a-a318-472e8606de17"
      },
      "source": [
        "**d. Using data on 2019, what is the total population of all countries with GDP per capita below the world mean calculated in part (a)?  What fraction of the total world population does this number represent?**\n",
        "\n",
        "There are many possible ways to solve this question, so consider the following outline as one possible way to solve the problem, but not the only solution!\n",
        "1. Start by saving the mean per capita GDP to a variable\n",
        "1. Create a new dataset that only contains country information for those countries below the mean.\n",
        "1. Compute the total population for this subset of countries, as well as for the full set of countries, saving the results in new variables.\n",
        "1. Compute the requested fraction."
      ]
    },
    {
      "cell_type": "code",
      "source": [
        "# Your answer here!\n",
        "\n"
      ],
      "metadata": {
        "id": "1Tp9reufKpdR"
      },
      "id": "1Tp9reufKpdR",
      "execution_count": null,
      "outputs": []
    },
    {
      "cell_type": "markdown",
      "id": "7e512987-c1c0-4308-9523-8ad6d2a311d1",
      "metadata": {
        "id": "7e512987-c1c0-4308-9523-8ad6d2a311d1"
      },
      "source": [
        "**e. What is your answer to (d) telling you in terms of how appropriate mean world GDP per capita is in characterizing the economic well-being of the average person in the world? [2-3 sentences]**"
      ]
    },
    {
      "cell_type": "markdown",
      "id": "036f660d-52e1-426d-8c2e-c62f23123617",
      "metadata": {
        "id": "036f660d-52e1-426d-8c2e-c62f23123617"
      },
      "source": [
        "Edit this cell to provide your answer!\n",
        "\n"
      ]
    },
    {
      "cell_type": "markdown",
      "id": "edac92b0-d49a-4874-81c4-f09c658a8c9b",
      "metadata": {
        "id": "edac92b0-d49a-4874-81c4-f09c658a8c9b"
      },
      "source": [
        "Missing data is, unfortunately, a fact of life, and we face it here.  While we cannot necessarily fix the problem of missing data, it is important to consider its effects.\n",
        "\n",
        "**f. Use the `is.na` function to determine the number of countries for which the WDI database does not have a 2019 GDP figure.**\n",
        "\n",
        "_HINT:_ The function `is.na()` returns `TRUE` for missing values and `FALSE` otherwise. You can calculate the total number of missing values in a vector `x` using `sum(is.na(x))`."
      ]
    },
    {
      "cell_type": "code",
      "execution_count": null,
      "id": "195986a1-ccde-4b7e-b684-4374ea576ed1",
      "metadata": {
        "id": "195986a1-ccde-4b7e-b684-4374ea576ed1"
      },
      "outputs": [],
      "source": [
        "# Your answer here!\n",
        "\n"
      ]
    },
    {
      "cell_type": "markdown",
      "id": "3e017066-cfd9-4c71-9da4-b36b05932da3",
      "metadata": {
        "id": "3e017066-cfd9-4c71-9da4-b36b05932da3"
      },
      "source": [
        "### 3. Merging data\n",
        "\n",
        "We now call in two more datasets from `csv` files:   `co2`, which includes information on country CO2 emissions (metric tons), and `continent` which includes the continent of each country."
      ]
    },
    {
      "cell_type": "code",
      "execution_count": null,
      "id": "42443974-abae-4ef3-a91c-ac5cb7c0692b",
      "metadata": {
        "id": "42443974-abae-4ef3-a91c-ac5cb7c0692b"
      },
      "outputs": [],
      "source": [
        "# Run this cell\n",
        "co2 <- read_csv(\"https://5harad.com/datasets/API201/country_co2.csv\")\n",
        "continent <- read_csv(\"https://5harad.com/datasets/API201/country_continent.csv\")"
      ]
    },
    {
      "cell_type": "markdown",
      "source": [
        "Preview the first few observations of each dataset."
      ],
      "metadata": {
        "id": "Bu3XmxxU12Ny"
      },
      "id": "Bu3XmxxU12Ny"
    },
    {
      "cell_type": "code",
      "source": [
        "# Run this cell\n",
        "\n"
      ],
      "metadata": {
        "id": "lS4GtIIfFRCc"
      },
      "id": "lS4GtIIfFRCc",
      "execution_count": null,
      "outputs": []
    },
    {
      "cell_type": "markdown",
      "source": [
        "A `left_join` command can merge the new datasets with `wdi`. The join requires a common variable, which is `Country` in this case.\n",
        "\n",
        "Let's first do this for `co2`."
      ],
      "metadata": {
        "id": "42Rjh1H_FRxv"
      },
      "id": "42Rjh1H_FRxv"
    },
    {
      "cell_type": "code",
      "source": [
        "# Run this cell\n",
        "\n",
        "wdi_with_co2 <- left_join(wdi, co2, by = \"Country\")\n",
        "head(wdi_with_co2, 10)\n"
      ],
      "metadata": {
        "id": "JjukWvH52V9-"
      },
      "id": "JjukWvH52V9-",
      "execution_count": null,
      "outputs": []
    },
    {
      "cell_type": "markdown",
      "source": [
        "**a. Now merge `continent` into your dataset.**\n",
        "\n",
        "Note: some countries won't match because different datasets can have different ways of spelling/naming a country. This is OK for now, but in future research, ensuring consistency is an important part of the data cleaning process!"
      ],
      "metadata": {
        "id": "Lko6HoqMJB9K"
      },
      "id": "Lko6HoqMJB9K"
    },
    {
      "cell_type": "code",
      "source": [
        "# Your answer here!\n",
        "\n"
      ],
      "metadata": {
        "id": "VQOVcNxjJC3x"
      },
      "id": "VQOVcNxjJC3x",
      "execution_count": null,
      "outputs": []
    },
    {
      "cell_type": "markdown",
      "id": "da7d05f1-e5d9-4cf8-b8db-b250b6c82aed",
      "metadata": {
        "id": "da7d05f1-e5d9-4cf8-b8db-b250b6c82aed"
      },
      "source": [
        "**b. Add a column to this joined dataset indicating CO2 emissions per capita — called `co2_emissions_pc` — using 2019 population. What is the mean value?**"
      ]
    },
    {
      "cell_type": "code",
      "execution_count": null,
      "id": "e73f0966-bab8-42cc-a50a-e26ea4935934",
      "metadata": {
        "id": "e73f0966-bab8-42cc-a50a-e26ea4935934"
      },
      "outputs": [],
      "source": [
        "# Your answer here!\n",
        "\n"
      ]
    },
    {
      "cell_type": "markdown",
      "source": [
        "**c. Which five countries have the highest CO2 emissions per capita? Which five have the lowest?**"
      ],
      "metadata": {
        "id": "gQtz2eCD30Nm"
      },
      "id": "gQtz2eCD30Nm"
    },
    {
      "cell_type": "code",
      "source": [
        "# Your answer here!\n",
        "\n"
      ],
      "metadata": {
        "id": "9NxnvYCqqqOG"
      },
      "id": "9NxnvYCqqqOG",
      "execution_count": null,
      "outputs": []
    },
    {
      "cell_type": "markdown",
      "source": [
        "**d. Calculate total CO2 emissions for each continent. Order the continents from highest to lowest.**\n",
        "\n",
        "HINT: this can be done with the `group_by()` operation."
      ],
      "metadata": {
        "id": "945ZgrDOLGwS"
      },
      "id": "945ZgrDOLGwS"
    },
    {
      "cell_type": "code",
      "source": [
        "# Your answer here!\n",
        "\n"
      ],
      "metadata": {
        "id": "MIl1gAX9LHPS"
      },
      "id": "MIl1gAX9LHPS",
      "execution_count": null,
      "outputs": []
    },
    {
      "cell_type": "markdown",
      "source": [
        "**e. Compute the correlation between CO2 emissions per capita and GDP per capita in 2019**\n",
        "\n",
        "*HINT*: to deal with missing values, you can add `use=\"complete.obs\"` as an argument in `cor()`.\n",
        "\n"
      ],
      "metadata": {
        "id": "3AfwDj86qLrD"
      },
      "id": "3AfwDj86qLrD"
    },
    {
      "cell_type": "code",
      "source": [
        "# Your answer here!\n",
        "\n"
      ],
      "metadata": {
        "id": "0yqsoUc0Tnd9"
      },
      "id": "0yqsoUc0Tnd9",
      "execution_count": null,
      "outputs": []
    },
    {
      "cell_type": "markdown",
      "source": [
        "**f. What do you think is driving this relationship? Why? Qualitative answers are fine.**"
      ],
      "metadata": {
        "id": "AKkOJKJX4NTT"
      },
      "id": "AKkOJKJX4NTT"
    },
    {
      "cell_type": "markdown",
      "source": [
        "Edit this cell to provide your answer!\n",
        "\n"
      ],
      "metadata": {
        "id": "eZ98WUZGqMQy"
      },
      "id": "eZ98WUZGqMQy"
    }
  ],
  "metadata": {
    "kernelspec": {
      "display_name": "R",
      "language": "R",
      "name": "ir"
    },
    "language_info": {
      "codemirror_mode": "r",
      "file_extension": ".r",
      "mimetype": "text/x-r-source",
      "name": "R",
      "pygments_lexer": "r",
      "version": "4.2.1"
    },
    "colab": {
      "provenance": [],
      "name": "hw2-exercises.ipynb",
      "include_colab_link": true
    }
  },
  "nbformat": 4,
  "nbformat_minor": 5
}