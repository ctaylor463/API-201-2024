{
  "cells": [
    {
      "cell_type": "markdown",
      "metadata": {
        "id": "view-in-github",
        "colab_type": "text"
      },
      "source": [
        "<a href=\"https://colab.research.google.com/github/5harad/API-201-2023/blob/main/hw/hw2/hw2-answers.ipynb\" target=\"_parent\"><img src=\"https://colab.research.google.com/assets/colab-badge.svg\" alt=\"Open In Colab\"/></a>"
      ]
    },
    {
      "cell_type": "markdown",
      "id": "474c4cea-2d37-445e-88d9-fcbac42c6a4f",
      "metadata": {
        "tags": [],
        "id": "474c4cea-2d37-445e-88d9-fcbac42c6a4f"
      },
      "source": [
        "# API-201 C/D PROBLEM SET #2\n",
        "**Due on Thursday, September 14, at 8:00 a.m.**"
      ]
    },
    {
      "cell_type": "markdown",
      "metadata": {
        "id": "55a12d42-ccc1-482f-b4c3-2d02e3286eda"
      },
      "source": [
        "**I - INSTRUCTIONS**  \n",
        "To successfully complete this problem set, please follow these steps:\n",
        "\n",
        "1. **Create a copy of this notebook in your own drive by clicking `Copy to Drive` in the menubar (this is explained below in more detail below) - *if you do not do this your work will not be saved!*** We recommend completing this problem set in Google Chrome.\n",
        "2. **Insert all your answers into your copy of the document.**\n",
        "    1. Please include every portion of your submission in this document unless a separate electronic file is explicitly requested.\n",
        "    3. All numerical calculations should be done in the notebook itself, using R code. If you have to do calculations by hand, include a picture of your handwritten work.\n",
        "    2. To add an image of handwritten work, screenshots, or anything else, add a new text cell and click the small image icon in the menubar above the cell. After inserting an image, press the `esc` key to show the image. If you have trouble with this method, upload your image to [Freeimage.host](https://freeimage.host), copy a Markdown link, and paste it in a text cell.\n",
        "3. **Once your document is complete, please save and submit the notebook on Canvas as a PDF.**\n",
        "    1. Click `View > Expand sections` in the menubar to make sure all work is visible (if it is greyed out then it is already visible).\n",
        "    1. Click `Runtime > Run all` in the menubar to make sure all of your code is executed.\n",
        "    1. Click `File > Print` in the menubar and choose the `Save as PDF` option in Chrome to export your notebook as a PDF.\n",
        "    1. Check to make sure answers do not get cut off - when you go to print the PDF we recommend clicking on `More settings` and setting `Margins` to `None`.\n",
        "    1. Submit your file on Canvas.\n"
      ],
      "id": "55a12d42-ccc1-482f-b4c3-2d02e3286eda"
    },
    {
      "cell_type": "markdown",
      "id": "89f7b029-15e6-40e1-a6d5-2f9dc144da8b",
      "metadata": {
        "id": "89f7b029-15e6-40e1-a6d5-2f9dc144da8b"
      },
      "source": [
        "**II - IDENTIFICATION**\n",
        "1. **Your Full Name:** `     `  \n",
        "\n",
        "2. **Group Members (classmates with whom you worked on this problem set):**  \n",
        "    1. `     `\n",
        "    2. `     `\n",
        "    3. `     `\n",
        "    4. `     `\n",
        "    \n",
        "3. **Compliance with HKS Academic Code**  \n",
        "We abide by the Harvard Kennedy School Academic code for all aspects of the course. In terms of problem sets, unless explicitly written otherwise, the norms are the following: You are free (and encouraged) to discuss problem sets with your classmates. However, you must hand in your own unique written work and code in all cases. Any copy/paste of another’s work is plagiarism. In other words, you may work with your classmate(s), sitting side-by-side (physically or remotely!) and going through the problem set question by question, but you must each type your own answers and your own code. For more details, please see syllabus.\n",
        "\n",
        "    **I certify that my work in this problem set complies with the HKS Academic Code**\n",
        "    - [ ] Yes\n",
        "    - [ ] No\n",
        "\n",
        "---"
      ]
    },
    {
      "cell_type": "markdown",
      "id": "46229d2e-8b8a-4c56-a5f4-0626c3eaba9f",
      "metadata": {
        "id": "46229d2e-8b8a-4c56-a5f4-0626c3eaba9f"
      },
      "source": [
        "#### Load `R` libraries and data\n",
        "The cell below will set up your notebook for the assignment - make sure you run it before beginning!\n",
        "\n",
        "In addition to loading the tidyverse, this code cell will import some data - an extract from the World Bank's World Development Indicators (WDI) dataset."
      ]
    },
    {
      "cell_type": "code",
      "execution_count": null,
      "id": "fd4d1096-e7ce-452d-8033-f1f2fb43396f",
      "metadata": {
        "tags": [],
        "id": "fd4d1096-e7ce-452d-8033-f1f2fb43396f",
        "colab": {
          "base_uri": "https://localhost:8080/"
        },
        "outputId": "bf3c1e1e-3399-4c99-89fa-2c3ac42468c3"
      },
      "outputs": [
        {
          "output_type": "stream",
          "name": "stderr",
          "text": [
            "\u001b[1mRows: \u001b[22m\u001b[34m217\u001b[39m \u001b[1mColumns: \u001b[22m\u001b[34m5\u001b[39m\n",
            "\u001b[36m──\u001b[39m \u001b[1mColumn specification\u001b[22m \u001b[36m────────────────────────────────────────────────────────\u001b[39m\n",
            "\u001b[1mDelimiter:\u001b[22m \",\"\n",
            "\u001b[31mchr\u001b[39m (1): Country\n",
            "\u001b[32mdbl\u001b[39m (4): GDP_1994, GDP_2019, POP_1994, POP_2019\n",
            "\n",
            "\u001b[36mℹ\u001b[39m Use `spec()` to retrieve the full column specification for this data.\n",
            "\u001b[36mℹ\u001b[39m Specify the column types or set `show_col_types = FALSE` to quiet this message.\n"
          ]
        }
      ],
      "source": [
        "library(tidyverse)\n",
        "\n",
        "# load the WDI data\n",
        "wdi <- read_csv(\"https://5harad.com/datasets/API201/country_gdp_pop.csv\")\n"
      ]
    },
    {
      "cell_type": "markdown",
      "id": "44c63065-164e-463d-a543-db1acdabedf9",
      "metadata": {
        "id": "44c63065-164e-463d-a543-db1acdabedf9"
      },
      "source": [
        "# LEARNING ABOUT THE WORLD ECONOMY\n",
        "\n",
        "The purpose of this question is two-fold: (a) to help you learn about the world economy using a widely used dataset; and (b) to ensure that you are comfortable with several R functions and operations that are commonly used to analyze data.\n",
        "\n",
        "We will be using an extract from World Bank’s World Development Indicators (WDI), data frame `wdi`. Note that the WDI dataset reports GDP values in 2010 U.S. dollars, so that so you can directly compare values in different years. Also note that GDP and population data are not available in some years.  For this problem set, use only those observations for which data are available."
      ]
    },
    {
      "cell_type": "markdown",
      "id": "e7343f7c-714f-4e3d-aa74-54d7c4719d7d",
      "metadata": {
        "id": "e7343f7c-714f-4e3d-aa74-54d7c4719d7d"
      },
      "source": [
        "### 0. Preview the Data"
      ]
    },
    {
      "cell_type": "markdown",
      "id": "8abc871e-caf3-4726-be45-19052976e1ab",
      "metadata": {
        "id": "8abc871e-caf3-4726-be45-19052976e1ab"
      },
      "source": [
        "Run the cell below to view the first 10 rows of the `wdi` data."
      ]
    },
    {
      "cell_type": "code",
      "execution_count": null,
      "id": "5489a06d-b79b-4a56-a0d9-7d17b8851efc",
      "metadata": {
        "colab": {
          "base_uri": "https://localhost:8080/",
          "height": 412
        },
        "id": "5489a06d-b79b-4a56-a0d9-7d17b8851efc",
        "outputId": "bbcb2390-c728-429f-fc6a-f912d28a9b40"
      },
      "outputs": [
        {
          "output_type": "display_data",
          "data": {
            "text/html": [
              "<table class=\"dataframe\">\n",
              "<caption>A tibble: 10 × 5</caption>\n",
              "<thead>\n",
              "\t<tr><th scope=col>Country</th><th scope=col>GDP_1994</th><th scope=col>GDP_2019</th><th scope=col>POP_1994</th><th scope=col>POP_2019</th></tr>\n",
              "\t<tr><th scope=col>&lt;chr&gt;</th><th scope=col>&lt;dbl&gt;</th><th scope=col>&lt;dbl&gt;</th><th scope=col>&lt;dbl&gt;</th><th scope=col>&lt;dbl&gt;</th></tr>\n",
              "</thead>\n",
              "<tbody>\n",
              "\t<tr><td>Afghanistan        </td><td>          NA</td><td> 21739593382</td><td>17075727</td><td>38041754</td></tr>\n",
              "\t<tr><td>Albania            </td><td>  4791372056</td><td> 14868516511</td><td> 3207536</td><td> 2854191</td></tr>\n",
              "\t<tr><td>Algeria            </td><td> 89791622831</td><td>202805017529</td><td>28213774</td><td>43053054</td></tr>\n",
              "\t<tr><td>American Samoa     </td><td>          NA</td><td>          NA</td><td>   52095</td><td>   55312</td></tr>\n",
              "\t<tr><td>Andorra            </td><td>  2024227689</td><td>  3539838261</td><td>   62677</td><td>   77142</td></tr>\n",
              "\t<tr><td>Angola             </td><td> 23311735184</td><td> 98769677172</td><td>13503747</td><td>31825295</td></tr>\n",
              "\t<tr><td>Antigua and Barbuda</td><td>   804286308</td><td>  1525046720</td><td>   67204</td><td>   97118</td></tr>\n",
              "\t<tr><td>Argentina          </td><td>274830720367</td><td>437215091207</td><td>34402672</td><td>44938712</td></tr>\n",
              "\t<tr><td>Armenia            </td><td>  3137842747</td><td> 13996188673</td><td> 3283667</td><td> 2957731</td></tr>\n",
              "\t<tr><td>Aruba              </td><td>  2091786180</td><td>          NA</td><td>   76700</td><td>  106314</td></tr>\n",
              "</tbody>\n",
              "</table>\n"
            ],
            "text/markdown": "\nA tibble: 10 × 5\n\n| Country &lt;chr&gt; | GDP_1994 &lt;dbl&gt; | GDP_2019 &lt;dbl&gt; | POP_1994 &lt;dbl&gt; | POP_2019 &lt;dbl&gt; |\n|---|---|---|---|---|\n| Afghanistan         |           NA |  21739593382 | 17075727 | 38041754 |\n| Albania             |   4791372056 |  14868516511 |  3207536 |  2854191 |\n| Algeria             |  89791622831 | 202805017529 | 28213774 | 43053054 |\n| American Samoa      |           NA |           NA |    52095 |    55312 |\n| Andorra             |   2024227689 |   3539838261 |    62677 |    77142 |\n| Angola              |  23311735184 |  98769677172 | 13503747 | 31825295 |\n| Antigua and Barbuda |    804286308 |   1525046720 |    67204 |    97118 |\n| Argentina           | 274830720367 | 437215091207 | 34402672 | 44938712 |\n| Armenia             |   3137842747 |  13996188673 |  3283667 |  2957731 |\n| Aruba               |   2091786180 |           NA |    76700 |   106314 |\n\n",
            "text/latex": "A tibble: 10 × 5\n\\begin{tabular}{lllll}\n Country & GDP\\_1994 & GDP\\_2019 & POP\\_1994 & POP\\_2019\\\\\n <chr> & <dbl> & <dbl> & <dbl> & <dbl>\\\\\n\\hline\n\t Afghanistan         &           NA &  21739593382 & 17075727 & 38041754\\\\\n\t Albania             &   4791372056 &  14868516511 &  3207536 &  2854191\\\\\n\t Algeria             &  89791622831 & 202805017529 & 28213774 & 43053054\\\\\n\t American Samoa      &           NA &           NA &    52095 &    55312\\\\\n\t Andorra             &   2024227689 &   3539838261 &    62677 &    77142\\\\\n\t Angola              &  23311735184 &  98769677172 & 13503747 & 31825295\\\\\n\t Antigua and Barbuda &    804286308 &   1525046720 &    67204 &    97118\\\\\n\t Argentina           & 274830720367 & 437215091207 & 34402672 & 44938712\\\\\n\t Armenia             &   3137842747 &  13996188673 &  3283667 &  2957731\\\\\n\t Aruba               &   2091786180 &           NA &    76700 &   106314\\\\\n\\end{tabular}\n",
            "text/plain": [
              "   Country             GDP_1994     GDP_2019     POP_1994 POP_2019\n",
              "1  Afghanistan                   NA  21739593382 17075727 38041754\n",
              "2  Albania               4791372056  14868516511  3207536  2854191\n",
              "3  Algeria              89791622831 202805017529 28213774 43053054\n",
              "4  American Samoa                NA           NA    52095    55312\n",
              "5  Andorra               2024227689   3539838261    62677    77142\n",
              "6  Angola               23311735184  98769677172 13503747 31825295\n",
              "7  Antigua and Barbuda    804286308   1525046720    67204    97118\n",
              "8  Argentina           274830720367 437215091207 34402672 44938712\n",
              "9  Armenia               3137842747  13996188673  3283667  2957731\n",
              "10 Aruba                 2091786180           NA    76700   106314"
            ]
          },
          "metadata": {}
        }
      ],
      "source": [
        "head(wdi, 10)"
      ]
    },
    {
      "cell_type": "markdown",
      "metadata": {
        "id": "HqYhDWXIitKN"
      },
      "source": [
        "### 1. Summarize the data:\n",
        "\n",
        "Note: for those new to R and coding, it may be helpful to revisit the R summer training available on Canvas.\n",
        "\n",
        "**a. Use the `summary` command to get a quick idea of the distribution and range of the variables in `wdi`.**"
      ],
      "id": "HqYhDWXIitKN"
    },
    {
      "cell_type": "code",
      "execution_count": null,
      "id": "6bf00fca-0bd7-4ea2-9ece-6bb50bb43b42",
      "metadata": {
        "id": "6bf00fca-0bd7-4ea2-9ece-6bb50bb43b42",
        "colab": {
          "base_uri": "https://localhost:8080/",
          "height": 303
        },
        "outputId": "637c2c9a-45fb-498d-c92e-f461fb6722d1"
      },
      "outputs": [
        {
          "output_type": "display_data",
          "data": {
            "text/plain": [
              "   Country             GDP_1994            GDP_2019            POP_1994        \n",
              " Length:217         Min.   :2.622e+07   Min.   :4.592e+07   Min.   :9.252e+03  \n",
              " Class :character   1st Qu.:3.286e+09   1st Qu.:1.174e+10   1st Qu.:5.195e+05  \n",
              " Mode  :character   Median :1.289e+10   Median :3.978e+10   Median :4.666e+06  \n",
              "                    Mean   :2.259e+11   Mean   :4.659e+11   Mean   :2.605e+07  \n",
              "                    3rd Qu.:1.016e+11   3rd Qu.:2.481e+11   3rd Qu.:1.462e+07  \n",
              "                    Max.   :9.950e+12   Max.   :1.827e+13   Max.   :1.192e+09  \n",
              "                    NA's   :38          NA's   :39          NA's   :2          \n",
              "    POP_2019        \n",
              " Min.   :1.165e+04  \n",
              " 1st Qu.:7.778e+05  \n",
              " Median :6.661e+06  \n",
              " Mean   :3.540e+07  \n",
              " 3rd Qu.:2.544e+07  \n",
              " Max.   :1.398e+09  \n",
              " NA's   :1          "
            ]
          },
          "metadata": {}
        }
      ],
      "source": [
        "# Your answer here!\n",
        "\n",
        "#START\n",
        "summary(wdi)\n",
        "#END"
      ]
    },
    {
      "cell_type": "markdown",
      "metadata": {
        "id": "BNDc0rgSiwum"
      },
      "source": [
        "**b. From this summary output, what is the mean GDP in 2019? How many countries have missing data for 1994 population?**"
      ],
      "id": "BNDc0rgSiwum"
    },
    {
      "cell_type": "markdown",
      "source": [
        "Edit this cell to provide your answer!\n",
        "\n",
        "# START\n",
        "mean GDP in 2019 is $466 billion\n",
        "\n",
        "2 countries have missing population data in 1994\n",
        "#END"
      ],
      "metadata": {
        "id": "1_KTuXvgHdCc"
      },
      "id": "1_KTuXvgHdCc"
    },
    {
      "cell_type": "markdown",
      "metadata": {
        "id": "ImH-2uknsLtE"
      },
      "source": [
        "**c. Calculate and report total world GDP and world population in 2019 using the `sum()` function. Add the argument `na.rm = TRUE` to remove missing values.**\n",
        "\n",
        "_Hints:_\n",
        "\n",
        "* Recall that `sum()` takes a numerical vector as its first argument. You can extract a column from a data frame using `$` (e.g., `dataset$var1` will reference the `var1` column of your data frame `dataset`).\n",
        "* You can add an argument by putting a comma and the argument in parentheses (e.g., `fun(input, arg)` includes argument `arg` to function `fun(input)`)."
      ],
      "id": "ImH-2uknsLtE"
    },
    {
      "cell_type": "code",
      "source": [
        "# Your answer here!\n",
        "\n",
        "#START\n",
        "sum(wdi$GDP_2019, na.rm = TRUE)\n",
        "sum(wdi$POP_2019, na.rm = TRUE)\n",
        "#END"
      ],
      "metadata": {
        "id": "B3-2dq1LuVvn",
        "colab": {
          "base_uri": "https://localhost:8080/",
          "height": 52
        },
        "outputId": "1599edee-5d78-407f-a43b-06e8ebad9727"
      },
      "id": "B3-2dq1LuVvn",
      "execution_count": null,
      "outputs": [
        {
          "output_type": "display_data",
          "data": {
            "text/html": [
              "82933506398346.5"
            ],
            "text/markdown": "82933506398346.5",
            "text/latex": "82933506398346.5",
            "text/plain": [
              "[1] 8.293351e+13"
            ]
          },
          "metadata": {}
        },
        {
          "output_type": "display_data",
          "data": {
            "text/html": [
              "7646445824"
            ],
            "text/markdown": "7646445824",
            "text/latex": "7646445824",
            "text/plain": [
              "[1] 7646445824"
            ]
          },
          "metadata": {}
        }
      ]
    },
    {
      "cell_type": "markdown",
      "metadata": {
        "id": "OAngkCsauwK-"
      },
      "source": [
        "As part of the [tidyverse](https://tidyverse.org/) package, `dplyr`'s pipe symbol `%>%` is used to perform sequential operations on a dataset. For example, below we display the GDP of Brazil in 1994 and 2019.\n"
      ],
      "id": "OAngkCsauwK-"
    },
    {
      "cell_type": "code",
      "source": [
        "# Run this cell\n",
        "\n",
        "wdi %>%\n",
        "  filter(Country=='Brazil') %>%\n",
        "  select(GDP_1994, GDP_2019)"
      ],
      "metadata": {
        "colab": {
          "base_uri": "https://localhost:8080/",
          "height": 129
        },
        "id": "7ihpDw_5vrFk",
        "outputId": "d3994a19-f426-4355-817d-ec4dfd1d2352"
      },
      "id": "7ihpDw_5vrFk",
      "execution_count": null,
      "outputs": [
        {
          "output_type": "display_data",
          "data": {
            "text/html": [
              "<table class=\"dataframe\">\n",
              "<caption>A tibble: 1 × 2</caption>\n",
              "<thead>\n",
              "\t<tr><th scope=col>GDP_1994</th><th scope=col>GDP_2019</th></tr>\n",
              "\t<tr><th scope=col>&lt;dbl&gt;</th><th scope=col>&lt;dbl&gt;</th></tr>\n",
              "</thead>\n",
              "<tbody>\n",
              "\t<tr><td>1.325135e+12</td><td>2.347238e+12</td></tr>\n",
              "</tbody>\n",
              "</table>\n"
            ],
            "text/markdown": "\nA tibble: 1 × 2\n\n| GDP_1994 &lt;dbl&gt; | GDP_2019 &lt;dbl&gt; |\n|---|---|\n| 1.325135e+12 | 2.347238e+12 |\n\n",
            "text/latex": "A tibble: 1 × 2\n\\begin{tabular}{ll}\n GDP\\_1994 & GDP\\_2019\\\\\n <dbl> & <dbl>\\\\\n\\hline\n\t 1.325135e+12 & 2.347238e+12\\\\\n\\end{tabular}\n",
            "text/plain": [
              "  GDP_1994     GDP_2019    \n",
              "1 1.325135e+12 2.347238e+12"
            ]
          },
          "metadata": {}
        }
      ]
    },
    {
      "cell_type": "code",
      "source": [
        "# You can also save output as an object for future use\n",
        "\n",
        "brazil_gdp <- wdi %>%\n",
        "  filter(Country=='Brazil') %>%\n",
        "  select(GDP_1994, GDP_2019)\n",
        "\n",
        "brazil_gdp"
      ],
      "metadata": {
        "id": "SAsFiC910ZR5",
        "colab": {
          "base_uri": "https://localhost:8080/",
          "height": 129
        },
        "outputId": "f60dc8b6-e84c-47ee-edcf-659fde586bbd"
      },
      "id": "SAsFiC910ZR5",
      "execution_count": null,
      "outputs": [
        {
          "output_type": "display_data",
          "data": {
            "text/html": [
              "<table class=\"dataframe\">\n",
              "<caption>A tibble: 1 × 2</caption>\n",
              "<thead>\n",
              "\t<tr><th scope=col>GDP_1994</th><th scope=col>GDP_2019</th></tr>\n",
              "\t<tr><th scope=col>&lt;dbl&gt;</th><th scope=col>&lt;dbl&gt;</th></tr>\n",
              "</thead>\n",
              "<tbody>\n",
              "\t<tr><td>1.325135e+12</td><td>2.347238e+12</td></tr>\n",
              "</tbody>\n",
              "</table>\n"
            ],
            "text/markdown": "\nA tibble: 1 × 2\n\n| GDP_1994 &lt;dbl&gt; | GDP_2019 &lt;dbl&gt; |\n|---|---|\n| 1.325135e+12 | 2.347238e+12 |\n\n",
            "text/latex": "A tibble: 1 × 2\n\\begin{tabular}{ll}\n GDP\\_1994 & GDP\\_2019\\\\\n <dbl> & <dbl>\\\\\n\\hline\n\t 1.325135e+12 & 2.347238e+12\\\\\n\\end{tabular}\n",
            "text/plain": [
              "  GDP_1994     GDP_2019    \n",
              "1 1.325135e+12 2.347238e+12"
            ]
          },
          "metadata": {}
        }
      ]
    },
    {
      "cell_type": "markdown",
      "id": "b6ffe349-e238-460e-bd38-4ed9557ee73e",
      "metadata": {
        "id": "b6ffe349-e238-460e-bd38-4ed9557ee73e"
      },
      "source": [
        "**d. Now identify the five countries with the largest populations in 2019 and their respective populations in 2019 using `head()` and the tidyverse function `arrange()`.**\n",
        "\n",
        "_Hints:_\n",
        "* Use pipes `%>%` to perform multiple sequential operations on the `wdi` dataset.\n",
        "* `arrange(data, desc(x))` sorts data in descending order of `x` rather than ascending order.\n",
        "* `head(data, n)` returns just the first `n` rows of data.\n",
        "* Make sure to use `head()` and `arrange()` in the correct order, otherwise you'll order only the first 5 countries in the dataset.\n"
      ]
    },
    {
      "cell_type": "code",
      "execution_count": null,
      "id": "fc73769d-39ff-4415-b038-5e837d5017ac",
      "metadata": {
        "id": "fc73769d-39ff-4415-b038-5e837d5017ac",
        "colab": {
          "base_uri": "https://localhost:8080/",
          "height": 255
        },
        "outputId": "682b556c-bff8-46e4-a445-6d2126d9f82c"
      },
      "outputs": [
        {
          "output_type": "display_data",
          "data": {
            "text/html": [
              "<table class=\"dataframe\">\n",
              "<caption>A tibble: 5 × 2</caption>\n",
              "<thead>\n",
              "\t<tr><th scope=col>Country</th><th scope=col>POP_2019</th></tr>\n",
              "\t<tr><th scope=col>&lt;chr&gt;</th><th scope=col>&lt;dbl&gt;</th></tr>\n",
              "</thead>\n",
              "<tbody>\n",
              "\t<tr><td>China        </td><td>1397715000</td></tr>\n",
              "\t<tr><td>India        </td><td>1366417754</td></tr>\n",
              "\t<tr><td>United States</td><td> 328239523</td></tr>\n",
              "\t<tr><td>Indonesia    </td><td> 270625568</td></tr>\n",
              "\t<tr><td>Pakistan     </td><td> 216565318</td></tr>\n",
              "</tbody>\n",
              "</table>\n"
            ],
            "text/markdown": "\nA tibble: 5 × 2\n\n| Country &lt;chr&gt; | POP_2019 &lt;dbl&gt; |\n|---|---|\n| China         | 1397715000 |\n| India         | 1366417754 |\n| United States |  328239523 |\n| Indonesia     |  270625568 |\n| Pakistan      |  216565318 |\n\n",
            "text/latex": "A tibble: 5 × 2\n\\begin{tabular}{ll}\n Country & POP\\_2019\\\\\n <chr> & <dbl>\\\\\n\\hline\n\t China         & 1397715000\\\\\n\t India         & 1366417754\\\\\n\t United States &  328239523\\\\\n\t Indonesia     &  270625568\\\\\n\t Pakistan      &  216565318\\\\\n\\end{tabular}\n",
            "text/plain": [
              "  Country       POP_2019  \n",
              "1 China         1397715000\n",
              "2 India         1366417754\n",
              "3 United States  328239523\n",
              "4 Indonesia      270625568\n",
              "5 Pakistan       216565318"
            ]
          },
          "metadata": {}
        }
      ],
      "source": [
        "# Your answer here!\n",
        "\n",
        "# START\n",
        "wdi %>%\n",
        "    arrange(desc(POP_2019)) %>%\n",
        "    select(Country, POP_2019) %>%\n",
        "    head(5)\n",
        "# END"
      ]
    },
    {
      "cell_type": "markdown",
      "id": "1a8d4b52-6081-4356-8da1-87f63c1074cd",
      "metadata": {
        "id": "1a8d4b52-6081-4356-8da1-87f63c1074cd"
      },
      "source": [
        "**e. Identify the five countries with the largest GDPs in 2019 and their respective GDPs in 2019.**"
      ]
    },
    {
      "cell_type": "code",
      "execution_count": null,
      "id": "bdd6bdc6-ff80-40f6-a4d0-b7129229f83c",
      "metadata": {
        "id": "bdd6bdc6-ff80-40f6-a4d0-b7129229f83c",
        "colab": {
          "base_uri": "https://localhost:8080/",
          "height": 255
        },
        "outputId": "dd6d0e5a-ab95-4f42-c581-26bc14f3b273"
      },
      "outputs": [
        {
          "output_type": "display_data",
          "data": {
            "text/html": [
              "<table class=\"dataframe\">\n",
              "<caption>A tibble: 5 × 2</caption>\n",
              "<thead>\n",
              "\t<tr><th scope=col>Country</th><th scope=col>GDP_2019</th></tr>\n",
              "\t<tr><th scope=col>&lt;chr&gt;</th><th scope=col>&lt;dbl&gt;</th></tr>\n",
              "</thead>\n",
              "<tbody>\n",
              "\t<tr><td>United States</td><td>1.827317e+13</td></tr>\n",
              "\t<tr><td>China        </td><td>1.153716e+13</td></tr>\n",
              "\t<tr><td>Japan        </td><td>6.210698e+12</td></tr>\n",
              "\t<tr><td>Germany      </td><td>3.959451e+12</td></tr>\n",
              "\t<tr><td>France       </td><td>2.971919e+12</td></tr>\n",
              "</tbody>\n",
              "</table>\n"
            ],
            "text/markdown": "\nA tibble: 5 × 2\n\n| Country &lt;chr&gt; | GDP_2019 &lt;dbl&gt; |\n|---|---|\n| United States | 1.827317e+13 |\n| China         | 1.153716e+13 |\n| Japan         | 6.210698e+12 |\n| Germany       | 3.959451e+12 |\n| France        | 2.971919e+12 |\n\n",
            "text/latex": "A tibble: 5 × 2\n\\begin{tabular}{ll}\n Country & GDP\\_2019\\\\\n <chr> & <dbl>\\\\\n\\hline\n\t United States & 1.827317e+13\\\\\n\t China         & 1.153716e+13\\\\\n\t Japan         & 6.210698e+12\\\\\n\t Germany       & 3.959451e+12\\\\\n\t France        & 2.971919e+12\\\\\n\\end{tabular}\n",
            "text/plain": [
              "  Country       GDP_2019    \n",
              "1 United States 1.827317e+13\n",
              "2 China         1.153716e+13\n",
              "3 Japan         6.210698e+12\n",
              "4 Germany       3.959451e+12\n",
              "5 France        2.971919e+12"
            ]
          },
          "metadata": {}
        }
      ],
      "source": [
        "# Your answer here!\n",
        "\n",
        "# START\n",
        "wdi %>%\n",
        "    arrange(desc(GDP_2019)) %>%\n",
        "    select(Country, GDP_2019) %>%\n",
        "    head(5)\n",
        "# END"
      ]
    },
    {
      "cell_type": "markdown",
      "id": "e4f24eaf-c59b-4ec1-86d7-9c5f2ed2edc4",
      "metadata": {
        "id": "e4f24eaf-c59b-4ec1-86d7-9c5f2ed2edc4"
      },
      "source": [
        "### 2. Manipulate the data:\n",
        "\n",
        "Calculate GDP per capita for each country in the database in both 1994 and 2019 by creating a new dataset called `wdi_percap` that includes two new columns called `gdp_percap_1994` and `gdp_percap_2019`, respectively.\n",
        "\n",
        "_HINT:_ Use `mutate()` to create the new columns.\n",
        "\n",
        "**a. What is the simple average (`mean`) of the country-level GDP per capita values in 1994 and 2019?**\n",
        "\n",
        "_HINT:_ You can remove missing values with `mean()` or `median()` just like with `sum()` using `na.rm=TRUE`"
      ]
    },
    {
      "cell_type": "code",
      "execution_count": null,
      "id": "eecde925-5512-4833-af43-5f153f9c2f10",
      "metadata": {
        "id": "eecde925-5512-4833-af43-5f153f9c2f10",
        "colab": {
          "base_uri": "https://localhost:8080/",
          "height": 52
        },
        "outputId": "caff343b-8829-4b2a-e81f-340ac5a2d876"
      },
      "outputs": [
        {
          "output_type": "display_data",
          "data": {
            "text/html": [
              "10734.5971292858"
            ],
            "text/markdown": "10734.5971292858",
            "text/latex": "10734.5971292858",
            "text/plain": [
              "[1] 10734.6"
            ]
          },
          "metadata": {}
        },
        {
          "output_type": "display_data",
          "data": {
            "text/html": [
              "14867.7452022078"
            ],
            "text/markdown": "14867.7452022078",
            "text/latex": "14867.7452022078",
            "text/plain": [
              "[1] 14867.75"
            ]
          },
          "metadata": {}
        }
      ],
      "source": [
        "# Your answer here!\n",
        "\n",
        "# START\n",
        "wdi_percap <- wdi %>%\n",
        "    mutate(gdp_percap_1994 = GDP_1994 / POP_1994,\n",
        "           gdp_percap_2019 = GDP_2019 / POP_2019)\n",
        "\n",
        "mean(wdi_percap$gdp_percap_1994, na.rm = TRUE)\n",
        "mean(wdi_percap$gdp_percap_2019, na.rm = TRUE)\n",
        "# END"
      ]
    },
    {
      "cell_type": "markdown",
      "id": "28ccdf36-0195-4f8f-bc45-501d229f9386",
      "metadata": {
        "id": "28ccdf36-0195-4f8f-bc45-501d229f9386"
      },
      "source": [
        "**b. What is the median country-level GDP per capita in 1994 and 2019?**"
      ]
    },
    {
      "cell_type": "code",
      "execution_count": null,
      "id": "8d5c0e8d-6352-4b0a-97ce-d895aebea3e7",
      "metadata": {
        "id": "8d5c0e8d-6352-4b0a-97ce-d895aebea3e7",
        "colab": {
          "base_uri": "https://localhost:8080/",
          "height": 52
        },
        "outputId": "a5f65d9f-1ce4-4e7c-9c21-8f880c4c46a6"
      },
      "outputs": [
        {
          "output_type": "display_data",
          "data": {
            "text/html": [
              "3089.98047420982"
            ],
            "text/markdown": "3089.98047420982",
            "text/latex": "3089.98047420982",
            "text/plain": [
              "[1] 3089.98"
            ]
          },
          "metadata": {}
        },
        {
          "output_type": "display_data",
          "data": {
            "text/html": [
              "6058.01283259468"
            ],
            "text/markdown": "6058.01283259468",
            "text/latex": "6058.01283259468",
            "text/plain": [
              "[1] 6058.013"
            ]
          },
          "metadata": {}
        }
      ],
      "source": [
        "# Your answer here!\n",
        "\n",
        "# START\n",
        "median(wdi_percap$gdp_percap_1994, na.rm = TRUE)\n",
        "median(wdi_percap$gdp_percap_2019, na.rm = TRUE)\n",
        "# END"
      ]
    },
    {
      "cell_type": "markdown",
      "id": "6edd0db0-c45c-4944-8546-af498ebb7140",
      "metadata": {
        "id": "6edd0db0-c45c-4944-8546-af498ebb7140"
      },
      "source": [
        "**c. What drives the differences between (a) and (b)?**"
      ]
    },
    {
      "cell_type": "markdown",
      "id": "caafb8d6-f2a3-45cf-8e27-560bb7f23b10",
      "metadata": {
        "id": "caafb8d6-f2a3-45cf-8e27-560bb7f23b10"
      },
      "source": [
        "Edit this cell to provide your answer!\n",
        "\n",
        "# START\n",
        "\n",
        "While half of countries have GDP per capita below $6,058, the presence of a number of countries with much higher GDP per capita substantially increases the mean while not impacting the median.\n",
        "\n",
        "#END\n",
        "\n"
      ]
    },
    {
      "cell_type": "markdown",
      "id": "1a8520f1-0c38-464a-a318-472e8606de17",
      "metadata": {
        "id": "1a8520f1-0c38-464a-a318-472e8606de17"
      },
      "source": [
        "**d. Using data on 2019, what is the total population of all countries with GDP per capita below the world mean calculated in part (a)?  What fraction of the total world population does this number represent?**\n",
        "\n",
        "There are many possible ways to solve this question, so consider the following outline as one possible way to solve the problem, but not the only solution!\n",
        "1. Start by saving the mean per capita GDP to a variable\n",
        "1. Create a new dataset that only contains country information for those countries below the mean.\n",
        "1. Compute the total population for this subset of countries, as well as for the full set of countries, saving the results in new variables.\n",
        "1. Compute the requested fraction."
      ]
    },
    {
      "cell_type": "code",
      "source": [
        "# Your answer here!\n",
        "\n",
        "# START\n",
        "mean_gdp <- mean(wdi_percap$gdp_percap_2019, na.rm = TRUE)\n",
        "\n",
        "below_mean <- wdi_percap %>%\n",
        "  filter(gdp_percap_2019 < mean_gdp)\n",
        "\n",
        "pop_below_mean <- sum(below_mean$POP_2019, na.rm = TRUE)\n",
        "pop_total <- sum(wdi$POP_2019, na.rm = TRUE)\n",
        "share_below <- pop_below_mean / pop_total\n",
        "\n",
        "pop_below_mean\n",
        "share_below\n",
        "# END"
      ],
      "metadata": {
        "colab": {
          "base_uri": "https://localhost:8080/",
          "height": 52
        },
        "id": "1Tp9reufKpdR",
        "outputId": "9088d853-9117-4190-b776-8a91f7e289eb"
      },
      "id": "1Tp9reufKpdR",
      "execution_count": null,
      "outputs": [
        {
          "output_type": "display_data",
          "data": {
            "text/html": [
              "6145234509"
            ],
            "text/markdown": "6145234509",
            "text/latex": "6145234509",
            "text/plain": [
              "[1] 6145234509"
            ]
          },
          "metadata": {}
        },
        {
          "output_type": "display_data",
          "data": {
            "text/html": [
              "0.803672013173999"
            ],
            "text/markdown": "0.803672013173999",
            "text/latex": "0.803672013173999",
            "text/plain": [
              "[1] 0.803672"
            ]
          },
          "metadata": {}
        }
      ]
    },
    {
      "cell_type": "markdown",
      "id": "7e512987-c1c0-4308-9523-8ad6d2a311d1",
      "metadata": {
        "id": "7e512987-c1c0-4308-9523-8ad6d2a311d1"
      },
      "source": [
        "**e. What is your answer to (d) telling you in terms of how appropriate mean world GDP per capita is in characterizing the economic well-being of the average person in the world? [2-3 sentences]**"
      ]
    },
    {
      "cell_type": "markdown",
      "id": "036f660d-52e1-426d-8c2e-c62f23123617",
      "metadata": {
        "id": "036f660d-52e1-426d-8c2e-c62f23123617"
      },
      "source": [
        "Edit this cell to provide your answer!\n",
        "\n",
        "# START\n",
        "\n",
        "From (d), over 80% of the world's population lives in countries with GDP per capita below mean GDP per capita. Therefore, the global mean GDP likely over-estimates the average person's well-being.\n",
        "\n",
        "# END"
      ]
    },
    {
      "cell_type": "markdown",
      "id": "edac92b0-d49a-4874-81c4-f09c658a8c9b",
      "metadata": {
        "id": "edac92b0-d49a-4874-81c4-f09c658a8c9b"
      },
      "source": [
        "Missing data is, unfortunately, a fact of life, and we face it here.  While we cannot necessarily fix the problem of missing data, it is important to consider its effects.\n",
        "\n",
        "**f. Use the `is.na` function to determine the number of countries for which the WDI database does not have a 2019 GDP figure.**\n",
        "\n",
        "_HINT:_ The function `is.na()` returns `TRUE` for missing values and `FALSE` otherwise. You can calculate the total number of missing values in a vector `x` using `sum(is.na(x))`."
      ]
    },
    {
      "cell_type": "code",
      "execution_count": null,
      "id": "195986a1-ccde-4b7e-b684-4374ea576ed1",
      "metadata": {
        "id": "195986a1-ccde-4b7e-b684-4374ea576ed1",
        "colab": {
          "base_uri": "https://localhost:8080/",
          "height": 34
        },
        "outputId": "6c582ea3-d739-49ca-a2c3-5b67cf8ec722"
      },
      "outputs": [
        {
          "output_type": "display_data",
          "data": {
            "text/html": [
              "39"
            ],
            "text/markdown": "39",
            "text/latex": "39",
            "text/plain": [
              "[1] 39"
            ]
          },
          "metadata": {}
        }
      ],
      "source": [
        "# Your answer here!\n",
        "\n",
        "# START\n",
        "sum(is.na(wdi$GDP_2019))\n",
        "# END"
      ]
    },
    {
      "cell_type": "markdown",
      "id": "3e017066-cfd9-4c71-9da4-b36b05932da3",
      "metadata": {
        "id": "3e017066-cfd9-4c71-9da4-b36b05932da3"
      },
      "source": [
        "### 3. Merging data\n",
        "\n",
        "We now call in two more datasets from `csv` files:   `co2`, which includes information on country CO2 emissions (metric tons), and `continent` which includes the continent of each country."
      ]
    },
    {
      "cell_type": "code",
      "execution_count": null,
      "id": "42443974-abae-4ef3-a91c-ac5cb7c0692b",
      "metadata": {
        "id": "42443974-abae-4ef3-a91c-ac5cb7c0692b",
        "colab": {
          "base_uri": "https://localhost:8080/"
        },
        "outputId": "8583a1b9-fce5-4d1a-882f-e5cbbf3a9ec4"
      },
      "outputs": [
        {
          "output_type": "stream",
          "name": "stderr",
          "text": [
            "\u001b[1mRows: \u001b[22m\u001b[34m209\u001b[39m \u001b[1mColumns: \u001b[22m\u001b[34m2\u001b[39m\n",
            "\u001b[36m──\u001b[39m \u001b[1mColumn specification\u001b[22m \u001b[36m────────────────────────────────────────────────────────\u001b[39m\n",
            "\u001b[1mDelimiter:\u001b[22m \",\"\n",
            "\u001b[31mchr\u001b[39m (1): Country\n",
            "\u001b[32mdbl\u001b[39m (1): CO2_2016\n",
            "\n",
            "\u001b[36mℹ\u001b[39m Use `spec()` to retrieve the full column specification for this data.\n",
            "\u001b[36mℹ\u001b[39m Specify the column types or set `show_col_types = FALSE` to quiet this message.\n",
            "\u001b[1mRows: \u001b[22m\u001b[34m191\u001b[39m \u001b[1mColumns: \u001b[22m\u001b[34m2\u001b[39m\n",
            "\u001b[36m──\u001b[39m \u001b[1mColumn specification\u001b[22m \u001b[36m────────────────────────────────────────────────────────\u001b[39m\n",
            "\u001b[1mDelimiter:\u001b[22m \",\"\n",
            "\u001b[31mchr\u001b[39m (2): Country, Continent\n",
            "\n",
            "\u001b[36mℹ\u001b[39m Use `spec()` to retrieve the full column specification for this data.\n",
            "\u001b[36mℹ\u001b[39m Specify the column types or set `show_col_types = FALSE` to quiet this message.\n"
          ]
        }
      ],
      "source": [
        "# Run this cell\n",
        "co2 <- read_csv(\"https://5harad.com/datasets/API201/country_co2.csv\")\n",
        "continent <- read_csv(\"https://5harad.com/datasets/API201/country_continent.csv\")"
      ]
    },
    {
      "cell_type": "markdown",
      "source": [
        "Preview the first few observations of each dataset."
      ],
      "metadata": {
        "id": "Bu3XmxxU12Ny"
      },
      "id": "Bu3XmxxU12Ny"
    },
    {
      "cell_type": "code",
      "source": [
        "# Run this cell\n",
        "\n",
        "# START\n",
        "head(co2, 10)\n",
        "head(continent, 10)\n",
        "# END"
      ],
      "metadata": {
        "id": "lS4GtIIfFRCc",
        "colab": {
          "base_uri": "https://localhost:8080/",
          "height": 806
        },
        "outputId": "366273f4-2303-4625-ac30-a16add3a777f"
      },
      "id": "lS4GtIIfFRCc",
      "execution_count": null,
      "outputs": [
        {
          "output_type": "display_data",
          "data": {
            "text/html": [
              "<table class=\"dataframe\">\n",
              "<caption>A tibble: 10 × 2</caption>\n",
              "<thead>\n",
              "\t<tr><th scope=col>Country</th><th scope=col>CO2_2016</th></tr>\n",
              "\t<tr><th scope=col>&lt;chr&gt;</th><th scope=col>&lt;dbl&gt;</th></tr>\n",
              "</thead>\n",
              "<tbody>\n",
              "\t<tr><td>Afghanistan        </td><td>  9900004</td></tr>\n",
              "\t<tr><td>Albania            </td><td>  5208319</td></tr>\n",
              "\t<tr><td>Algeria            </td><td>156220560</td></tr>\n",
              "\t<tr><td>Angola             </td><td> 30566933</td></tr>\n",
              "\t<tr><td>Anguilla           </td><td>    30262</td></tr>\n",
              "\t<tr><td>Antigua and Barbuda</td><td>   438763</td></tr>\n",
              "\t<tr><td>Argentina          </td><td>200708270</td></tr>\n",
              "\t<tr><td>Armenia            </td><td>  4597845</td></tr>\n",
              "\t<tr><td>Aruba              </td><td>   286871</td></tr>\n",
              "\t<tr><td>Australia          </td><td>414988700</td></tr>\n",
              "</tbody>\n",
              "</table>\n"
            ],
            "text/markdown": "\nA tibble: 10 × 2\n\n| Country &lt;chr&gt; | CO2_2016 &lt;dbl&gt; |\n|---|---|\n| Afghanistan         |   9900004 |\n| Albania             |   5208319 |\n| Algeria             | 156220560 |\n| Angola              |  30566933 |\n| Anguilla            |     30262 |\n| Antigua and Barbuda |    438763 |\n| Argentina           | 200708270 |\n| Armenia             |   4597845 |\n| Aruba               |    286871 |\n| Australia           | 414988700 |\n\n",
            "text/latex": "A tibble: 10 × 2\n\\begin{tabular}{ll}\n Country & CO2\\_2016\\\\\n <chr> & <dbl>\\\\\n\\hline\n\t Afghanistan         &   9900004\\\\\n\t Albania             &   5208319\\\\\n\t Algeria             & 156220560\\\\\n\t Angola              &  30566933\\\\\n\t Anguilla            &     30262\\\\\n\t Antigua and Barbuda &    438763\\\\\n\t Argentina           & 200708270\\\\\n\t Armenia             &   4597845\\\\\n\t Aruba               &    286871\\\\\n\t Australia           & 414988700\\\\\n\\end{tabular}\n",
            "text/plain": [
              "   Country             CO2_2016 \n",
              "1  Afghanistan           9900004\n",
              "2  Albania               5208319\n",
              "3  Algeria             156220560\n",
              "4  Angola               30566933\n",
              "5  Anguilla                30262\n",
              "6  Antigua and Barbuda    438763\n",
              "7  Argentina           200708270\n",
              "8  Armenia               4597845\n",
              "9  Aruba                  286871\n",
              "10 Australia           414988700"
            ]
          },
          "metadata": {}
        },
        {
          "output_type": "display_data",
          "data": {
            "text/html": [
              "<table class=\"dataframe\">\n",
              "<caption>A tibble: 10 × 2</caption>\n",
              "<thead>\n",
              "\t<tr><th scope=col>Country</th><th scope=col>Continent</th></tr>\n",
              "\t<tr><th scope=col>&lt;chr&gt;</th><th scope=col>&lt;chr&gt;</th></tr>\n",
              "</thead>\n",
              "<tbody>\n",
              "\t<tr><td>Afghanistan        </td><td>Asia         </td></tr>\n",
              "\t<tr><td>Albania            </td><td>Europe       </td></tr>\n",
              "\t<tr><td>Algeria            </td><td>Africa       </td></tr>\n",
              "\t<tr><td>Angola             </td><td>Africa       </td></tr>\n",
              "\t<tr><td>Antigua and Barbuda</td><td>North America</td></tr>\n",
              "\t<tr><td>Argentina          </td><td>South America</td></tr>\n",
              "\t<tr><td>Armenia            </td><td>Asia         </td></tr>\n",
              "\t<tr><td>Australia          </td><td>Oceania      </td></tr>\n",
              "\t<tr><td>Austria            </td><td>Europe       </td></tr>\n",
              "\t<tr><td>Azerbaijan         </td><td>Asia         </td></tr>\n",
              "</tbody>\n",
              "</table>\n"
            ],
            "text/markdown": "\nA tibble: 10 × 2\n\n| Country &lt;chr&gt; | Continent &lt;chr&gt; |\n|---|---|\n| Afghanistan         | Asia          |\n| Albania             | Europe        |\n| Algeria             | Africa        |\n| Angola              | Africa        |\n| Antigua and Barbuda | North America |\n| Argentina           | South America |\n| Armenia             | Asia          |\n| Australia           | Oceania       |\n| Austria             | Europe        |\n| Azerbaijan          | Asia          |\n\n",
            "text/latex": "A tibble: 10 × 2\n\\begin{tabular}{ll}\n Country & Continent\\\\\n <chr> & <chr>\\\\\n\\hline\n\t Afghanistan         & Asia         \\\\\n\t Albania             & Europe       \\\\\n\t Algeria             & Africa       \\\\\n\t Angola              & Africa       \\\\\n\t Antigua and Barbuda & North America\\\\\n\t Argentina           & South America\\\\\n\t Armenia             & Asia         \\\\\n\t Australia           & Oceania      \\\\\n\t Austria             & Europe       \\\\\n\t Azerbaijan          & Asia         \\\\\n\\end{tabular}\n",
            "text/plain": [
              "   Country             Continent    \n",
              "1  Afghanistan         Asia         \n",
              "2  Albania             Europe       \n",
              "3  Algeria             Africa       \n",
              "4  Angola              Africa       \n",
              "5  Antigua and Barbuda North America\n",
              "6  Argentina           South America\n",
              "7  Armenia             Asia         \n",
              "8  Australia           Oceania      \n",
              "9  Austria             Europe       \n",
              "10 Azerbaijan          Asia         "
            ]
          },
          "metadata": {}
        }
      ]
    },
    {
      "cell_type": "markdown",
      "source": [
        "A `left_join` command can merge the new datasets with `wdi`. The join requires a common variable, which is `Country` in this case.\n",
        "\n",
        "Let's first do this for `co2`."
      ],
      "metadata": {
        "id": "42Rjh1H_FRxv"
      },
      "id": "42Rjh1H_FRxv"
    },
    {
      "cell_type": "code",
      "source": [
        "# Run this cell\n",
        "\n",
        "wdi_with_co2 <- left_join(wdi, co2, by = \"Country\")\n",
        "head(wdi_with_co2, 10)\n"
      ],
      "metadata": {
        "colab": {
          "base_uri": "https://localhost:8080/",
          "height": 412
        },
        "id": "JjukWvH52V9-",
        "outputId": "8d80fb20-d54b-446e-8434-6f9429d18b01"
      },
      "id": "JjukWvH52V9-",
      "execution_count": null,
      "outputs": [
        {
          "output_type": "display_data",
          "data": {
            "text/html": [
              "<table class=\"dataframe\">\n",
              "<caption>A tibble: 10 × 6</caption>\n",
              "<thead>\n",
              "\t<tr><th scope=col>Country</th><th scope=col>GDP_1994</th><th scope=col>GDP_2019</th><th scope=col>POP_1994</th><th scope=col>POP_2019</th><th scope=col>CO2_2016</th></tr>\n",
              "\t<tr><th scope=col>&lt;chr&gt;</th><th scope=col>&lt;dbl&gt;</th><th scope=col>&lt;dbl&gt;</th><th scope=col>&lt;dbl&gt;</th><th scope=col>&lt;dbl&gt;</th><th scope=col>&lt;dbl&gt;</th></tr>\n",
              "</thead>\n",
              "<tbody>\n",
              "\t<tr><td>Afghanistan        </td><td>          NA</td><td> 21739593382</td><td>17075727</td><td>38041754</td><td>  9900004</td></tr>\n",
              "\t<tr><td>Albania            </td><td>  4791372056</td><td> 14868516511</td><td> 3207536</td><td> 2854191</td><td>  5208319</td></tr>\n",
              "\t<tr><td>Algeria            </td><td> 89791622831</td><td>202805017529</td><td>28213774</td><td>43053054</td><td>156220560</td></tr>\n",
              "\t<tr><td>American Samoa     </td><td>          NA</td><td>          NA</td><td>   52095</td><td>   55312</td><td>       NA</td></tr>\n",
              "\t<tr><td>Andorra            </td><td>  2024227689</td><td>  3539838261</td><td>   62677</td><td>   77142</td><td>       NA</td></tr>\n",
              "\t<tr><td>Angola             </td><td> 23311735184</td><td> 98769677172</td><td>13503747</td><td>31825295</td><td> 30566933</td></tr>\n",
              "\t<tr><td>Antigua and Barbuda</td><td>   804286308</td><td>  1525046720</td><td>   67204</td><td>   97118</td><td>   438763</td></tr>\n",
              "\t<tr><td>Argentina          </td><td>274830720367</td><td>437215091207</td><td>34402672</td><td>44938712</td><td>200708270</td></tr>\n",
              "\t<tr><td>Armenia            </td><td>  3137842747</td><td> 13996188673</td><td> 3283667</td><td> 2957731</td><td>  4597845</td></tr>\n",
              "\t<tr><td>Aruba              </td><td>  2091786180</td><td>          NA</td><td>   76700</td><td>  106314</td><td>   286871</td></tr>\n",
              "</tbody>\n",
              "</table>\n"
            ],
            "text/markdown": "\nA tibble: 10 × 6\n\n| Country &lt;chr&gt; | GDP_1994 &lt;dbl&gt; | GDP_2019 &lt;dbl&gt; | POP_1994 &lt;dbl&gt; | POP_2019 &lt;dbl&gt; | CO2_2016 &lt;dbl&gt; |\n|---|---|---|---|---|---|\n| Afghanistan         |           NA |  21739593382 | 17075727 | 38041754 |   9900004 |\n| Albania             |   4791372056 |  14868516511 |  3207536 |  2854191 |   5208319 |\n| Algeria             |  89791622831 | 202805017529 | 28213774 | 43053054 | 156220560 |\n| American Samoa      |           NA |           NA |    52095 |    55312 |        NA |\n| Andorra             |   2024227689 |   3539838261 |    62677 |    77142 |        NA |\n| Angola              |  23311735184 |  98769677172 | 13503747 | 31825295 |  30566933 |\n| Antigua and Barbuda |    804286308 |   1525046720 |    67204 |    97118 |    438763 |\n| Argentina           | 274830720367 | 437215091207 | 34402672 | 44938712 | 200708270 |\n| Armenia             |   3137842747 |  13996188673 |  3283667 |  2957731 |   4597845 |\n| Aruba               |   2091786180 |           NA |    76700 |   106314 |    286871 |\n\n",
            "text/latex": "A tibble: 10 × 6\n\\begin{tabular}{llllll}\n Country & GDP\\_1994 & GDP\\_2019 & POP\\_1994 & POP\\_2019 & CO2\\_2016\\\\\n <chr> & <dbl> & <dbl> & <dbl> & <dbl> & <dbl>\\\\\n\\hline\n\t Afghanistan         &           NA &  21739593382 & 17075727 & 38041754 &   9900004\\\\\n\t Albania             &   4791372056 &  14868516511 &  3207536 &  2854191 &   5208319\\\\\n\t Algeria             &  89791622831 & 202805017529 & 28213774 & 43053054 & 156220560\\\\\n\t American Samoa      &           NA &           NA &    52095 &    55312 &        NA\\\\\n\t Andorra             &   2024227689 &   3539838261 &    62677 &    77142 &        NA\\\\\n\t Angola              &  23311735184 &  98769677172 & 13503747 & 31825295 &  30566933\\\\\n\t Antigua and Barbuda &    804286308 &   1525046720 &    67204 &    97118 &    438763\\\\\n\t Argentina           & 274830720367 & 437215091207 & 34402672 & 44938712 & 200708270\\\\\n\t Armenia             &   3137842747 &  13996188673 &  3283667 &  2957731 &   4597845\\\\\n\t Aruba               &   2091786180 &           NA &    76700 &   106314 &    286871\\\\\n\\end{tabular}\n",
            "text/plain": [
              "   Country             GDP_1994     GDP_2019     POP_1994 POP_2019 CO2_2016 \n",
              "1  Afghanistan                   NA  21739593382 17075727 38041754   9900004\n",
              "2  Albania               4791372056  14868516511  3207536  2854191   5208319\n",
              "3  Algeria              89791622831 202805017529 28213774 43053054 156220560\n",
              "4  American Samoa                NA           NA    52095    55312        NA\n",
              "5  Andorra               2024227689   3539838261    62677    77142        NA\n",
              "6  Angola               23311735184  98769677172 13503747 31825295  30566933\n",
              "7  Antigua and Barbuda    804286308   1525046720    67204    97118    438763\n",
              "8  Argentina           274830720367 437215091207 34402672 44938712 200708270\n",
              "9  Armenia               3137842747  13996188673  3283667  2957731   4597845\n",
              "10 Aruba                 2091786180           NA    76700   106314    286871"
            ]
          },
          "metadata": {}
        }
      ]
    },
    {
      "cell_type": "markdown",
      "source": [
        "**a. Now merge `continent` into your dataset.**\n",
        "\n",
        "Note: some countries won't match because different datasets can have different ways of spelling/naming a country. This is OK for now, but in future research, ensuring consistency is an important part of the data cleaning process!"
      ],
      "metadata": {
        "id": "Lko6HoqMJB9K"
      },
      "id": "Lko6HoqMJB9K"
    },
    {
      "cell_type": "code",
      "source": [
        "# Your answer here!\n",
        "\n",
        "# START\n",
        "wdi_augmented <- left_join(wdi_with_co2, continent, by = \"Country\")\n",
        "head(wdi_augmented, 10)\n",
        "# END"
      ],
      "metadata": {
        "id": "VQOVcNxjJC3x",
        "colab": {
          "base_uri": "https://localhost:8080/",
          "height": 412
        },
        "outputId": "081a463e-9b76-459d-f30a-2b3f4aef2711"
      },
      "id": "VQOVcNxjJC3x",
      "execution_count": null,
      "outputs": [
        {
          "output_type": "display_data",
          "data": {
            "text/html": [
              "<table class=\"dataframe\">\n",
              "<caption>A tibble: 10 × 7</caption>\n",
              "<thead>\n",
              "\t<tr><th scope=col>Country</th><th scope=col>GDP_1994</th><th scope=col>GDP_2019</th><th scope=col>POP_1994</th><th scope=col>POP_2019</th><th scope=col>CO2_2016</th><th scope=col>Continent</th></tr>\n",
              "\t<tr><th scope=col>&lt;chr&gt;</th><th scope=col>&lt;dbl&gt;</th><th scope=col>&lt;dbl&gt;</th><th scope=col>&lt;dbl&gt;</th><th scope=col>&lt;dbl&gt;</th><th scope=col>&lt;dbl&gt;</th><th scope=col>&lt;chr&gt;</th></tr>\n",
              "</thead>\n",
              "<tbody>\n",
              "\t<tr><td>Afghanistan        </td><td>          NA</td><td> 21739593382</td><td>17075727</td><td>38041754</td><td>  9900004</td><td>Asia         </td></tr>\n",
              "\t<tr><td>Albania            </td><td>  4791372056</td><td> 14868516511</td><td> 3207536</td><td> 2854191</td><td>  5208319</td><td>Europe       </td></tr>\n",
              "\t<tr><td>Algeria            </td><td> 89791622831</td><td>202805017529</td><td>28213774</td><td>43053054</td><td>156220560</td><td>Africa       </td></tr>\n",
              "\t<tr><td>American Samoa     </td><td>          NA</td><td>          NA</td><td>   52095</td><td>   55312</td><td>       NA</td><td>NA           </td></tr>\n",
              "\t<tr><td>Andorra            </td><td>  2024227689</td><td>  3539838261</td><td>   62677</td><td>   77142</td><td>       NA</td><td>NA           </td></tr>\n",
              "\t<tr><td>Angola             </td><td> 23311735184</td><td> 98769677172</td><td>13503747</td><td>31825295</td><td> 30566933</td><td>Africa       </td></tr>\n",
              "\t<tr><td>Antigua and Barbuda</td><td>   804286308</td><td>  1525046720</td><td>   67204</td><td>   97118</td><td>   438763</td><td>North America</td></tr>\n",
              "\t<tr><td>Argentina          </td><td>274830720367</td><td>437215091207</td><td>34402672</td><td>44938712</td><td>200708270</td><td>South America</td></tr>\n",
              "\t<tr><td>Armenia            </td><td>  3137842747</td><td> 13996188673</td><td> 3283667</td><td> 2957731</td><td>  4597845</td><td>Asia         </td></tr>\n",
              "\t<tr><td>Aruba              </td><td>  2091786180</td><td>          NA</td><td>   76700</td><td>  106314</td><td>   286871</td><td>NA           </td></tr>\n",
              "</tbody>\n",
              "</table>\n"
            ],
            "text/markdown": "\nA tibble: 10 × 7\n\n| Country &lt;chr&gt; | GDP_1994 &lt;dbl&gt; | GDP_2019 &lt;dbl&gt; | POP_1994 &lt;dbl&gt; | POP_2019 &lt;dbl&gt; | CO2_2016 &lt;dbl&gt; | Continent &lt;chr&gt; |\n|---|---|---|---|---|---|---|\n| Afghanistan         |           NA |  21739593382 | 17075727 | 38041754 |   9900004 | Asia          |\n| Albania             |   4791372056 |  14868516511 |  3207536 |  2854191 |   5208319 | Europe        |\n| Algeria             |  89791622831 | 202805017529 | 28213774 | 43053054 | 156220560 | Africa        |\n| American Samoa      |           NA |           NA |    52095 |    55312 |        NA | NA            |\n| Andorra             |   2024227689 |   3539838261 |    62677 |    77142 |        NA | NA            |\n| Angola              |  23311735184 |  98769677172 | 13503747 | 31825295 |  30566933 | Africa        |\n| Antigua and Barbuda |    804286308 |   1525046720 |    67204 |    97118 |    438763 | North America |\n| Argentina           | 274830720367 | 437215091207 | 34402672 | 44938712 | 200708270 | South America |\n| Armenia             |   3137842747 |  13996188673 |  3283667 |  2957731 |   4597845 | Asia          |\n| Aruba               |   2091786180 |           NA |    76700 |   106314 |    286871 | NA            |\n\n",
            "text/latex": "A tibble: 10 × 7\n\\begin{tabular}{lllllll}\n Country & GDP\\_1994 & GDP\\_2019 & POP\\_1994 & POP\\_2019 & CO2\\_2016 & Continent\\\\\n <chr> & <dbl> & <dbl> & <dbl> & <dbl> & <dbl> & <chr>\\\\\n\\hline\n\t Afghanistan         &           NA &  21739593382 & 17075727 & 38041754 &   9900004 & Asia         \\\\\n\t Albania             &   4791372056 &  14868516511 &  3207536 &  2854191 &   5208319 & Europe       \\\\\n\t Algeria             &  89791622831 & 202805017529 & 28213774 & 43053054 & 156220560 & Africa       \\\\\n\t American Samoa      &           NA &           NA &    52095 &    55312 &        NA & NA           \\\\\n\t Andorra             &   2024227689 &   3539838261 &    62677 &    77142 &        NA & NA           \\\\\n\t Angola              &  23311735184 &  98769677172 & 13503747 & 31825295 &  30566933 & Africa       \\\\\n\t Antigua and Barbuda &    804286308 &   1525046720 &    67204 &    97118 &    438763 & North America\\\\\n\t Argentina           & 274830720367 & 437215091207 & 34402672 & 44938712 & 200708270 & South America\\\\\n\t Armenia             &   3137842747 &  13996188673 &  3283667 &  2957731 &   4597845 & Asia         \\\\\n\t Aruba               &   2091786180 &           NA &    76700 &   106314 &    286871 & NA           \\\\\n\\end{tabular}\n",
            "text/plain": [
              "   Country             GDP_1994     GDP_2019     POP_1994 POP_2019 CO2_2016 \n",
              "1  Afghanistan                   NA  21739593382 17075727 38041754   9900004\n",
              "2  Albania               4791372056  14868516511  3207536  2854191   5208319\n",
              "3  Algeria              89791622831 202805017529 28213774 43053054 156220560\n",
              "4  American Samoa                NA           NA    52095    55312        NA\n",
              "5  Andorra               2024227689   3539838261    62677    77142        NA\n",
              "6  Angola               23311735184  98769677172 13503747 31825295  30566933\n",
              "7  Antigua and Barbuda    804286308   1525046720    67204    97118    438763\n",
              "8  Argentina           274830720367 437215091207 34402672 44938712 200708270\n",
              "9  Armenia               3137842747  13996188673  3283667  2957731   4597845\n",
              "10 Aruba                 2091786180           NA    76700   106314    286871\n",
              "   Continent    \n",
              "1  Asia         \n",
              "2  Europe       \n",
              "3  Africa       \n",
              "4  NA           \n",
              "5  NA           \n",
              "6  Africa       \n",
              "7  North America\n",
              "8  South America\n",
              "9  Asia         \n",
              "10 NA           "
            ]
          },
          "metadata": {}
        }
      ]
    },
    {
      "cell_type": "markdown",
      "id": "da7d05f1-e5d9-4cf8-b8db-b250b6c82aed",
      "metadata": {
        "id": "da7d05f1-e5d9-4cf8-b8db-b250b6c82aed"
      },
      "source": [
        "**b. Add a column to this joined dataset indicating CO2 emissions per capita — called `co2_emissions_pc` — using 2019 population. What is the mean value?**"
      ]
    },
    {
      "cell_type": "code",
      "execution_count": null,
      "id": "e73f0966-bab8-42cc-a50a-e26ea4935934",
      "metadata": {
        "id": "e73f0966-bab8-42cc-a50a-e26ea4935934",
        "colab": {
          "base_uri": "https://localhost:8080/",
          "height": 34
        },
        "outputId": "750b4926-e2f5-48ad-f33b-2adffdfa9795"
      },
      "outputs": [
        {
          "output_type": "display_data",
          "data": {
            "text/html": [
              "4.54588719432141"
            ],
            "text/markdown": "4.54588719432141",
            "text/latex": "4.54588719432141",
            "text/plain": [
              "[1] 4.545887"
            ]
          },
          "metadata": {}
        }
      ],
      "source": [
        "# Your answer here!\n",
        "\n",
        "# START\n",
        "\n",
        "wdi_augmented <- wdi_augmented %>%\n",
        "  mutate(co2_emissions_pc = CO2_2016/POP_2019)\n",
        "\n",
        "mean(wdi_augmented$co2_emissions_pc, na.rm = TRUE)\n",
        "# END"
      ]
    },
    {
      "cell_type": "markdown",
      "source": [
        "**c. Which five countries have the highest CO2 emissions per capita? Which five have the lowest?**"
      ],
      "metadata": {
        "id": "gQtz2eCD30Nm"
      },
      "id": "gQtz2eCD30Nm"
    },
    {
      "cell_type": "code",
      "source": [
        "# Your answer here!\n",
        "\n",
        "# START\n",
        "\n",
        "# Highest\n",
        "wdi_augmented %>%\n",
        "    arrange(desc(co2_emissions_pc)) %>%\n",
        "    select(Country, co2_emissions_pc) %>%\n",
        "    head(5)\n",
        "\n",
        "# Lowest\n",
        "wdi_augmented %>%\n",
        "    arrange(co2_emissions_pc) %>%\n",
        "    select(Country, co2_emissions_pc) %>%\n",
        "    head(5)\n",
        "\n",
        "# END"
      ],
      "metadata": {
        "id": "9NxnvYCqqqOG",
        "colab": {
          "base_uri": "https://localhost:8080/",
          "height": 493
        },
        "outputId": "f8c53ca6-b2ae-4ef5-b1f4-a8ad4dadc0cd"
      },
      "id": "9NxnvYCqqqOG",
      "execution_count": null,
      "outputs": [
        {
          "output_type": "display_data",
          "data": {
            "text/html": [
              "<table class=\"dataframe\">\n",
              "<caption>A tibble: 5 × 2</caption>\n",
              "<thead>\n",
              "\t<tr><th scope=col>Country</th><th scope=col>co2_emissions_pc</th></tr>\n",
              "\t<tr><th scope=col>&lt;chr&gt;</th><th scope=col>&lt;dbl&gt;</th></tr>\n",
              "</thead>\n",
              "<tbody>\n",
              "\t<tr><td>Qatar               </td><td>34.95330</td></tr>\n",
              "\t<tr><td>Montenegro          </td><td>26.11810</td></tr>\n",
              "\t<tr><td>Trinidad and Tobago </td><td>25.07164</td></tr>\n",
              "\t<tr><td>Kuwait              </td><td>24.12413</td></tr>\n",
              "\t<tr><td>United Arab Emirates</td><td>22.39272</td></tr>\n",
              "</tbody>\n",
              "</table>\n"
            ],
            "text/markdown": "\nA tibble: 5 × 2\n\n| Country &lt;chr&gt; | co2_emissions_pc &lt;dbl&gt; |\n|---|---|\n| Qatar                | 34.95330 |\n| Montenegro           | 26.11810 |\n| Trinidad and Tobago  | 25.07164 |\n| Kuwait               | 24.12413 |\n| United Arab Emirates | 22.39272 |\n\n",
            "text/latex": "A tibble: 5 × 2\n\\begin{tabular}{ll}\n Country & co2\\_emissions\\_pc\\\\\n <chr> & <dbl>\\\\\n\\hline\n\t Qatar                & 34.95330\\\\\n\t Montenegro           & 26.11810\\\\\n\t Trinidad and Tobago  & 25.07164\\\\\n\t Kuwait               & 24.12413\\\\\n\t United Arab Emirates & 22.39272\\\\\n\\end{tabular}\n",
            "text/plain": [
              "  Country              co2_emissions_pc\n",
              "1 Qatar                34.95330        \n",
              "2 Montenegro           26.11810        \n",
              "3 Trinidad and Tobago  25.07164        \n",
              "4 Kuwait               24.12413        \n",
              "5 United Arab Emirates 22.39272        "
            ]
          },
          "metadata": {}
        },
        {
          "output_type": "display_data",
          "data": {
            "text/html": [
              "<table class=\"dataframe\">\n",
              "<caption>A tibble: 5 × 2</caption>\n",
              "<thead>\n",
              "\t<tr><th scope=col>Country</th><th scope=col>co2_emissions_pc</th></tr>\n",
              "\t<tr><th scope=col>&lt;chr&gt;</th><th scope=col>&lt;dbl&gt;</th></tr>\n",
              "</thead>\n",
              "<tbody>\n",
              "\t<tr><td>Greenland</td><td>0.02721209</td></tr>\n",
              "\t<tr><td>Mali     </td><td>0.08171831</td></tr>\n",
              "\t<tr><td>Somalia  </td><td>0.08213753</td></tr>\n",
              "\t<tr><td>Niger    </td><td>0.08959292</td></tr>\n",
              "\t<tr><td>Ethiopia </td><td>0.09313859</td></tr>\n",
              "</tbody>\n",
              "</table>\n"
            ],
            "text/markdown": "\nA tibble: 5 × 2\n\n| Country &lt;chr&gt; | co2_emissions_pc &lt;dbl&gt; |\n|---|---|\n| Greenland | 0.02721209 |\n| Mali      | 0.08171831 |\n| Somalia   | 0.08213753 |\n| Niger     | 0.08959292 |\n| Ethiopia  | 0.09313859 |\n\n",
            "text/latex": "A tibble: 5 × 2\n\\begin{tabular}{ll}\n Country & co2\\_emissions\\_pc\\\\\n <chr> & <dbl>\\\\\n\\hline\n\t Greenland & 0.02721209\\\\\n\t Mali      & 0.08171831\\\\\n\t Somalia   & 0.08213753\\\\\n\t Niger     & 0.08959292\\\\\n\t Ethiopia  & 0.09313859\\\\\n\\end{tabular}\n",
            "text/plain": [
              "  Country   co2_emissions_pc\n",
              "1 Greenland 0.02721209      \n",
              "2 Mali      0.08171831      \n",
              "3 Somalia   0.08213753      \n",
              "4 Niger     0.08959292      \n",
              "5 Ethiopia  0.09313859      "
            ]
          },
          "metadata": {}
        }
      ]
    },
    {
      "cell_type": "markdown",
      "source": [
        "**d. Calculate total CO2 emissions for each continent. Order the continents from highest to lowest.**\n",
        "\n",
        "HINT: this can be done with the `group_by()` operation."
      ],
      "metadata": {
        "id": "945ZgrDOLGwS"
      },
      "id": "945ZgrDOLGwS"
    },
    {
      "cell_type": "code",
      "source": [
        "# Your answer here!\n",
        "\n",
        "#START\n",
        "wdi_augmented %>%\n",
        "    group_by(continent) %>%\n",
        "    summarize(CO2_2016 = sum(CO2_2016, na.rm = TRUE)) %>%\n",
        "    arrange(desc(CO2_2016))\n",
        "# END"
      ],
      "metadata": {
        "id": "MIl1gAX9LHPS",
        "colab": {
          "base_uri": "https://localhost:8080/",
          "height": 318
        },
        "outputId": "c4f95890-bde9-4257-add0-28986330c211"
      },
      "id": "MIl1gAX9LHPS",
      "execution_count": null,
      "outputs": [
        {
          "output_type": "display_data",
          "data": {
            "text/html": [
              "<table class=\"dataframe\">\n",
              "<caption>A tibble: 7 × 2</caption>\n",
              "<thead>\n",
              "\t<tr><th scope=col>continent</th><th scope=col>CO2_2016</th></tr>\n",
              "\t<tr><th scope=col>&lt;chr&gt;</th><th scope=col>&lt;dbl&gt;</th></tr>\n",
              "</thead>\n",
              "<tbody>\n",
              "\t<tr><td>Asia         </td><td>17702259465</td></tr>\n",
              "\t<tr><td>North America</td><td> 6229033322</td></tr>\n",
              "\t<tr><td>Europe       </td><td> 4204428521</td></tr>\n",
              "\t<tr><td>South America</td><td>  992738341</td></tr>\n",
              "\t<tr><td>Africa       </td><td>  974111086</td></tr>\n",
              "\t<tr><td>Oceania      </td><td>  460050401</td></tr>\n",
              "\t<tr><td>NA           </td><td>   46560108</td></tr>\n",
              "</tbody>\n",
              "</table>\n"
            ],
            "text/markdown": "\nA tibble: 7 × 2\n\n| continent &lt;chr&gt; | CO2_2016 &lt;dbl&gt; |\n|---|---|\n| Asia          | 17702259465 |\n| North America |  6229033322 |\n| Europe        |  4204428521 |\n| South America |   992738341 |\n| Africa        |   974111086 |\n| Oceania       |   460050401 |\n| NA            |    46560108 |\n\n",
            "text/latex": "A tibble: 7 × 2\n\\begin{tabular}{ll}\n continent & CO2\\_2016\\\\\n <chr> & <dbl>\\\\\n\\hline\n\t Asia          & 17702259465\\\\\n\t North America &  6229033322\\\\\n\t Europe        &  4204428521\\\\\n\t South America &   992738341\\\\\n\t Africa        &   974111086\\\\\n\t Oceania       &   460050401\\\\\n\t NA            &    46560108\\\\\n\\end{tabular}\n",
            "text/plain": [
              "  continent     CO2_2016   \n",
              "1 Asia          17702259465\n",
              "2 North America  6229033322\n",
              "3 Europe         4204428521\n",
              "4 South America   992738341\n",
              "5 Africa          974111086\n",
              "6 Oceania         460050401\n",
              "7 NA               46560108"
            ]
          },
          "metadata": {}
        }
      ]
    },
    {
      "cell_type": "markdown",
      "source": [
        "**e. Compute the correlation between CO2 emissions per capita and GDP per capita in 2019**\n",
        "\n",
        "*HINT*: to deal with missing values, you can add `use=\"complete.obs\"` as an argument in `cor()`.\n",
        "\n"
      ],
      "metadata": {
        "id": "3AfwDj86qLrD"
      },
      "id": "3AfwDj86qLrD"
    },
    {
      "cell_type": "code",
      "source": [
        "# Your answer here!\n",
        "\n",
        "#START\n",
        "wdi_augmented %>%\n",
        "    mutate(gdp_percap_2019 = GDP_2019 / POP_2019) %>%\n",
        "    summarize(cor = cor(co2_emissions_pc, gdp_percap_2019, use=\"complete.obs\"))\n",
        "# END"
      ],
      "metadata": {
        "colab": {
          "base_uri": "https://localhost:8080/",
          "height": 147
        },
        "id": "0yqsoUc0Tnd9",
        "outputId": "66bd1e5c-e632-48da-e407-5880ac40a808"
      },
      "id": "0yqsoUc0Tnd9",
      "execution_count": null,
      "outputs": [
        {
          "output_type": "display_data",
          "data": {
            "text/html": [
              "<table class=\"dataframe\">\n",
              "<caption>A tibble: 1 × 1</caption>\n",
              "<thead>\n",
              "\t<tr><th scope=col>cor</th></tr>\n",
              "\t<tr><th scope=col>&lt;dbl&gt;</th></tr>\n",
              "</thead>\n",
              "<tbody>\n",
              "\t<tr><td>0.5755508</td></tr>\n",
              "</tbody>\n",
              "</table>\n"
            ],
            "text/markdown": "\nA tibble: 1 × 1\n\n| cor &lt;dbl&gt; |\n|---|\n| 0.5755508 |\n\n",
            "text/latex": "A tibble: 1 × 1\n\\begin{tabular}{l}\n cor\\\\\n <dbl>\\\\\n\\hline\n\t 0.5755508\\\\\n\\end{tabular}\n",
            "text/plain": [
              "  cor      \n",
              "1 0.5755508"
            ]
          },
          "metadata": {}
        }
      ]
    },
    {
      "cell_type": "markdown",
      "source": [
        "**f. What do you think is driving this relationship? Why? Qualitative answers are fine.**"
      ],
      "metadata": {
        "id": "AKkOJKJX4NTT"
      },
      "id": "AKkOJKJX4NTT"
    },
    {
      "cell_type": "markdown",
      "source": [
        "Edit this cell to provide your answer!\n",
        "\n",
        "# START\n",
        "0.57 is a relatively high correlation in the real world. This is likely driven by the fact that richer countries consume more energy and energy-intensive products, and thus have higher emissions per capita.\n",
        "# END"
      ],
      "metadata": {
        "id": "eZ98WUZGqMQy"
      },
      "id": "eZ98WUZGqMQy"
    }
  ],
  "metadata": {
    "kernelspec": {
      "display_name": "R",
      "language": "R",
      "name": "ir"
    },
    "language_info": {
      "codemirror_mode": "r",
      "file_extension": ".r",
      "mimetype": "text/x-r-source",
      "name": "R",
      "pygments_lexer": "r",
      "version": "4.2.1"
    },
    "colab": {
      "provenance": [],
      "include_colab_link": true
    }
  },
  "nbformat": 4,
  "nbformat_minor": 5
}