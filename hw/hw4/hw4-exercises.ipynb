{
  "cells": [
    {
      "cell_type": "markdown",
      "metadata": {
        "id": "view-in-github",
        "colab_type": "text"
      },
      "source": [
        "<a href=\"https://colab.research.google.com/github/5harad/API-201-2023/blob/main/hw/hw4/hw4-exercises.ipynb\" target=\"_parent\"><img src=\"https://colab.research.google.com/assets/colab-badge.svg\" alt=\"Open In Colab\"/></a>"
      ]
    },
    {
      "cell_type": "markdown",
      "id": "4839cd02-22e6-4e06-9617-eccba2b91eb8",
      "metadata": {
        "id": "4839cd02-22e6-4e06-9617-eccba2b91eb8"
      },
      "source": [
        "# API-201 PROBLEM SET #4\n",
        "**Due on Thursday, September 28, at 8:00 a.m.**"
      ]
    },
    {
      "cell_type": "markdown",
      "id": "55a12d42-ccc1-482f-b4c3-2d02e3286eda",
      "metadata": {
        "id": "55a12d42-ccc1-482f-b4c3-2d02e3286eda"
      },
      "source": [
        "**I - INSTRUCTIONS**  \n",
        "To successfully complete this problem set, please follow these steps:\n",
        "\n",
        "1. **Create a copy of this notebook in your own drive by clicking `Copy to Drive` in the menubar (this is explained below in more detail below) - *if you do not do this your work will not be saved!*** We recommend completing this problem set in Google Chrome.\n",
        "2. **Insert all your answers into your copy of the document.**\n",
        "    1. Please include every portion of your submission in this document unless a separate electronic file is explicitly requested.\n",
        "    3. All numerical calculations should be done in the notebook itself, using R code. If you have to do calculations by hand, include a picture of your handwritten work.\n",
        "    2. To add an image of handwritten work, screenshots, or anything else, add a new text cell and click the small image icon in the menubar above the cell. After inserting an image, press the `esc` key to show the image. If you have trouble with this method, upload your image to [Freeimage.host](https://freeimage.host), copy a Markdown link, and paste it in a text cell.\n",
        "3. **Once your document is complete, please save and submit the notebook on Canvas as a PDF.**\n",
        "    1. Click `View > Expand sections` in the menubar to make sure all work is visible (if it is greyed out then it is already visible).\n",
        "    1. Click `Runtime > Run all` in the menubar to make sure all of your code is executed.\n",
        "    1. Click `File > Print` in the menubar and choose the `Save as PDF` option in Chrome to export your notebook as a PDF.\n",
        "    1. Check to make sure answers do not get cut off - when you go to print the PDF we recommend clicking on `More settings` and setting `Margins` to `None`.\n",
        "    1. Submit your file on Canvas.\n"
      ]
    },
    {
      "cell_type": "markdown",
      "id": "4ddbaaa5-6eeb-431a-8c4c-2786c0ebcae8",
      "metadata": {
        "id": "4ddbaaa5-6eeb-431a-8c4c-2786c0ebcae8"
      },
      "source": [
        "**II - IDENTIFICATION**\n",
        "1. **Your Full Name:** `     `  \n",
        "\n",
        "2. **Group Members (classmates with whom you worked on this problem set):**  \n",
        "    1. `     `\n",
        "    2. `     `\n",
        "    3. `     `\n",
        "    4. `     `\n",
        "    \n",
        "3. **Compliance with HKS Academic Code**  \n",
        "We abide by the Harvard Kennedy School Academic code for all aspects of the course. In terms of problem sets, unless explicitly written otherwise, the norms are the following: You are free (and encouraged) to discuss problem sets with your classmates. However, you must hand in your own unique written work and code in all cases. Any copy/paste of another’s work is plagiarism. In other words, you may work with your classmate(s), sitting side-by-side (physically or remotely!) and going through the problem set question by question, but you must each type your own answers and your own code. For more details, please see syllabus.\n",
        "\n",
        "    **I certify that my work in this problem set complies with the HKS Academic Code**\n",
        "    - [ ] Yes\n",
        "    - [ ] No\n",
        "\n",
        "---"
      ]
    },
    {
      "cell_type": "markdown",
      "source": [
        "## Learning Objectives\n",
        "\n",
        "- To help you understand how to select the appropriate statistics for analyzing data.\n",
        "- To explore the concept of correlation versus causation in data analysis.\n"
      ],
      "metadata": {
        "id": "o72ww_JZg8od"
      },
      "id": "o72ww_JZg8od"
    },
    {
      "cell_type": "markdown",
      "source": [
        "The dataset you'll be working with is the [NLSY-79](https://www.bls.gov/nls/nlsy79.htm) (National Longitudinal Survey of Youth 1979). This is a standardized US government survey that tracked the same individuals over time. This cohort includes people born between 1957 and 1964. In this dataset, we look at a snapshot of 2012 outcomes that cover various aspects of individuals' lives, such as income, employment, education, and family structure, among others.\n",
        "\n",
        "Analyzing such a dataset can provide insights into the relationship between individual life experiences and economic, education, family outcomes. Such insights can, in turn, help inform better economic and social policy.\n",
        "\n",
        "Run the cells below to load the data and let's get started!"
      ],
      "metadata": {
        "id": "-Oh5LMuAbCzI"
      },
      "id": "-Oh5LMuAbCzI"
    },
    {
      "cell_type": "code",
      "source": [
        "# Load the tidyverse and scales libraries\n",
        "library(tidyverse)\n",
        "library(scales)"
      ],
      "metadata": {
        "id": "5_pOeWdGzzKq"
      },
      "id": "5_pOeWdGzzKq",
      "execution_count": null,
      "outputs": []
    },
    {
      "cell_type": "code",
      "execution_count": null,
      "id": "aa889d79-5ab9-42af-8590-30819c45124f",
      "metadata": {
        "id": "aa889d79-5ab9-42af-8590-30819c45124f",
        "tags": []
      },
      "outputs": [],
      "source": [
        "data <- read_csv(\"https://5harad.com/datasets/API201/nlsy79_2012.csv\")\n",
        "\n",
        "print(\"Number of individuals\")\n",
        "nrow(data)\n",
        "summary(data)"
      ]
    },
    {
      "cell_type": "markdown",
      "source": [
        "**Variable Description**\n",
        "\n",
        "Demographic Variables\n",
        "   - `birth_year`: The year in which the individual was born.\n",
        "   - `male`: A binary variable indicating gender, where 0 is female and 1 is male.\n",
        "   - `urban`: A binary variable indicating the type of area the individual lives in. 0 is for rural and 1 for urban or suburban.\n",
        "\n",
        "Economic Variables\n",
        "   - `family_income`: The total family income for the year, in dollars. Varies widely, with a minimum of 0 and a maximum over 1 million.\n",
        "   - `weeks_unemployed`: The number of weeks the individual was unemployed in the year. Ranges from 0 to 52 weeks.\n",
        "   - `number_of_jobs_ever`: The total number of jobs the individual has ever held as of 2012.\n",
        "   - `hours_worked_in_week`: The number of hours the individual typically works in a week, ranging from 0 to 203 hours.\n",
        "   - `poverty`: A binary variable indicating whether the individual is living in poverty. 0 means not in poverty, and 1 means in poverty.\n",
        "\n",
        "Education Variables\n",
        "   - `education`: A numerical variable indicating the individual's level of education:\n",
        "      1. Less than high school\n",
        "      2. Some high school\n",
        "      3. High school graduate\n",
        "      4. Some college\n",
        "      5. Associate's degree\n",
        "      6. Bachelor's degree\n",
        "      7. Master's or Professional degree\n",
        "      8. PhD degree\n",
        "   - `educational_loans`: The total amount of educational loans, in dollars, that the individual owes, ranging from 50 to 299,988 dollars.\n",
        "\n",
        "Fertility Variables\n",
        "  - `number_children`: The number of children the individual has, ranging from 0 to 8 children.\n",
        "  - `age_at_first_child`: The age at which the individual had their first child, ranging from 10 to 51 years.\n",
        "\n"
      ],
      "metadata": {
        "id": "swM4iFbrFNwY"
      },
      "id": "swM4iFbrFNwY"
    },
    {
      "cell_type": "markdown",
      "source": [
        "## Exercise 1\n",
        "It is important to understand how representative a dataset is of a population (in this case, all US adults of a certain age). Based on the summary data above, answer the following five high-level questions about the sample.\n",
        "\n",
        "- **How many people are included in the sample?**\n",
        "- **What is the average age of individuals in the sample (as of 2012 when the survey was taken)?**\n",
        "- **Is it balanced between men and women?**\n",
        "- **Is it balanced in terms of the number of people in poverty (for this, look up the US poverty rate online)?**\n",
        "- **Say there were 30 million adults in the US as of 2012 that were born between 1957 and 1964. What fraction of them are in this sample? Intuitively, do you believe this is enough to be representative?**\n"
      ],
      "metadata": {
        "id": "5Qpe9pOlGNnf"
      },
      "id": "5Qpe9pOlGNnf"
    },
    {
      "cell_type": "markdown",
      "source": [
        "### Your answer here!\n",
        "\n"
      ],
      "metadata": {
        "id": "UORLuLQRvHXG"
      },
      "id": "UORLuLQRvHXG"
    },
    {
      "cell_type": "markdown",
      "source": [
        "## Exercise 2\n",
        "**(a) Apply the `summary()` function to the vector of `family_income` to summarize its distribution in the sample. Are the mean and median different? If so, what does this indicate? Which measure of central tendency (mean, median, or mode) is most appropriate for summarizing `family_income`?**\n",
        "\n"
      ],
      "metadata": {
        "id": "JGcyYXc57JEJ"
      },
      "id": "JGcyYXc57JEJ"
    },
    {
      "cell_type": "code",
      "source": [
        "# Your answer here!\n",
        "\n"
      ],
      "metadata": {
        "id": "1_e-AP4C71m_"
      },
      "id": "1_e-AP4C71m_",
      "execution_count": null,
      "outputs": []
    },
    {
      "cell_type": "markdown",
      "source": [
        "**(b) Discuss your results in the text cell below.**"
      ],
      "metadata": {
        "id": "ta87pZb0jxfp"
      },
      "id": "ta87pZb0jxfp"
    },
    {
      "cell_type": "markdown",
      "source": [
        "### Your answer here!\n",
        "\n"
      ],
      "metadata": {
        "id": "j09pBHocwiuf"
      },
      "id": "j09pBHocwiuf"
    },
    {
      "cell_type": "markdown",
      "source": [
        "**(c) Use `summary()` to summarize the distribution of `weeks_unemployed` in the sample.**"
      ],
      "metadata": {
        "id": "y4Z6T1Ch73HK"
      },
      "id": "y4Z6T1Ch73HK"
    },
    {
      "cell_type": "code",
      "source": [
        "# Your answer here!\n",
        "\n"
      ],
      "metadata": {
        "id": "Z-DXQeHy72vK"
      },
      "id": "Z-DXQeHy72vK",
      "execution_count": null,
      "outputs": []
    },
    {
      "cell_type": "markdown",
      "source": [
        "**(d) Is the median a good representation of `weeks_unemployed`? Why or why not?**\n"
      ],
      "metadata": {
        "id": "Zlc4kDggRmQv"
      },
      "id": "Zlc4kDggRmQv"
    },
    {
      "cell_type": "markdown",
      "source": [
        "### Your answer here!\n",
        "\n"
      ],
      "metadata": {
        "id": "5e2us98nxna0"
      },
      "id": "5e2us98nxna0"
    },
    {
      "cell_type": "markdown",
      "source": [
        "**(e) It is often helpful to visualize the distribution. Plot a histogram of `weeks_unemployed`.**\n",
        "\n",
        "*HINT*: You can use `geom_histogram` to plot a histogram, and can read more about using it [here](https://ggplot2.tidyverse.org/reference/geom_histogram.html)."
      ],
      "metadata": {
        "id": "jnGb_SmRxcuS"
      },
      "id": "jnGb_SmRxcuS"
    },
    {
      "cell_type": "code",
      "source": [
        "# Your answer here!\n",
        "\n"
      ],
      "metadata": {
        "id": "racCVLs_QtMJ"
      },
      "execution_count": null,
      "outputs": [],
      "id": "racCVLs_QtMJ"
    },
    {
      "cell_type": "markdown",
      "source": [
        "**(f) What accounts for the shape of this distribution?**"
      ],
      "metadata": {
        "id": "nmhnPZykxy2e"
      },
      "id": "nmhnPZykxy2e"
    },
    {
      "cell_type": "markdown",
      "source": [
        "### Your answer here!\n",
        "\n"
      ],
      "metadata": {
        "id": "eqRFX3R5yNfw"
      },
      "id": "eqRFX3R5yNfw"
    },
    {
      "cell_type": "markdown",
      "source": [
        "**(g) Compute the proportion of people who are unemployed at some point.**"
      ],
      "metadata": {
        "id": "_W9-7ojzQtMI"
      },
      "id": "_W9-7ojzQtMI"
    },
    {
      "cell_type": "code",
      "source": [
        "# Your answer here!\n",
        "\n"
      ],
      "metadata": {
        "id": "mUGSD5jPRlYl"
      },
      "id": "mUGSD5jPRlYl",
      "execution_count": null,
      "outputs": []
    },
    {
      "cell_type": "markdown",
      "source": [
        "**(h) Comment on whether you think this is a good measure of unemployment.**"
      ],
      "metadata": {
        "id": "aJDktV3zkGrn"
      },
      "id": "aJDktV3zkGrn"
    },
    {
      "cell_type": "markdown",
      "source": [
        "### Your answer here!\n",
        "\n"
      ],
      "metadata": {
        "id": "BOQkxXvsyCxx"
      },
      "id": "BOQkxXvsyCxx"
    },
    {
      "cell_type": "markdown",
      "source": [
        "## Exercise 3\n",
        "**(a) Compute the mean and standard deviation of `number_of_jobs_ever`.**\n",
        "\n",
        "*HINT*: The `sd` function allows you to compute the standard deviation of values. Don't forget `na.rm = TRUE`!"
      ],
      "metadata": {
        "id": "1BAtM0bJ7_X7"
      },
      "id": "1BAtM0bJ7_X7"
    },
    {
      "cell_type": "code",
      "source": [
        "# Your answer here!\n",
        "\n"
      ],
      "metadata": {
        "id": "QjBUGMW67-Mf"
      },
      "id": "QjBUGMW67-Mf",
      "execution_count": null,
      "outputs": []
    },
    {
      "cell_type": "markdown",
      "source": [
        "**(b) Describe what these two statistics are telling us.**"
      ],
      "metadata": {
        "id": "of-f9obOkQX4"
      },
      "id": "of-f9obOkQX4"
    },
    {
      "cell_type": "markdown",
      "source": [
        "### Your answer here!\n",
        "\n"
      ],
      "metadata": {
        "id": "TnRZPq5MzzI6"
      },
      "id": "TnRZPq5MzzI6"
    },
    {
      "cell_type": "markdown",
      "source": [
        "**(c) How many years on average does someone hold a job?**\n",
        "\n",
        "*NOTE*: There are several acceptable ways to estimate this, but explain your logic."
      ],
      "metadata": {
        "id": "B90js-gAUyud"
      },
      "id": "B90js-gAUyud"
    },
    {
      "cell_type": "markdown",
      "source": [
        "### Your answer here!\n",
        "\n"
      ],
      "metadata": {
        "id": "3pZo2nGDzeD2"
      },
      "id": "3pZo2nGDzeD2"
    },
    {
      "cell_type": "markdown",
      "source": [
        "## Exercise 4\n",
        "\n",
        "**(a) What is the mean number of children per person? What is the mode?**\n",
        "\n",
        "*HINT*: [count()](https://dplyr.tidyverse.org/reference/count.html) is a quick way to get the number of observations for each given value of a variable."
      ],
      "metadata": {
        "id": "J9-kSEYAZjmZ"
      },
      "id": "J9-kSEYAZjmZ"
    },
    {
      "cell_type": "code",
      "source": [
        "# Your answer here!\n",
        "\n"
      ],
      "metadata": {
        "id": "TTgOLsfAZkGM"
      },
      "id": "TTgOLsfAZkGM",
      "execution_count": null,
      "outputs": []
    },
    {
      "cell_type": "markdown",
      "source": [
        "### Your answer here!\n",
        "### Use this space to say what the mean and mode are based on your calculations above\n",
        "\n"
      ],
      "metadata": {
        "id": "3gMb2-pb1T_O"
      },
      "id": "3gMb2-pb1T_O"
    },
    {
      "cell_type": "markdown",
      "source": [
        "**(b) Considering the US fertility rate in 2012 was 1.88 births per woman, is this lower than you thought? Why might account for the difference?**"
      ],
      "metadata": {
        "id": "JKjwUjLtbLYQ"
      },
      "id": "JKjwUjLtbLYQ"
    },
    {
      "cell_type": "markdown",
      "source": [
        "### Your answer here!\n",
        "\n"
      ],
      "metadata": {
        "id": "VIs-Ivbizv_m"
      },
      "id": "VIs-Ivbizv_m"
    },
    {
      "cell_type": "markdown",
      "source": [
        "**(c) What is the mean `age_at_first_child`? Compute the average `age_at_first_child` for each `number_children`. Finally, compute the correlation between `number_children` and `age_at_first_child`.**\n",
        "\n",
        "HINT: You can use `cor()` to compute the correlation between two variables. Add `use = \"pairwise.complete.obs` to your `cor()` command to remove `NA` values."
      ],
      "metadata": {
        "id": "ht_V8w_p8Vb8"
      },
      "id": "ht_V8w_p8Vb8"
    },
    {
      "cell_type": "code",
      "source": [
        "# Your answer here!\n",
        "\n"
      ],
      "metadata": {
        "id": "kvlgiRvw8Vb8"
      },
      "execution_count": null,
      "outputs": [],
      "id": "kvlgiRvw8Vb8"
    },
    {
      "cell_type": "markdown",
      "source": [
        "**(d) What does this table tell us about fertility patterns?**"
      ],
      "metadata": {
        "id": "hH8pIEioz9Mk"
      },
      "id": "hH8pIEioz9Mk"
    },
    {
      "cell_type": "markdown",
      "source": [
        "### Your answer here!\n",
        "\n"
      ],
      "metadata": {
        "id": "OCJ8j2qU0DJ4"
      },
      "id": "OCJ8j2qU0DJ4"
    },
    {
      "cell_type": "markdown",
      "source": [
        "## Exercise 5\n",
        "\n",
        "**(a) Create a histogram of `family_income`. Include appropriate axis labels.**\n",
        "\n",
        "*HINT*: You can pass in `labels = comma` to your `scale_` command to avoid scientific notation."
      ],
      "metadata": {
        "id": "qr_KRXRN8Vu4"
      },
      "id": "qr_KRXRN8Vu4"
    },
    {
      "cell_type": "code",
      "source": [
        "# Your answer here!\n",
        "\n"
      ],
      "metadata": {
        "id": "Mrb_H-Fk8Vu5"
      },
      "execution_count": null,
      "outputs": [],
      "id": "Mrb_H-Fk8Vu5"
    },
    {
      "cell_type": "markdown",
      "source": [
        "**(b) Briefly describe what the shape of this distributions tells us.**"
      ],
      "metadata": {
        "id": "tiUZCP3KlZ_V"
      },
      "id": "tiUZCP3KlZ_V"
    },
    {
      "cell_type": "markdown",
      "source": [
        "### Your answer here!\n",
        "\n"
      ],
      "metadata": {
        "id": "ARCUZ1K46_G9"
      },
      "id": "ARCUZ1K46_G9"
    },
    {
      "cell_type": "markdown",
      "source": [
        "**(c) Summarize family income at each level of education. Then make a line plot to visualize the relationship between education and family income.**\n",
        "\n",
        "Recall that `education` is a numerical variable indicating the individual's level of education:\n",
        "\n",
        "      1. Less than high school\n",
        "      2. Some high school\n",
        "      3. High school graduate\n",
        "      4. Some college\n",
        "      5. Associate's degree\n",
        "      6. Bachelor's degree\n",
        "      7. Master's or Professional degree\n",
        "      8. PhD degree\n",
        "\n"
      ],
      "metadata": {
        "id": "RZvLCyS98V0a"
      },
      "id": "RZvLCyS98V0a"
    },
    {
      "cell_type": "code",
      "source": [
        "# Your answer here!\n",
        "\n"
      ],
      "metadata": {
        "id": "gePqm8Ej8V0a"
      },
      "execution_count": null,
      "outputs": [],
      "id": "gePqm8Ej8V0a"
    },
    {
      "cell_type": "markdown",
      "source": [
        "**(d) What is the relationship between education level and family income? Does this relationship imply that education _causes_ higher income? If not, explain what else might be driving the pattern.**"
      ],
      "metadata": {
        "id": "-znpaamo9oOq"
      },
      "id": "-znpaamo9oOq"
    },
    {
      "cell_type": "markdown",
      "source": [
        "### Your answer here!\n",
        "\n"
      ],
      "metadata": {
        "id": "8bAPUBxO0yBt"
      },
      "id": "8bAPUBxO0yBt"
    },
    {
      "cell_type": "markdown",
      "source": [
        "## Exercise 6\n",
        "\n",
        "**(a) Student loans: create a similar line plot as the one above, except now  show mean family income at each quintile of educational debt.**\n",
        "\n",
        "To get started, run the cell below to create the `edu_loan_quintile` column, which divides student loan amounts into 5 groups, with 1 being the lowest amount of student debt, and 5 being the highest. (To create quintiles, we use the handy [ntile()](https://dplyr.tidyverse.org/reference/ntile.html) function.)"
      ],
      "metadata": {
        "id": "FE3HVbaS8Vnr"
      },
      "id": "FE3HVbaS8Vnr"
    },
    {
      "cell_type": "code",
      "source": [
        "data <- data %>%\n",
        "  mutate(edu_loan_quintile = ntile(educational_loans, 5))"
      ],
      "metadata": {
        "id": "f291GlfDgQpN"
      },
      "id": "f291GlfDgQpN",
      "execution_count": null,
      "outputs": []
    },
    {
      "cell_type": "code",
      "source": [
        "# Your answer here!\n",
        "\n"
      ],
      "metadata": {
        "id": "e7NRRMwr8Vns"
      },
      "execution_count": null,
      "outputs": [],
      "id": "e7NRRMwr8Vns"
    },
    {
      "cell_type": "markdown",
      "source": [
        " **(b) What is the general relationship between family income and student debt? Why might some people be concerned that student loan forgiveness is a regressive policy?**"
      ],
      "metadata": {
        "id": "ajKPZLO9hwGM"
      },
      "id": "ajKPZLO9hwGM"
    },
    {
      "cell_type": "markdown",
      "source": [
        "### Your answer here!\n",
        "\n"
      ],
      "metadata": {
        "id": "CCBSq2p41MdT"
      },
      "id": "CCBSq2p41MdT"
    },
    {
      "cell_type": "markdown",
      "source": [
        "## Exercise 7\n",
        "\n",
        "We previously used the `cor()` function to compute the correlation between two variables. More generally, the `cor()` function can be used to create a correlation matrix for all combinations of variables in a dataset."
      ],
      "metadata": {
        "id": "WOch3Gp89pnt"
      },
      "id": "WOch3Gp89pnt"
    },
    {
      "cell_type": "code",
      "source": [
        "# Run this code\n",
        "cor_matrix <- cor(data, use = \"pairwise.complete.obs\")\n",
        "round(cor_matrix, 3) # This rounds the output to 3 decimal places for ease of reading\n"
      ],
      "metadata": {
        "id": "r2wyDYyU9pnt"
      },
      "execution_count": null,
      "outputs": [],
      "id": "r2wyDYyU9pnt"
    },
    {
      "cell_type": "markdown",
      "source": [
        "**Study the correlations above. Choose two instances where the correlation is interesting or surprising to you. Explain your choices.**"
      ],
      "metadata": {
        "id": "CXIeXxvov08k"
      },
      "id": "CXIeXxvov08k"
    },
    {
      "cell_type": "markdown",
      "source": [
        "### Your answer here!\n",
        "\n"
      ],
      "metadata": {
        "id": "ztjgQKfz1VjP"
      },
      "id": "ztjgQKfz1VjP"
    }
  ],
  "metadata": {
    "colab": {
      "provenance": [],
      "name": "hw4-exercises.ipynb",
      "include_colab_link": true
    },
    "kernelspec": {
      "display_name": "R",
      "language": "R",
      "name": "ir"
    },
    "language_info": {
      "codemirror_mode": "r",
      "file_extension": ".r",
      "mimetype": "text/x-r-source",
      "name": "R",
      "pygments_lexer": "r",
      "version": "4.1.2"
    }
  },
  "nbformat": 4,
  "nbformat_minor": 5
}