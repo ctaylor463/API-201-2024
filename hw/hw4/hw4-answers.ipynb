{
  "cells": [
    {
      "cell_type": "markdown",
      "metadata": {
        "id": "view-in-github",
        "colab_type": "text"
      },
      "source": [
        "<a href=\"https://colab.research.google.com/github/5harad/API-201-2023/blob/main/hw/hw4/hw4-answers.ipynb\" target=\"_parent\"><img src=\"https://colab.research.google.com/assets/colab-badge.svg\" alt=\"Open In Colab\"/></a>"
      ]
    },
    {
      "cell_type": "markdown",
      "id": "4839cd02-22e6-4e06-9617-eccba2b91eb8",
      "metadata": {
        "id": "4839cd02-22e6-4e06-9617-eccba2b91eb8"
      },
      "source": [
        "# API-201 PROBLEM SET #4\n",
        "**Due on Thursday, September 28, at 8:00 a.m.**"
      ]
    },
    {
      "cell_type": "markdown",
      "id": "55a12d42-ccc1-482f-b4c3-2d02e3286eda",
      "metadata": {
        "id": "55a12d42-ccc1-482f-b4c3-2d02e3286eda"
      },
      "source": [
        "**I - INSTRUCTIONS**  \n",
        "To successfully complete this problem set, please follow these steps:\n",
        "\n",
        "1. **Create a copy of this notebook in your own drive by clicking `Copy to Drive` in the menubar (this is explained below in more detail below) - *if you do not do this your work will not be saved!*** We recommend completing this problem set in Google Chrome.\n",
        "2. **Insert all your answers into your copy of the document.**\n",
        "    1. Please include every portion of your submission in this document unless a separate electronic file is explicitly requested.\n",
        "    3. All numerical calculations should be done in the notebook itself, using R code. If you have to do calculations by hand, include a picture of your handwritten work.\n",
        "    2. To add an image of handwritten work, screenshots, or anything else, add a new text cell and click the small image icon in the menubar above the cell. After inserting an image, press the `esc` key to show the image. If you have trouble with this method, upload your image to [Freeimage.host](https://freeimage.host), copy a Markdown link, and paste it in a text cell.\n",
        "3. **Once your document is complete, please save and submit the notebook on Canvas as a PDF.**\n",
        "    1. Click `View > Expand sections` in the menubar to make sure all work is visible (if it is greyed out then it is already visible).\n",
        "    1. Click `Runtime > Run all` in the menubar to make sure all of your code is executed.\n",
        "    1. Click `File > Print` in the menubar and choose the `Save as PDF` option in Chrome to export your notebook as a PDF.\n",
        "    1. Check to make sure answers do not get cut off - when you go to print the PDF we recommend clicking on `More settings` and setting `Margins` to `None`.\n",
        "    1. Submit your file on Canvas.\n"
      ]
    },
    {
      "cell_type": "markdown",
      "id": "4ddbaaa5-6eeb-431a-8c4c-2786c0ebcae8",
      "metadata": {
        "id": "4ddbaaa5-6eeb-431a-8c4c-2786c0ebcae8"
      },
      "source": [
        "**II - IDENTIFICATION**\n",
        "1. **Your Full Name:** `     `  \n",
        "\n",
        "2. **Group Members (classmates with whom you worked on this problem set):**  \n",
        "    1. `     `\n",
        "    2. `     `\n",
        "    3. `     `\n",
        "    4. `     `\n",
        "    \n",
        "3. **Compliance with HKS Academic Code**  \n",
        "We abide by the Harvard Kennedy School Academic code for all aspects of the course. In terms of problem sets, unless explicitly written otherwise, the norms are the following: You are free (and encouraged) to discuss problem sets with your classmates. However, you must hand in your own unique written work and code in all cases. Any copy/paste of another’s work is plagiarism. In other words, you may work with your classmate(s), sitting side-by-side (physically or remotely!) and going through the problem set question by question, but you must each type your own answers and your own code. For more details, please see syllabus.\n",
        "\n",
        "    **I certify that my work in this problem set complies with the HKS Academic Code**\n",
        "    - [ ] Yes\n",
        "    - [ ] No\n",
        "\n",
        "---"
      ]
    },
    {
      "cell_type": "markdown",
      "source": [
        "## Learning Objectives\n",
        "\n",
        "- To help you understand how to select the appropriate statistics for analyzing data.\n",
        "- To explore the concept of correlation versus causation in data analysis.\n"
      ],
      "metadata": {
        "id": "o72ww_JZg8od"
      },
      "id": "o72ww_JZg8od"
    },
    {
      "cell_type": "markdown",
      "source": [
        "The dataset you'll be working with is the [NLSY-79](https://www.bls.gov/nls/nlsy79.htm) (National Longitudinal Survey of Youth 1979). This is a standardized US government survey that tracked the same individuals over time. This cohort includes people born between 1957 and 1964. In this dataset, we look at a snapshot of 2012 outcomes that cover various aspects of individuals' lives, such as income, employment, education, and family structure, among others.\n",
        "\n",
        "Analyzing such a dataset can provide insights into the relationship between individual life experiences and economic, education, family outcomes. Such insights can, in turn, help inform better economic and social policy.\n",
        "\n",
        "Run the cells below to load the data and let's get started!"
      ],
      "metadata": {
        "id": "-Oh5LMuAbCzI"
      },
      "id": "-Oh5LMuAbCzI"
    },
    {
      "cell_type": "code",
      "source": [
        "# Load the tidyverse and scales libraries\n",
        "library(tidyverse)\n",
        "library(scales)"
      ],
      "metadata": {
        "id": "5_pOeWdGzzKq"
      },
      "id": "5_pOeWdGzzKq",
      "execution_count": null,
      "outputs": []
    },
    {
      "cell_type": "code",
      "execution_count": null,
      "id": "aa889d79-5ab9-42af-8590-30819c45124f",
      "metadata": {
        "id": "aa889d79-5ab9-42af-8590-30819c45124f",
        "tags": [],
        "colab": {
          "base_uri": "https://localhost:8080/",
          "height": 606
        },
        "outputId": "7fce7c3e-c46b-4c58-9ab1-bfbc31b2bbcc"
      },
      "outputs": [
        {
          "output_type": "stream",
          "name": "stderr",
          "text": [
            "\u001b[1mRows: \u001b[22m\u001b[34m12685\u001b[39m \u001b[1mColumns: \u001b[22m\u001b[34m12\u001b[39m\n",
            "\u001b[36m──\u001b[39m \u001b[1mColumn specification\u001b[22m \u001b[36m────────────────────────────────────────────────────────\u001b[39m\n",
            "\u001b[1mDelimiter:\u001b[22m \",\"\n",
            "\u001b[32mdbl\u001b[39m (12): birth_year, male, poverty, family_income, weeks_unemployed, urban,...\n",
            "\n",
            "\u001b[36mℹ\u001b[39m Use `spec()` to retrieve the full column specification for this data.\n",
            "\u001b[36mℹ\u001b[39m Specify the column types or set `show_col_types = FALSE` to quiet this message.\n"
          ]
        },
        {
          "output_type": "stream",
          "name": "stdout",
          "text": [
            "[1] \"Number of individuals\"\n"
          ]
        },
        {
          "output_type": "display_data",
          "data": {
            "text/html": [
              "12685"
            ],
            "text/markdown": "12685",
            "text/latex": "12685",
            "text/plain": [
              "[1] 12685"
            ]
          },
          "metadata": {}
        },
        {
          "output_type": "display_data",
          "data": {
            "text/plain": [
              "   birth_year        male           poverty       family_income    \n",
              " Min.   :1957   Min.   :0.0000   Min.   :0.0000   Min.   :      0  \n",
              " 1st Qu.:1958   1st Qu.:0.0000   1st Qu.:0.0000   1st Qu.:  16500  \n",
              " Median :1960   Median :1.0000   Median :0.0000   Median :  37000  \n",
              " Mean   :1960   Mean   :0.5047   Mean   :0.2486   Mean   :  59232  \n",
              " 3rd Qu.:1962   3rd Qu.:1.0000   3rd Qu.:0.0000   3rd Qu.:  75001  \n",
              " Max.   :1964   Max.   :1.0000   Max.   :1.0000   Max.   :1057448  \n",
              "                                 NA's   :2491     NA's   :1020     \n",
              " weeks_unemployed     urban        number_of_jobs_ever number_children \n",
              " Min.   : 0.000   Min.   :0.0000   Min.   : 0.00       Min.   :0.0000  \n",
              " 1st Qu.: 0.000   1st Qu.:1.0000   1st Qu.: 7.00       1st Qu.:0.0000  \n",
              " Median : 0.000   Median :1.0000   Median :11.00       Median :0.0000  \n",
              " Mean   : 3.059   Mean   :0.7747   Mean   :12.19       Mean   :0.8568  \n",
              " 3rd Qu.: 0.000   3rd Qu.:1.0000   3rd Qu.:16.00       3rd Qu.:2.0000  \n",
              " Max.   :52.000   Max.   :1.0000   Max.   :58.00       Max.   :8.0000  \n",
              " NA's   :105      NA's   :565      NA's   :5384                        \n",
              " age_at_first_child hours_worked_in_week   education     educational_loans\n",
              " Min.   :11.0       Min.   :  0.0        Min.   :0.000   Min.   :    50   \n",
              " 1st Qu.:20.0       1st Qu.: 40.0        1st Qu.:1.000   1st Qu.:  2000   \n",
              " Median :24.0       Median : 40.0        Median :1.000   Median :  4000   \n",
              " Mean   :24.5       Mean   : 48.9        Mean   :1.852   Mean   :  7765   \n",
              " 3rd Qu.:28.0       3rd Qu.: 56.0        3rd Qu.:2.000   3rd Qu.:  9000   \n",
              " Max.   :51.0       Max.   :203.0        Max.   :8.000   Max.   :299988   \n",
              " NA's   :6690       NA's   :2123         NA's   :2290    NA's   :9794     "
            ]
          },
          "metadata": {}
        }
      ],
      "source": [
        "data <- read_csv(\"https://5harad.com/datasets/API201/nlsy79_2012.csv\")\n",
        "\n",
        "print(\"Number of individuals\")\n",
        "nrow(data)\n",
        "summary(data)"
      ]
    },
    {
      "cell_type": "markdown",
      "source": [
        "**Variable Description**\n",
        "\n",
        "Demographic Variables\n",
        "   - `birth_year`: The year in which the individual was born.\n",
        "   - `male`: A binary variable indicating gender, where 0 is female and 1 is male.\n",
        "   - `urban`: A binary variable indicating the type of area the individual lives in. 0 is for rural and 1 for urban or suburban.\n",
        "\n",
        "Economic Variables\n",
        "   - `family_income`: The total family income for the year, in dollars. Varies widely, with a minimum of 0 and a maximum over 1 million.\n",
        "   - `weeks_unemployed`: The number of weeks the individual was unemployed in the year. Ranges from 0 to 52 weeks.\n",
        "   - `number_of_jobs_ever`: The total number of jobs the individual has ever held as of 2012.\n",
        "   - `hours_worked_in_week`: The number of hours the individual typically works in a week, ranging from 0 to 203 hours.\n",
        "   - `poverty`: A binary variable indicating whether the individual is living in poverty. 0 means not in poverty, and 1 means in poverty.\n",
        "\n",
        "Education Variables\n",
        "   - `education`: A numerical variable indicating the individual's level of education:\n",
        "      1. Less than high school\n",
        "      2. Some high school\n",
        "      3. High school graduate\n",
        "      4. Some college\n",
        "      5. Associate's degree\n",
        "      6. Bachelor's degree\n",
        "      7. Master's or Professional degree\n",
        "      8. PhD degree\n",
        "   - `educational_loans`: The total amount of educational loans, in dollars, that the individual owes, ranging from 50 to 299,988 dollars.\n",
        "\n",
        "Fertility Variables\n",
        "  - `number_children`: The number of children the individual has, ranging from 0 to 8 children.\n",
        "  - `age_at_first_child`: The age at which the individual had their first child, ranging from 10 to 51 years.\n",
        "\n"
      ],
      "metadata": {
        "id": "swM4iFbrFNwY"
      },
      "id": "swM4iFbrFNwY"
    },
    {
      "cell_type": "markdown",
      "source": [
        "## Exercise 1\n",
        "It is important to understand how representative a dataset is of a population (in this case, all US adults of a certain age). Based on the summary data above, answer the following five high-level questions about the sample.\n",
        "\n",
        "- **How many people are included in the sample?**\n",
        "- **What is the average age of individuals in the sample (as of 2012 when the survey was taken)?**\n",
        "- **Is it balanced between men and women?**\n",
        "- **Is it balanced in terms of the number of people in poverty (for this, look up the US poverty rate online)?**\n",
        "- **Say there were 30 million adults in the US as of 2012 that were born between 1957 and 1964. What fraction of them are in this sample? Intuitively, do you believe this is enough to be representative?**\n"
      ],
      "metadata": {
        "id": "5Qpe9pOlGNnf"
      },
      "id": "5Qpe9pOlGNnf"
    },
    {
      "cell_type": "markdown",
      "source": [
        "### Your answer here!\n",
        "\n",
        "### START\n",
        "\n",
        "**How many people are included in the sample?**\n",
        "12,685\n",
        "\n",
        "**What is the average age of individuals in the sample (as of 2012 when the outcomes are for)?**\n",
        "The average birth year in the sample is 1960. As the outcomes are for the year 2012, the average age would be 2012 - 1960 = 52 years.\n",
        "\n",
        "**Is it balanced between men and women?**\n",
        "Yes, the mean value for the 'male' variable is 0.5047, which suggests that the sample is approximately balanced between men and women.\n",
        "\n",
        "**Is it balanced in terms of the number of people in poverty (look up the US poverty rate online)?**\n",
        "The mean value for the 'poverty' variable is 0.2486 or about 25%. According to U.S. Census data, the poverty rate in 2012 was around 15%. So, this sample has a higher proportion of people in poverty compared to the general population at that time. Or perhaps they use different measures of poverty.\n",
        "\n",
        "**Say there were 30 million adults in the US as of 2012 that were born between 1957 and 1964. What fraction of them are in this sample? Intuitively, do you believe this is enough to be representative?**\n",
        "12,685 / 30,000,000 = 0.000423, or 0.04%. While this seems small, a sample size of 12,685 is relatively large and can provide good statistical power.\n",
        "\n",
        "\n",
        "### END"
      ],
      "metadata": {
        "id": "UORLuLQRvHXG"
      },
      "id": "UORLuLQRvHXG"
    },
    {
      "cell_type": "markdown",
      "source": [
        "## Exercise 2\n",
        "**(a) Apply the `summary()` function to the vector of `family_income` to summarize its distribution in the sample. Are the mean and median different? If so, what does this indicate? Which measure of central tendency (mean, median, or mode) is most appropriate for summarizing `family_income`?**\n",
        "\n"
      ],
      "metadata": {
        "id": "JGcyYXc57JEJ"
      },
      "id": "JGcyYXc57JEJ"
    },
    {
      "cell_type": "code",
      "source": [
        "# Your answer here!\n",
        "\n",
        "# START\n",
        "summary(data$family_income)\n",
        "# END"
      ],
      "metadata": {
        "colab": {
          "base_uri": "https://localhost:8080/",
          "height": 53
        },
        "id": "1_e-AP4C71m_",
        "outputId": "1de6271a-e96e-48dc-8b03-1d72869bc47b"
      },
      "id": "1_e-AP4C71m_",
      "execution_count": null,
      "outputs": [
        {
          "output_type": "display_data",
          "data": {
            "text/plain": [
              "   Min. 1st Qu.  Median    Mean 3rd Qu.    Max.    NA's \n",
              "      0   16500   37000   59232   75001 1057448    1020 "
            ]
          },
          "metadata": {}
        }
      ]
    },
    {
      "cell_type": "markdown",
      "source": [
        "**(b) Discuss your results in the text cell below.**"
      ],
      "metadata": {
        "id": "ta87pZb0jxfp"
      },
      "id": "ta87pZb0jxfp"
    },
    {
      "cell_type": "markdown",
      "source": [
        "### Your answer here!\n",
        "\n",
        "### START\n",
        "\n",
        "The median is significantly less than the mean. There are a small number of people with very high incomes pulling up the average. Given this skewed distribution, the median would be a better measure.\n",
        "\n",
        "\n",
        "### END"
      ],
      "metadata": {
        "id": "j09pBHocwiuf"
      },
      "id": "j09pBHocwiuf"
    },
    {
      "cell_type": "markdown",
      "source": [
        "**(c) Use `summary()` to summarize the distribution of `weeks_unemployed` in the sample.**"
      ],
      "metadata": {
        "id": "y4Z6T1Ch73HK"
      },
      "id": "y4Z6T1Ch73HK"
    },
    {
      "cell_type": "code",
      "source": [
        "# Your answer here!\n",
        "\n",
        "# START\n",
        "summary(data$weeks_unemployed)\n",
        "# END"
      ],
      "metadata": {
        "colab": {
          "base_uri": "https://localhost:8080/",
          "height": 53
        },
        "id": "Z-DXQeHy72vK",
        "outputId": "1e78b596-dc00-4049-c3a0-90be1e7da8eb"
      },
      "id": "Z-DXQeHy72vK",
      "execution_count": null,
      "outputs": [
        {
          "output_type": "display_data",
          "data": {
            "text/plain": [
              "   Min. 1st Qu.  Median    Mean 3rd Qu.    Max.    NA's \n",
              "  0.000   0.000   0.000   3.059   0.000  52.000     105 "
            ]
          },
          "metadata": {}
        }
      ]
    },
    {
      "cell_type": "markdown",
      "source": [
        "**(d) Is the median a good representation of `weeks_unemployed`? Why or why not?**\n"
      ],
      "metadata": {
        "id": "Zlc4kDggRmQv"
      },
      "id": "Zlc4kDggRmQv"
    },
    {
      "cell_type": "markdown",
      "source": [
        "### Your answer here!\n",
        "\n",
        "### START\n",
        "\n",
        "No, because the median person is not unemployed, and thus has 0 weeks of unemployment in a year. This is not very informative. Thus the mean value of 3 weeks may be better.\n",
        "\n",
        "\n",
        "### END"
      ],
      "metadata": {
        "id": "5e2us98nxna0"
      },
      "id": "5e2us98nxna0"
    },
    {
      "cell_type": "markdown",
      "source": [
        "**(e) It is often helpful to visualize the distribution. Plot a histogram of `weeks_unemployed`.**\n",
        "\n",
        "*HINT*: You can use `geom_histogram` to plot a histogram, and can read more about using it [here](https://ggplot2.tidyverse.org/reference/geom_histogram.html)."
      ],
      "metadata": {
        "id": "jnGb_SmRxcuS"
      },
      "id": "jnGb_SmRxcuS"
    },
    {
      "cell_type": "code",
      "source": [
        "# Your answer here!\n",
        "\n",
        "# START\n",
        "ggplot(data, aes(x=weeks_unemployed)) +\n",
        "  geom_histogram() +\n",
        "  theme_bw()\n",
        "# END"
      ],
      "metadata": {
        "colab": {
          "base_uri": "https://localhost:8080/",
          "height": 491
        },
        "outputId": "83494175-daa9-4a7a-9e6e-b42d20487317",
        "id": "racCVLs_QtMJ"
      },
      "execution_count": null,
      "outputs": [
        {
          "output_type": "stream",
          "name": "stderr",
          "text": [
            "\u001b[1m\u001b[22m`stat_bin()` using `bins = 30`. Pick better value with `binwidth`.\n",
            "Warning message:\n",
            "“\u001b[1m\u001b[22mRemoved 105 rows containing non-finite values (`stat_bin()`).”\n"
          ]
        },
        {
          "output_type": "display_data",
          "data": {
            "text/plain": [
              "plot without title"
            ],
            "image/png": "[encoded data removed]"
          },
          "metadata": {
            "image/png": {
              "width": 420,
              "height": 420
            }
          }
        }
      ],
      "id": "racCVLs_QtMJ"
    },
    {
      "cell_type": "markdown",
      "source": [
        "**(f) What accounts for the shape of this distribution?**"
      ],
      "metadata": {
        "id": "nmhnPZykxy2e"
      },
      "id": "nmhnPZykxy2e"
    },
    {
      "cell_type": "markdown",
      "source": [
        "### Your answer here!\n",
        "\n",
        "### START\n",
        "\n",
        "There is a bi-modal distribution, with most people being employed all year (or most of it), and a small mass of people who are unemployed all year (52 weeks).\n",
        "\n",
        "\n",
        "### END"
      ],
      "metadata": {
        "id": "eqRFX3R5yNfw"
      },
      "id": "eqRFX3R5yNfw"
    },
    {
      "cell_type": "markdown",
      "source": [
        "**(g) Compute the proportion of people who are unemployed at some point.**"
      ],
      "metadata": {
        "id": "_W9-7ojzQtMI"
      },
      "id": "_W9-7ojzQtMI"
    },
    {
      "cell_type": "code",
      "source": [
        "# Your answer here!\n",
        "\n",
        "# START\n",
        "data %>%\n",
        "  summarize(ever_unemployed = mean(weeks_unemployed > 0, na.rm=TRUE))\n",
        "# END"
      ],
      "metadata": {
        "colab": {
          "base_uri": "https://localhost:8080/",
          "height": 129
        },
        "id": "mUGSD5jPRlYl",
        "outputId": "2c44d502-6b94-4d4f-f818-5558646cfc1f"
      },
      "id": "mUGSD5jPRlYl",
      "execution_count": null,
      "outputs": [
        {
          "output_type": "display_data",
          "data": {
            "text/html": [
              "<table class=\"dataframe\">\n",
              "<caption>A tibble: 1 × 1</caption>\n",
              "<thead>\n",
              "\t<tr><th scope=col>ever_unemployed</th></tr>\n",
              "\t<tr><th scope=col>&lt;dbl&gt;</th></tr>\n",
              "</thead>\n",
              "<tbody>\n",
              "\t<tr><td>0.1465819</td></tr>\n",
              "</tbody>\n",
              "</table>\n"
            ],
            "text/markdown": "\nA tibble: 1 × 1\n\n| ever_unemployed &lt;dbl&gt; |\n|---|\n| 0.1465819 |\n\n",
            "text/latex": "A tibble: 1 × 1\n\\begin{tabular}{l}\n ever\\_unemployed\\\\\n <dbl>\\\\\n\\hline\n\t 0.1465819\\\\\n\\end{tabular}\n",
            "text/plain": [
              "  ever_unemployed\n",
              "1 0.1465819      "
            ]
          },
          "metadata": {}
        }
      ]
    },
    {
      "cell_type": "markdown",
      "source": [
        "**(h) Comment on whether you think this is a good measure of unemployment.**"
      ],
      "metadata": {
        "id": "aJDktV3zkGrn"
      },
      "id": "aJDktV3zkGrn"
    },
    {
      "cell_type": "markdown",
      "source": [
        "### Your answer here!\n",
        "\n",
        "### START\n",
        "Yes, this is a useful measure of unemployment. But it has some limitations, since it does not distinguish between those who have long-term employment vs. those may simply have short gaps between jobs.\n",
        "### END"
      ],
      "metadata": {
        "id": "BOQkxXvsyCxx"
      },
      "id": "BOQkxXvsyCxx"
    },
    {
      "cell_type": "markdown",
      "source": [
        "## Exercise 3\n",
        "**(a) Compute the mean and standard deviation of `number_of_jobs_ever`.**\n",
        "\n",
        "*HINT*: The `sd` function allows you to compute the standard deviation of values. Don't forget `na.rm = TRUE`!"
      ],
      "metadata": {
        "id": "1BAtM0bJ7_X7"
      },
      "id": "1BAtM0bJ7_X7"
    },
    {
      "cell_type": "code",
      "source": [
        "# Your answer here!\n",
        "\n",
        "# START\n",
        "data %>%\n",
        "  summarize(\n",
        "    m = mean(number_of_jobs_ever, na.rm = TRUE),\n",
        "    s = sd(number_of_jobs_ever, na.rm = TRUE)\n",
        "  )\n",
        "# END"
      ],
      "metadata": {
        "colab": {
          "base_uri": "https://localhost:8080/",
          "height": 129
        },
        "id": "QjBUGMW67-Mf",
        "outputId": "936abb61-718f-4709-c6af-4635dd9b4e86"
      },
      "id": "QjBUGMW67-Mf",
      "execution_count": null,
      "outputs": [
        {
          "output_type": "display_data",
          "data": {
            "text/html": [
              "<table class=\"dataframe\">\n",
              "<caption>A tibble: 1 × 2</caption>\n",
              "<thead>\n",
              "\t<tr><th scope=col>m</th><th scope=col>s</th></tr>\n",
              "\t<tr><th scope=col>&lt;dbl&gt;</th><th scope=col>&lt;dbl&gt;</th></tr>\n",
              "</thead>\n",
              "<tbody>\n",
              "\t<tr><td>12.19011</td><td>7.034632</td></tr>\n",
              "</tbody>\n",
              "</table>\n"
            ],
            "text/markdown": "\nA tibble: 1 × 2\n\n| m &lt;dbl&gt; | s &lt;dbl&gt; |\n|---|---|\n| 12.19011 | 7.034632 |\n\n",
            "text/latex": "A tibble: 1 × 2\n\\begin{tabular}{ll}\n m & s\\\\\n <dbl> & <dbl>\\\\\n\\hline\n\t 12.19011 & 7.034632\\\\\n\\end{tabular}\n",
            "text/plain": [
              "  m        s       \n",
              "1 12.19011 7.034632"
            ]
          },
          "metadata": {}
        }
      ]
    },
    {
      "cell_type": "markdown",
      "source": [
        "**(b) Describe what these two statistics are telling us.**"
      ],
      "metadata": {
        "id": "of-f9obOkQX4"
      },
      "id": "of-f9obOkQX4"
    },
    {
      "cell_type": "markdown",
      "source": [
        "### Your answer here!\n",
        "\n",
        "### START\n",
        "By 2012, the average person had held 12 jobs. The standard deviation gives us a sense of how spread out the values are around the mean. With a standard deviation of 7 jobs, this means there is a lot of variation in the sample.\n",
        "### END\n"
      ],
      "metadata": {
        "id": "TnRZPq5MzzI6"
      },
      "id": "TnRZPq5MzzI6"
    },
    {
      "cell_type": "markdown",
      "source": [
        "**(c) How many years on average does someone hold a job?**\n",
        "\n",
        "*NOTE*: There are several acceptable ways to estimate this, but explain your logic."
      ],
      "metadata": {
        "id": "B90js-gAUyud"
      },
      "id": "B90js-gAUyud"
    },
    {
      "cell_type": "markdown",
      "source": [
        "### Your answer here!\n",
        "\n",
        "### START\n",
        "\n",
        "2.8 years per job.  The average age in the sample is 52 (average year of birth is 1960 for a survey year of 2012). Let's say the average person starts their first job at age 18. This equates to 34 working years. 34 years / 12 jobs = 2.8.\n",
        "\n",
        "### END"
      ],
      "metadata": {
        "id": "3pZo2nGDzeD2"
      },
      "id": "3pZo2nGDzeD2"
    },
    {
      "cell_type": "markdown",
      "source": [
        "## Exercise 4\n",
        "\n",
        "**(a) What is the mean number of children per person? What is the mode?**\n",
        "\n",
        "*HINT*: [count()](https://dplyr.tidyverse.org/reference/count.html) is a quick way to get the number of observations for each given value of a variable."
      ],
      "metadata": {
        "id": "J9-kSEYAZjmZ"
      },
      "id": "J9-kSEYAZjmZ"
    },
    {
      "cell_type": "code",
      "source": [
        "# Your answer here!\n",
        "\n",
        "# START\n",
        "data %>%\n",
        "  summarize(m = mean(number_children))\n",
        "\n",
        "data %>%\n",
        "  count(number_children)\n",
        "\n",
        "# END"
      ],
      "metadata": {
        "colab": {
          "base_uri": "https://localhost:8080/",
          "height": 510
        },
        "id": "TTgOLsfAZkGM",
        "outputId": "e668f5a8-ffde-4f8c-cbbf-0a6843e63dd0"
      },
      "id": "TTgOLsfAZkGM",
      "execution_count": null,
      "outputs": [
        {
          "output_type": "display_data",
          "data": {
            "text/html": [
              "<table class=\"dataframe\">\n",
              "<caption>A tibble: 1 × 1</caption>\n",
              "<thead>\n",
              "\t<tr><th scope=col>m</th></tr>\n",
              "\t<tr><th scope=col>&lt;dbl&gt;</th></tr>\n",
              "</thead>\n",
              "<tbody>\n",
              "\t<tr><td>0.8568388</td></tr>\n",
              "</tbody>\n",
              "</table>\n"
            ],
            "text/markdown": "\nA tibble: 1 × 1\n\n| m &lt;dbl&gt; |\n|---|\n| 0.8568388 |\n\n",
            "text/latex": "A tibble: 1 × 1\n\\begin{tabular}{l}\n m\\\\\n <dbl>\\\\\n\\hline\n\t 0.8568388\\\\\n\\end{tabular}\n",
            "text/plain": [
              "  m        \n",
              "1 0.8568388"
            ]
          },
          "metadata": {}
        },
        {
          "output_type": "display_data",
          "data": {
            "text/html": [
              "<table class=\"dataframe\">\n",
              "<caption>A spec_tbl_df: 9 × 2</caption>\n",
              "<thead>\n",
              "\t<tr><th scope=col>number_children</th><th scope=col>n</th></tr>\n",
              "\t<tr><th scope=col>&lt;dbl&gt;</th><th scope=col>&lt;int&gt;</th></tr>\n",
              "</thead>\n",
              "<tbody>\n",
              "\t<tr><td>0</td><td>6525</td></tr>\n",
              "\t<tr><td>1</td><td>2861</td></tr>\n",
              "\t<tr><td>2</td><td>2247</td></tr>\n",
              "\t<tr><td>3</td><td> 777</td></tr>\n",
              "\t<tr><td>4</td><td> 218</td></tr>\n",
              "\t<tr><td>5</td><td>  37</td></tr>\n",
              "\t<tr><td>6</td><td>  15</td></tr>\n",
              "\t<tr><td>7</td><td>   4</td></tr>\n",
              "\t<tr><td>8</td><td>   1</td></tr>\n",
              "</tbody>\n",
              "</table>\n"
            ],
            "text/markdown": "\nA spec_tbl_df: 9 × 2\n\n| number_children &lt;dbl&gt; | n &lt;int&gt; |\n|---|---|\n| 0 | 6525 |\n| 1 | 2861 |\n| 2 | 2247 |\n| 3 |  777 |\n| 4 |  218 |\n| 5 |   37 |\n| 6 |   15 |\n| 7 |    4 |\n| 8 |    1 |\n\n",
            "text/latex": "A spec\\_tbl\\_df: 9 × 2\n\\begin{tabular}{ll}\n number\\_children & n\\\\\n <dbl> & <int>\\\\\n\\hline\n\t 0 & 6525\\\\\n\t 1 & 2861\\\\\n\t 2 & 2247\\\\\n\t 3 &  777\\\\\n\t 4 &  218\\\\\n\t 5 &   37\\\\\n\t 6 &   15\\\\\n\t 7 &    4\\\\\n\t 8 &    1\\\\\n\\end{tabular}\n",
            "text/plain": [
              "  number_children n   \n",
              "1 0               6525\n",
              "2 1               2861\n",
              "3 2               2247\n",
              "4 3                777\n",
              "5 4                218\n",
              "6 5                 37\n",
              "7 6                 15\n",
              "8 7                  4\n",
              "9 8                  1"
            ]
          },
          "metadata": {}
        }
      ]
    },
    {
      "cell_type": "markdown",
      "source": [
        "### Your answer here!\n",
        "### Use this space to say what the mean and mode are based on your calculations above\n",
        "\n",
        "### START\n",
        "The mean number of children is approximately 0.9 per person.\n",
        "The mode, or the most frequent number of children, is 0.\n",
        "### END"
      ],
      "metadata": {
        "id": "3gMb2-pb1T_O"
      },
      "id": "3gMb2-pb1T_O"
    },
    {
      "cell_type": "markdown",
      "source": [
        "**(b) Considering the US fertility rate in 2012 was 1.88 births per woman, is this lower than you thought? Why might account for the difference?**"
      ],
      "metadata": {
        "id": "JKjwUjLtbLYQ"
      },
      "id": "JKjwUjLtbLYQ"
    },
    {
      "cell_type": "markdown",
      "source": [
        "### Your answer here!\n",
        "\n",
        "### START\n",
        "\n",
        "Accept any reasonable answer....could include lack of sample representativeness, differences by sex, time to fertility completion, household composition.\n",
        "\n",
        "\n",
        "### END"
      ],
      "metadata": {
        "id": "VIs-Ivbizv_m"
      },
      "id": "VIs-Ivbizv_m"
    },
    {
      "cell_type": "markdown",
      "source": [
        "**(c) What is the mean `age_at_first_child`? Compute the average `age_at_first_child` for each `number_children`. Finally, compute the correlation between `number_children` and `age_at_first_child`.**\n",
        "\n",
        "HINT: You can use `cor()` to compute the correlation between two variables. Add `use = \"pairwise.complete.obs` to your `cor()` command to remove `NA` values."
      ],
      "metadata": {
        "id": "ht_V8w_p8Vb8"
      },
      "id": "ht_V8w_p8Vb8"
    },
    {
      "cell_type": "code",
      "source": [
        "# Your answer here!\n",
        "\n",
        "# START\n",
        "mean(data$age_at_first_child, na.rm=TRUE)\n",
        "\n",
        "data %>%\n",
        "  group_by(number_children) %>%\n",
        "  summarize(mean_age_at_first_child = mean(age_at_first_child, na.rm=TRUE))\n",
        "\n",
        "cor(data$number_children, data$age_at_first_child, use = \"pairwise.complete.obs\")\n",
        "# END"
      ],
      "metadata": {
        "colab": {
          "base_uri": "https://localhost:8080/",
          "height": 415
        },
        "id": "kvlgiRvw8Vb8",
        "outputId": "a9b0588d-29ea-4ab4-d9a2-feee2afb2242"
      },
      "execution_count": null,
      "outputs": [
        {
          "output_type": "display_data",
          "data": {
            "text/html": [
              "24.4985821517932"
            ],
            "text/markdown": "24.4985821517932",
            "text/latex": "24.4985821517932",
            "text/plain": [
              "[1] 24.49858"
            ]
          },
          "metadata": {}
        },
        {
          "output_type": "display_data",
          "data": {
            "text/html": [
              "<table class=\"dataframe\">\n",
              "<caption>A tibble: 9 × 2</caption>\n",
              "<thead>\n",
              "\t<tr><th scope=col>number_children</th><th scope=col>mean_age_at_first_child</th></tr>\n",
              "\t<tr><th scope=col>&lt;dbl&gt;</th><th scope=col>&lt;dbl&gt;</th></tr>\n",
              "</thead>\n",
              "<tbody>\n",
              "\t<tr><td>0</td><td>     NaN</td></tr>\n",
              "\t<tr><td>1</td><td>24.35343</td></tr>\n",
              "\t<tr><td>2</td><td>25.11781</td></tr>\n",
              "\t<tr><td>3</td><td>23.99477</td></tr>\n",
              "\t<tr><td>4</td><td>22.47907</td></tr>\n",
              "\t<tr><td>5</td><td>22.70270</td></tr>\n",
              "\t<tr><td>6</td><td>19.61538</td></tr>\n",
              "\t<tr><td>7</td><td>22.25000</td></tr>\n",
              "\t<tr><td>8</td><td>16.00000</td></tr>\n",
              "</tbody>\n",
              "</table>\n"
            ],
            "text/markdown": "\nA tibble: 9 × 2\n\n| number_children &lt;dbl&gt; | mean_age_at_first_child &lt;dbl&gt; |\n|---|---|\n| 0 |      NaN |\n| 1 | 24.35343 |\n| 2 | 25.11781 |\n| 3 | 23.99477 |\n| 4 | 22.47907 |\n| 5 | 22.70270 |\n| 6 | 19.61538 |\n| 7 | 22.25000 |\n| 8 | 16.00000 |\n\n",
            "text/latex": "A tibble: 9 × 2\n\\begin{tabular}{ll}\n number\\_children & mean\\_age\\_at\\_first\\_child\\\\\n <dbl> & <dbl>\\\\\n\\hline\n\t 0 &      NaN\\\\\n\t 1 & 24.35343\\\\\n\t 2 & 25.11781\\\\\n\t 3 & 23.99477\\\\\n\t 4 & 22.47907\\\\\n\t 5 & 22.70270\\\\\n\t 6 & 19.61538\\\\\n\t 7 & 22.25000\\\\\n\t 8 & 16.00000\\\\\n\\end{tabular}\n",
            "text/plain": [
              "  number_children mean_age_at_first_child\n",
              "1 0                    NaN               \n",
              "2 1               24.35343               \n",
              "3 2               25.11781               \n",
              "4 3               23.99477               \n",
              "5 4               22.47907               \n",
              "6 5               22.70270               \n",
              "7 6               19.61538               \n",
              "8 7               22.25000               \n",
              "9 8               16.00000               "
            ]
          },
          "metadata": {}
        },
        {
          "output_type": "display_data",
          "data": {
            "text/html": [
              "-0.0443086740869675"
            ],
            "text/markdown": "-0.0443086740869675",
            "text/latex": "-0.0443086740869675",
            "text/plain": [
              "[1] -0.04430867"
            ]
          },
          "metadata": {}
        }
      ],
      "id": "kvlgiRvw8Vb8"
    },
    {
      "cell_type": "markdown",
      "source": [
        "**(d) What does this table tell us about fertility patterns?**"
      ],
      "metadata": {
        "id": "hH8pIEioz9Mk"
      },
      "id": "hH8pIEioz9Mk"
    },
    {
      "cell_type": "markdown",
      "source": [
        "### Your answer here!\n",
        "\n",
        "### START\n",
        "\n",
        "Overall, there does not appear to be much correlation between when someone has their first child and how many children they have. Though people with 4+ children do tend to start earlier, than people with 1-3 children. But the former group is relatively small.\n",
        "\n",
        "### END"
      ],
      "metadata": {
        "id": "OCJ8j2qU0DJ4"
      },
      "id": "OCJ8j2qU0DJ4"
    },
    {
      "cell_type": "markdown",
      "source": [
        "## Exercise 5\n",
        "\n",
        "**(a) Create a histogram of `family_income`. Include appropriate axis labels.**\n",
        "\n",
        "*HINT*: You can pass in `labels = comma` to your `scale_` command to avoid scientific notation."
      ],
      "metadata": {
        "id": "qr_KRXRN8Vu4"
      },
      "id": "qr_KRXRN8Vu4"
    },
    {
      "cell_type": "code",
      "source": [
        "# Your answer here!\n",
        "\n",
        "# START\n",
        "ggplot(data, aes(x=family_income)) +\n",
        "  geom_histogram() +\n",
        "  scale_x_continuous(name = \"Family Income\", labels = comma) +\n",
        "  scale_y_continuous(name = \"Frequency\") +\n",
        "  theme_bw()\n",
        "# END"
      ],
      "metadata": {
        "colab": {
          "base_uri": "https://localhost:8080/",
          "height": 491
        },
        "id": "Mrb_H-Fk8Vu5",
        "outputId": "384c0e07-a071-4f09-92c8-18861c0c5ced"
      },
      "execution_count": null,
      "outputs": [
        {
          "output_type": "stream",
          "name": "stderr",
          "text": [
            "\u001b[1m\u001b[22m`stat_bin()` using `bins = 30`. Pick better value with `binwidth`.\n",
            "Warning message:\n",
            "“\u001b[1m\u001b[22mRemoved 1020 rows containing non-finite values (`stat_bin()`).”\n"
          ]
        },
        {
          "output_type": "display_data",
          "data": {
            "text/plain": [
              "plot without title"
            ],
            "image/png": "[encoded data removed]"
          },
          "metadata": {
            "image/png": {
              "width": 420,
              "height": 420
            }
          }
        }
      ],
      "id": "Mrb_H-Fk8Vu5"
    },
    {
      "cell_type": "markdown",
      "source": [
        "**(b) Briefly describe what the shape of this distributions tells us.**"
      ],
      "metadata": {
        "id": "tiUZCP3KlZ_V"
      },
      "id": "tiUZCP3KlZ_V"
    },
    {
      "cell_type": "markdown",
      "source": [
        "### Your answer here!\n",
        "\n",
        "### START\n",
        "The histogram is skewed to the right, as we would expect, indicating that most people have lower family incomes. There also appears to be bunching in reporting of income somewhere around $400,000.\n",
        "### END"
      ],
      "metadata": {
        "id": "ARCUZ1K46_G9"
      },
      "id": "ARCUZ1K46_G9"
    },
    {
      "cell_type": "markdown",
      "source": [
        "**(c) Summarize family income at each level of education. Then make a line plot to visualize the relationship between education and family income.**\n",
        "\n",
        "Recall that `education` is a numerical variable indicating the individual's level of education:\n",
        "\n",
        "      1. Less than high school\n",
        "      2. Some high school\n",
        "      3. High school graduate\n",
        "      4. Some college\n",
        "      5. Associate's degree\n",
        "      6. Bachelor's degree\n",
        "      7. Master's or Professional degree\n",
        "      8. PhD degree\n",
        "\n"
      ],
      "metadata": {
        "id": "RZvLCyS98V0a"
      },
      "id": "RZvLCyS98V0a"
    },
    {
      "cell_type": "code",
      "source": [
        "# Your answer here!\n",
        "\n",
        "# START\n",
        "income_by_education <- data %>%\n",
        "    group_by(education) %>%\n",
        "    summarize(family_income=mean(family_income, na.rm=TRUE))\n",
        "\n",
        "income_by_education\n",
        "\n",
        "ggplot(income_by_education, aes(x=education, y=family_income)) +\n",
        "  geom_point() +\n",
        "  geom_line() +\n",
        "  scale_x_continuous(name = \"Education Level\") +\n",
        "  scale_y_continuous(name = \"Family Income\", labels = comma) +\n",
        "  theme_bw()\n",
        "# END"
      ],
      "metadata": {
        "colab": {
          "base_uri": "https://localhost:8080/",
          "height": 903
        },
        "id": "gePqm8Ej8V0a",
        "outputId": "7cd98780-06f0-4f04-9c84-9dbdf9e38358"
      },
      "execution_count": null,
      "outputs": [
        {
          "output_type": "display_data",
          "data": {
            "text/html": [
              "<table class=\"dataframe\">\n",
              "<caption>A tibble: 10 × 2</caption>\n",
              "<thead>\n",
              "\t<tr><th scope=col>education</th><th scope=col>family_income</th></tr>\n",
              "\t<tr><th scope=col>&lt;dbl&gt;</th><th scope=col>&lt;dbl&gt;</th></tr>\n",
              "</thead>\n",
              "<tbody>\n",
              "\t<tr><td> 0</td><td> 31479.03</td></tr>\n",
              "\t<tr><td> 1</td><td> 52553.82</td></tr>\n",
              "\t<tr><td> 2</td><td> 72155.78</td></tr>\n",
              "\t<tr><td> 3</td><td>108730.85</td></tr>\n",
              "\t<tr><td> 4</td><td>108554.24</td></tr>\n",
              "\t<tr><td> 5</td><td>128565.07</td></tr>\n",
              "\t<tr><td> 6</td><td>175250.26</td></tr>\n",
              "\t<tr><td> 7</td><td>207624.82</td></tr>\n",
              "\t<tr><td> 8</td><td> 84033.90</td></tr>\n",
              "\t<tr><td>NA</td><td> 21222.75</td></tr>\n",
              "</tbody>\n",
              "</table>\n"
            ],
            "text/markdown": "\nA tibble: 10 × 2\n\n| education &lt;dbl&gt; | family_income &lt;dbl&gt; |\n|---|---|\n|  0 |  31479.03 |\n|  1 |  52553.82 |\n|  2 |  72155.78 |\n|  3 | 108730.85 |\n|  4 | 108554.24 |\n|  5 | 128565.07 |\n|  6 | 175250.26 |\n|  7 | 207624.82 |\n|  8 |  84033.90 |\n| NA |  21222.75 |\n\n",
            "text/latex": "A tibble: 10 × 2\n\\begin{tabular}{ll}\n education & family\\_income\\\\\n <dbl> & <dbl>\\\\\n\\hline\n\t  0 &  31479.03\\\\\n\t  1 &  52553.82\\\\\n\t  2 &  72155.78\\\\\n\t  3 & 108730.85\\\\\n\t  4 & 108554.24\\\\\n\t  5 & 128565.07\\\\\n\t  6 & 175250.26\\\\\n\t  7 & 207624.82\\\\\n\t  8 &  84033.90\\\\\n\t NA &  21222.75\\\\\n\\end{tabular}\n",
            "text/plain": [
              "   education family_income\n",
              "1   0         31479.03    \n",
              "2   1         52553.82    \n",
              "3   2         72155.78    \n",
              "4   3        108730.85    \n",
              "5   4        108554.24    \n",
              "6   5        128565.07    \n",
              "7   6        175250.26    \n",
              "8   7        207624.82    \n",
              "9   8         84033.90    \n",
              "10 NA         21222.75    "
            ]
          },
          "metadata": {}
        },
        {
          "output_type": "stream",
          "name": "stderr",
          "text": [
            "Warning message:\n",
            "“\u001b[1m\u001b[22mRemoved 1 rows containing missing values (`geom_point()`).”\n",
            "Warning message:\n",
            "“\u001b[1m\u001b[22mRemoved 1 row containing missing values (`geom_line()`).”\n"
          ]
        },
        {
          "output_type": "display_data",
          "data": {
            "text/plain": [
              "plot without title"
            ],
            "image/png": "[encoded data removed]"
          },
          "metadata": {
            "image/png": {
              "width": 420,
              "height": 420
            }
          }
        }
      ],
      "id": "gePqm8Ej8V0a"
    },
    {
      "cell_type": "markdown",
      "source": [
        "**(d) What is the relationship between education level and family income? Does this relationship imply that education _causes_ higher income? If not, explain what else might be driving the pattern.**"
      ],
      "metadata": {
        "id": "-znpaamo9oOq"
      },
      "id": "-znpaamo9oOq"
    },
    {
      "cell_type": "markdown",
      "source": [
        "### Your answer here!\n",
        "\n",
        "### START\n",
        "\n",
        "The plot suggests a strong positive relationship between education and family income. However, there is a drop among PhDs, which may due to lower salaries in academia compared to people with professional degrees (MBAs, MDs, lawyers).\n",
        "\n",
        "And no, correlation does not imply causation! It simply shows that there is a relationship between the two variables. In theory, it may simply be that people how grew up wealthy both tend to be wealthy themselves, and tend to pursue more education, even if that education does not directly impact their own earnings.\n",
        "### END"
      ],
      "metadata": {
        "id": "8bAPUBxO0yBt"
      },
      "id": "8bAPUBxO0yBt"
    },
    {
      "cell_type": "markdown",
      "source": [
        "## Exercise 6\n",
        "\n",
        "**(a) Student loans: create a similar line plot as the one above, except now  show mean family income at each quintile of educational debt.**\n",
        "\n",
        "To get started, run the cell below to create the `edu_loan_quintile` column, which divides student loan amounts into 5 groups, with 1 being the lowest amount of student debt, and 5 being the highest. (To create quintiles, we use the handy [ntile()](https://dplyr.tidyverse.org/reference/ntile.html) function.)"
      ],
      "metadata": {
        "id": "FE3HVbaS8Vnr"
      },
      "id": "FE3HVbaS8Vnr"
    },
    {
      "cell_type": "code",
      "source": [
        "data <- data %>%\n",
        "  mutate(edu_loan_quintile = ntile(educational_loans, 5))"
      ],
      "metadata": {
        "id": "f291GlfDgQpN"
      },
      "id": "f291GlfDgQpN",
      "execution_count": null,
      "outputs": []
    },
    {
      "cell_type": "code",
      "source": [
        "# Your answer here!\n",
        "\n",
        "# START\n",
        "income_by_debt <- data %>%\n",
        "    group_by(edu_loan_quintile) %>%\n",
        "    summarize(family_income = mean(family_income, na.rm=TRUE))\n",
        "\n",
        "income_by_debt\n",
        "\n",
        "ggplot(income_by_debt, aes(x=edu_loan_quintile, y=family_income)) +\n",
        "  geom_point() +\n",
        "  geom_line() +\n",
        "  scale_x_continuous(name = \"Quintile of eductional loans\") +\n",
        "  scale_y_continuous(name = \"Family Income\", labels = comma) +\n",
        "  theme_bw()\n",
        "# END"
      ],
      "metadata": {
        "colab": {
          "base_uri": "https://localhost:8080/",
          "height": 778
        },
        "id": "e7NRRMwr8Vns",
        "outputId": "e61b42eb-d790-4f91-ba61-fdbbfa365250"
      },
      "execution_count": null,
      "outputs": [
        {
          "output_type": "display_data",
          "data": {
            "text/html": [
              "<table class=\"dataframe\">\n",
              "<caption>A tibble: 6 × 2</caption>\n",
              "<thead>\n",
              "\t<tr><th scope=col>edu_loan_quintile</th><th scope=col>family_income</th></tr>\n",
              "\t<tr><th scope=col>&lt;int&gt;</th><th scope=col>&lt;dbl&gt;</th></tr>\n",
              "</thead>\n",
              "<tbody>\n",
              "\t<tr><td> 1</td><td> 65060.30</td></tr>\n",
              "\t<tr><td> 2</td><td> 79034.81</td></tr>\n",
              "\t<tr><td> 3</td><td> 86193.37</td></tr>\n",
              "\t<tr><td> 4</td><td> 99666.19</td></tr>\n",
              "\t<tr><td> 5</td><td>105446.06</td></tr>\n",
              "\t<tr><td>NA</td><td> 50932.13</td></tr>\n",
              "</tbody>\n",
              "</table>\n"
            ],
            "text/markdown": "\nA tibble: 6 × 2\n\n| edu_loan_quintile &lt;int&gt; | family_income &lt;dbl&gt; |\n|---|---|\n|  1 |  65060.30 |\n|  2 |  79034.81 |\n|  3 |  86193.37 |\n|  4 |  99666.19 |\n|  5 | 105446.06 |\n| NA |  50932.13 |\n\n",
            "text/latex": "A tibble: 6 × 2\n\\begin{tabular}{ll}\n edu\\_loan\\_quintile & family\\_income\\\\\n <int> & <dbl>\\\\\n\\hline\n\t  1 &  65060.30\\\\\n\t  2 &  79034.81\\\\\n\t  3 &  86193.37\\\\\n\t  4 &  99666.19\\\\\n\t  5 & 105446.06\\\\\n\t NA &  50932.13\\\\\n\\end{tabular}\n",
            "text/plain": [
              "  edu_loan_quintile family_income\n",
              "1  1                 65060.30    \n",
              "2  2                 79034.81    \n",
              "3  3                 86193.37    \n",
              "4  4                 99666.19    \n",
              "5  5                105446.06    \n",
              "6 NA                 50932.13    "
            ]
          },
          "metadata": {}
        },
        {
          "output_type": "stream",
          "name": "stderr",
          "text": [
            "Warning message:\n",
            "“\u001b[1m\u001b[22mRemoved 1 rows containing missing values (`geom_point()`).”\n",
            "Warning message:\n",
            "“\u001b[1m\u001b[22mRemoved 1 row containing missing values (`geom_line()`).”\n"
          ]
        },
        {
          "output_type": "display_data",
          "data": {
            "text/plain": [
              "plot without title"
            ],
            "image/png": "[encoded data removed]"
          },
          "metadata": {
            "image/png": {
              "width": 420,
              "height": 420
            }
          }
        }
      ],
      "id": "e7NRRMwr8Vns"
    },
    {
      "cell_type": "markdown",
      "source": [
        " **(b) What is the general relationship between family income and student debt? Why might some people be concerned that student loan forgiveness is a regressive policy?**"
      ],
      "metadata": {
        "id": "ajKPZLO9hwGM"
      },
      "id": "ajKPZLO9hwGM"
    },
    {
      "cell_type": "markdown",
      "source": [
        "### Your answer here!\n",
        "\n",
        "### START\n",
        "People with the highest student debt also have the highest family income. A regressive policy is one that advantages the wealthy. In this case, student loan forgiveness is more likely to help high income people than low income people.\n",
        "### END"
      ],
      "metadata": {
        "id": "CCBSq2p41MdT"
      },
      "id": "CCBSq2p41MdT"
    },
    {
      "cell_type": "markdown",
      "source": [
        "## Exercise 7\n",
        "\n",
        "We previously used the `cor()` function to compute the correlation between two variables. More generally, the `cor()` function can be used to create a correlation matrix for all combinations of variables in a dataset."
      ],
      "metadata": {
        "id": "WOch3Gp89pnt"
      },
      "id": "WOch3Gp89pnt"
    },
    {
      "cell_type": "code",
      "source": [
        "# Run this code\n",
        "cor_matrix <- cor(data, use = \"pairwise.complete.obs\")\n",
        "round(cor_matrix, 3) # This rounds the output to 3 decimal places for ease of reading\n"
      ],
      "metadata": {
        "colab": {
          "base_uri": "https://localhost:8080/",
          "height": 494
        },
        "id": "r2wyDYyU9pnt",
        "outputId": "8afbcc61-4621-44a4-f86a-c9ab8ba9a592"
      },
      "execution_count": null,
      "outputs": [
        {
          "output_type": "display_data",
          "data": {
            "text/html": [
              "<table class=\"dataframe\">\n",
              "<caption>A matrix: 13 × 13 of type dbl</caption>\n",
              "<thead>\n",
              "\t<tr><th></th><th scope=col>birth_year</th><th scope=col>male</th><th scope=col>poverty</th><th scope=col>family_income</th><th scope=col>weeks_unemployed</th><th scope=col>urban</th><th scope=col>number_of_jobs_ever</th><th scope=col>number_children</th><th scope=col>age_at_first_child</th><th scope=col>hours_worked_in_week</th><th scope=col>education</th><th scope=col>educational_loans</th><th scope=col>edu_loan_quintile</th></tr>\n",
              "</thead>\n",
              "<tbody>\n",
              "\t<tr><th scope=row>birth_year</th><td> 1.000</td><td> 0.008</td><td> 0.096</td><td> 0.060</td><td> 0.025</td><td>-0.014</td><td> 0.136</td><td> 0.057</td><td> 0.037</td><td> 0.043</td><td>-0.043</td><td> 0.059</td><td> 0.077</td></tr>\n",
              "\t<tr><th scope=row>male</th><td> 0.008</td><td> 1.000</td><td>-0.044</td><td> 0.019</td><td> 0.054</td><td> 0.002</td><td> 0.096</td><td>-0.106</td><td> 0.204</td><td> 0.155</td><td>-0.041</td><td>-0.050</td><td>-0.039</td></tr>\n",
              "\t<tr><th scope=row>poverty</th><td> 0.096</td><td>-0.044</td><td> 1.000</td><td>-0.178</td><td> 0.055</td><td> 0.005</td><td>-0.031</td><td> 0.011</td><td>-0.212</td><td>-0.017</td><td>-0.133</td><td>-0.020</td><td>-0.071</td></tr>\n",
              "\t<tr><th scope=row>family_income</th><td> 0.060</td><td> 0.019</td><td>-0.178</td><td> 1.000</td><td>-0.140</td><td> 0.034</td><td>-0.075</td><td> 0.140</td><td> 0.345</td><td> 0.016</td><td> 0.335</td><td> 0.103</td><td> 0.150</td></tr>\n",
              "\t<tr><th scope=row>weeks_unemployed</th><td> 0.025</td><td> 0.054</td><td> 0.055</td><td>-0.140</td><td> 1.000</td><td> 0.016</td><td> 0.112</td><td>-0.075</td><td>-0.057</td><td> 0.102</td><td>-0.081</td><td> 0.019</td><td>-0.003</td></tr>\n",
              "\t<tr><th scope=row>urban</th><td>-0.014</td><td> 0.002</td><td> 0.005</td><td> 0.034</td><td> 0.016</td><td> 1.000</td><td> 0.051</td><td>-0.015</td><td> 0.064</td><td>-0.007</td><td> 0.045</td><td> 0.033</td><td> 0.032</td></tr>\n",
              "\t<tr><th scope=row>number_of_jobs_ever</th><td> 0.136</td><td> 0.096</td><td>-0.031</td><td>-0.075</td><td> 0.112</td><td> 0.051</td><td> 1.000</td><td>-0.071</td><td> 0.074</td><td> 0.223</td><td> 0.052</td><td> 0.103</td><td> 0.120</td></tr>\n",
              "\t<tr><th scope=row>number_children</th><td> 0.057</td><td>-0.106</td><td> 0.011</td><td> 0.140</td><td>-0.075</td><td>-0.015</td><td>-0.071</td><td> 1.000</td><td>-0.044</td><td>-0.039</td><td> 0.088</td><td>-0.014</td><td> 0.027</td></tr>\n",
              "\t<tr><th scope=row>age_at_first_child</th><td> 0.037</td><td> 0.204</td><td>-0.212</td><td> 0.345</td><td>-0.057</td><td> 0.064</td><td> 0.074</td><td>-0.044</td><td> 1.000</td><td> 0.026</td><td> 0.340</td><td> 0.047</td><td> 0.140</td></tr>\n",
              "\t<tr><th scope=row>hours_worked_in_week</th><td> 0.043</td><td> 0.155</td><td>-0.017</td><td> 0.016</td><td> 0.102</td><td>-0.007</td><td> 0.223</td><td>-0.039</td><td> 0.026</td><td> 1.000</td><td> 0.002</td><td> 0.065</td><td> 0.037</td></tr>\n",
              "\t<tr><th scope=row>education</th><td>-0.043</td><td>-0.041</td><td>-0.133</td><td> 0.335</td><td>-0.081</td><td> 0.045</td><td> 0.052</td><td> 0.088</td><td> 0.340</td><td> 0.002</td><td> 1.000</td><td> 0.287</td><td> 0.383</td></tr>\n",
              "\t<tr><th scope=row>educational_loans</th><td> 0.059</td><td>-0.050</td><td>-0.020</td><td> 0.103</td><td> 0.019</td><td> 0.033</td><td> 0.103</td><td>-0.014</td><td> 0.047</td><td> 0.065</td><td> 0.287</td><td> 1.000</td><td> 0.597</td></tr>\n",
              "\t<tr><th scope=row>edu_loan_quintile</th><td> 0.077</td><td>-0.039</td><td>-0.071</td><td> 0.150</td><td>-0.003</td><td> 0.032</td><td> 0.120</td><td> 0.027</td><td> 0.140</td><td> 0.037</td><td> 0.383</td><td> 0.597</td><td> 1.000</td></tr>\n",
              "</tbody>\n",
              "</table>\n"
            ],
            "text/markdown": "\nA matrix: 13 × 13 of type dbl\n\n| <!--/--> | birth_year | male | poverty | family_income | weeks_unemployed | urban | number_of_jobs_ever | number_children | age_at_first_child | hours_worked_in_week | education | educational_loans | edu_loan_quintile |\n|---|---|---|---|---|---|---|---|---|---|---|---|---|---|\n| birth_year |  1.000 |  0.008 |  0.096 |  0.060 |  0.025 | -0.014 |  0.136 |  0.057 |  0.037 |  0.043 | -0.043 |  0.059 |  0.077 |\n| male |  0.008 |  1.000 | -0.044 |  0.019 |  0.054 |  0.002 |  0.096 | -0.106 |  0.204 |  0.155 | -0.041 | -0.050 | -0.039 |\n| poverty |  0.096 | -0.044 |  1.000 | -0.178 |  0.055 |  0.005 | -0.031 |  0.011 | -0.212 | -0.017 | -0.133 | -0.020 | -0.071 |\n| family_income |  0.060 |  0.019 | -0.178 |  1.000 | -0.140 |  0.034 | -0.075 |  0.140 |  0.345 |  0.016 |  0.335 |  0.103 |  0.150 |\n| weeks_unemployed |  0.025 |  0.054 |  0.055 | -0.140 |  1.000 |  0.016 |  0.112 | -0.075 | -0.057 |  0.102 | -0.081 |  0.019 | -0.003 |\n| urban | -0.014 |  0.002 |  0.005 |  0.034 |  0.016 |  1.000 |  0.051 | -0.015 |  0.064 | -0.007 |  0.045 |  0.033 |  0.032 |\n| number_of_jobs_ever |  0.136 |  0.096 | -0.031 | -0.075 |  0.112 |  0.051 |  1.000 | -0.071 |  0.074 |  0.223 |  0.052 |  0.103 |  0.120 |\n| number_children |  0.057 | -0.106 |  0.011 |  0.140 | -0.075 | -0.015 | -0.071 |  1.000 | -0.044 | -0.039 |  0.088 | -0.014 |  0.027 |\n| age_at_first_child |  0.037 |  0.204 | -0.212 |  0.345 | -0.057 |  0.064 |  0.074 | -0.044 |  1.000 |  0.026 |  0.340 |  0.047 |  0.140 |\n| hours_worked_in_week |  0.043 |  0.155 | -0.017 |  0.016 |  0.102 | -0.007 |  0.223 | -0.039 |  0.026 |  1.000 |  0.002 |  0.065 |  0.037 |\n| education | -0.043 | -0.041 | -0.133 |  0.335 | -0.081 |  0.045 |  0.052 |  0.088 |  0.340 |  0.002 |  1.000 |  0.287 |  0.383 |\n| educational_loans |  0.059 | -0.050 | -0.020 |  0.103 |  0.019 |  0.033 |  0.103 | -0.014 |  0.047 |  0.065 |  0.287 |  1.000 |  0.597 |\n| edu_loan_quintile |  0.077 | -0.039 | -0.071 |  0.150 | -0.003 |  0.032 |  0.120 |  0.027 |  0.140 |  0.037 |  0.383 |  0.597 |  1.000 |\n\n",
            "text/latex": "A matrix: 13 × 13 of type dbl\n\\begin{tabular}{r|lllllllllllll}\n  & birth\\_year & male & poverty & family\\_income & weeks\\_unemployed & urban & number\\_of\\_jobs\\_ever & number\\_children & age\\_at\\_first\\_child & hours\\_worked\\_in\\_week & education & educational\\_loans & edu\\_loan\\_quintile\\\\\n\\hline\n\tbirth\\_year &  1.000 &  0.008 &  0.096 &  0.060 &  0.025 & -0.014 &  0.136 &  0.057 &  0.037 &  0.043 & -0.043 &  0.059 &  0.077\\\\\n\tmale &  0.008 &  1.000 & -0.044 &  0.019 &  0.054 &  0.002 &  0.096 & -0.106 &  0.204 &  0.155 & -0.041 & -0.050 & -0.039\\\\\n\tpoverty &  0.096 & -0.044 &  1.000 & -0.178 &  0.055 &  0.005 & -0.031 &  0.011 & -0.212 & -0.017 & -0.133 & -0.020 & -0.071\\\\\n\tfamily\\_income &  0.060 &  0.019 & -0.178 &  1.000 & -0.140 &  0.034 & -0.075 &  0.140 &  0.345 &  0.016 &  0.335 &  0.103 &  0.150\\\\\n\tweeks\\_unemployed &  0.025 &  0.054 &  0.055 & -0.140 &  1.000 &  0.016 &  0.112 & -0.075 & -0.057 &  0.102 & -0.081 &  0.019 & -0.003\\\\\n\turban & -0.014 &  0.002 &  0.005 &  0.034 &  0.016 &  1.000 &  0.051 & -0.015 &  0.064 & -0.007 &  0.045 &  0.033 &  0.032\\\\\n\tnumber\\_of\\_jobs\\_ever &  0.136 &  0.096 & -0.031 & -0.075 &  0.112 &  0.051 &  1.000 & -0.071 &  0.074 &  0.223 &  0.052 &  0.103 &  0.120\\\\\n\tnumber\\_children &  0.057 & -0.106 &  0.011 &  0.140 & -0.075 & -0.015 & -0.071 &  1.000 & -0.044 & -0.039 &  0.088 & -0.014 &  0.027\\\\\n\tage\\_at\\_first\\_child &  0.037 &  0.204 & -0.212 &  0.345 & -0.057 &  0.064 &  0.074 & -0.044 &  1.000 &  0.026 &  0.340 &  0.047 &  0.140\\\\\n\thours\\_worked\\_in\\_week &  0.043 &  0.155 & -0.017 &  0.016 &  0.102 & -0.007 &  0.223 & -0.039 &  0.026 &  1.000 &  0.002 &  0.065 &  0.037\\\\\n\teducation & -0.043 & -0.041 & -0.133 &  0.335 & -0.081 &  0.045 &  0.052 &  0.088 &  0.340 &  0.002 &  1.000 &  0.287 &  0.383\\\\\n\teducational\\_loans &  0.059 & -0.050 & -0.020 &  0.103 &  0.019 &  0.033 &  0.103 & -0.014 &  0.047 &  0.065 &  0.287 &  1.000 &  0.597\\\\\n\tedu\\_loan\\_quintile &  0.077 & -0.039 & -0.071 &  0.150 & -0.003 &  0.032 &  0.120 &  0.027 &  0.140 &  0.037 &  0.383 &  0.597 &  1.000\\\\\n\\end{tabular}\n",
            "text/plain": [
              "                     birth_year male   poverty family_income weeks_unemployed\n",
              "birth_year            1.000      0.008  0.096   0.060         0.025          \n",
              "male                  0.008      1.000 -0.044   0.019         0.054          \n",
              "poverty               0.096     -0.044  1.000  -0.178         0.055          \n",
              "family_income         0.060      0.019 -0.178   1.000        -0.140          \n",
              "weeks_unemployed      0.025      0.054  0.055  -0.140         1.000          \n",
              "urban                -0.014      0.002  0.005   0.034         0.016          \n",
              "number_of_jobs_ever   0.136      0.096 -0.031  -0.075         0.112          \n",
              "number_children       0.057     -0.106  0.011   0.140        -0.075          \n",
              "age_at_first_child    0.037      0.204 -0.212   0.345        -0.057          \n",
              "hours_worked_in_week  0.043      0.155 -0.017   0.016         0.102          \n",
              "education            -0.043     -0.041 -0.133   0.335        -0.081          \n",
              "educational_loans     0.059     -0.050 -0.020   0.103         0.019          \n",
              "edu_loan_quintile     0.077     -0.039 -0.071   0.150        -0.003          \n",
              "                     urban  number_of_jobs_ever number_children\n",
              "birth_year           -0.014  0.136               0.057         \n",
              "male                  0.002  0.096              -0.106         \n",
              "poverty               0.005 -0.031               0.011         \n",
              "family_income         0.034 -0.075               0.140         \n",
              "weeks_unemployed      0.016  0.112              -0.075         \n",
              "urban                 1.000  0.051              -0.015         \n",
              "number_of_jobs_ever   0.051  1.000              -0.071         \n",
              "number_children      -0.015 -0.071               1.000         \n",
              "age_at_first_child    0.064  0.074              -0.044         \n",
              "hours_worked_in_week -0.007  0.223              -0.039         \n",
              "education             0.045  0.052               0.088         \n",
              "educational_loans     0.033  0.103              -0.014         \n",
              "edu_loan_quintile     0.032  0.120               0.027         \n",
              "                     age_at_first_child hours_worked_in_week education\n",
              "birth_year            0.037              0.043               -0.043   \n",
              "male                  0.204              0.155               -0.041   \n",
              "poverty              -0.212             -0.017               -0.133   \n",
              "family_income         0.345              0.016                0.335   \n",
              "weeks_unemployed     -0.057              0.102               -0.081   \n",
              "urban                 0.064             -0.007                0.045   \n",
              "number_of_jobs_ever   0.074              0.223                0.052   \n",
              "number_children      -0.044             -0.039                0.088   \n",
              "age_at_first_child    1.000              0.026                0.340   \n",
              "hours_worked_in_week  0.026              1.000                0.002   \n",
              "education             0.340              0.002                1.000   \n",
              "educational_loans     0.047              0.065                0.287   \n",
              "edu_loan_quintile     0.140              0.037                0.383   \n",
              "                     educational_loans edu_loan_quintile\n",
              "birth_year            0.059             0.077           \n",
              "male                 -0.050            -0.039           \n",
              "poverty              -0.020            -0.071           \n",
              "family_income         0.103             0.150           \n",
              "weeks_unemployed      0.019            -0.003           \n",
              "urban                 0.033             0.032           \n",
              "number_of_jobs_ever   0.103             0.120           \n",
              "number_children      -0.014             0.027           \n",
              "age_at_first_child    0.047             0.140           \n",
              "hours_worked_in_week  0.065             0.037           \n",
              "education             0.287             0.383           \n",
              "educational_loans     1.000             0.597           \n",
              "edu_loan_quintile     0.597             1.000           "
            ]
          },
          "metadata": {}
        }
      ],
      "id": "r2wyDYyU9pnt"
    },
    {
      "cell_type": "markdown",
      "source": [
        "**Study the correlations above. Choose two instances where the correlation is interesting or surprising to you. Explain your choices.**"
      ],
      "metadata": {
        "id": "CXIeXxvov08k"
      },
      "id": "CXIeXxvov08k"
    },
    {
      "cell_type": "markdown",
      "source": [
        "### Your answer here!\n",
        "\n",
        "### START\n",
        "\n",
        "Many possible answers!\n",
        "\n",
        "### END"
      ],
      "metadata": {
        "id": "ztjgQKfz1VjP"
      },
      "id": "ztjgQKfz1VjP"
    }
  ],
  "metadata": {
    "colab": {
      "provenance": [],
      "include_colab_link": true
    },
    "kernelspec": {
      "display_name": "R",
      "language": "R",
      "name": "ir"
    },
    "language_info": {
      "codemirror_mode": "r",
      "file_extension": ".r",
      "mimetype": "text/x-r-source",
      "name": "R",
      "pygments_lexer": "r",
      "version": "4.1.2"
    }
  },
  "nbformat": 4,
  "nbformat_minor": 5
}